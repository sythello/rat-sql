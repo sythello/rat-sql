{
 "cells": [
  {
   "cell_type": "code",
   "execution_count": 1,
   "metadata": {},
   "outputs": [],
   "source": [
    "import json\n",
    "import os, sys\n",
    "from sys import modules\n",
    "import re\n",
    "import _jsonnet\n",
    "from tqdm.notebook import tqdm\n",
    "import spacy\n",
    "import networkx as nx\n",
    "import numpy as np\n",
    "import random\n",
    "import importlib\n",
    "from copy import deepcopy\n",
    "import editdistance\n",
    "import datetime\n",
    "from collections import Counter, defaultdict\n",
    "import sqlite3\n",
    "import time\n",
    "import pickle\n",
    "\n",
    "from sklearn.linear_model import LogisticRegression\n",
    "\n",
    "from nltk.translate.bleu_score import corpus_bleu\n",
    "from nltk.tokenize.treebank import TreebankWordDetokenizer\n",
    "\n",
    "import torch\n",
    "\n",
    "from ratsql.utils import registry, batched_sequence\n",
    "from ratsql.commands.infer import Inferer\n",
    "from ratsql.datasets.spider import SpiderDataset, SpiderItem, Column, Table, Schema\n",
    "\n",
    "from language.xsp.data_preprocessing import spider_preprocessing, wikisql_preprocessing, michigan_preprocessing\n",
    "\n",
    "from sdr_analysis.helpers.general_helpers import collect_link_prediction_samples, db_dict_to_general_fmt\n",
    "from sdr_analysis.helpers.ratsql_helpers import general_fmt_dict_to_ratsql_schema, extract_probing_samples_link_prediction_new\n",
    "from sdr_analysis.helpers.legacy import db_dict_to_ratsql_schema, extract_probing_samples_link_prediction\n",
    "\n"
   ]
  },
  {
   "cell_type": "code",
   "execution_count": null,
   "metadata": {},
   "outputs": [],
   "source": []
  },
  {
   "cell_type": "markdown",
   "metadata": {},
   "source": [
    "## Read data - Schema"
   ]
  },
  {
   "cell_type": "markdown",
   "metadata": {},
   "source": [
    "### Original way (spider)"
   ]
  },
  {
   "cell_type": "code",
   "execution_count": null,
   "metadata": {},
   "outputs": [],
   "source": [
    "root_dir='/Users/mac/Desktop/syt/Deep-Learning/Repos/rat-sql'\n",
    "exp_config_path='/Users/mac/Desktop/syt/Deep-Learning/Repos/rat-sql/experiments/spider-glove-ASR-run.jsonnet'\n",
    "model_dir='/Users/mac/Desktop/syt/Deep-Learning/Repos/rat-sql/logdir/glove_ASR_run/ASR,bs=20,lr=7.4e-04,end_lr=0e0,att=0'\n",
    "checkpoint_step=40000"
   ]
  },
  {
   "cell_type": "code",
   "execution_count": null,
   "metadata": {},
   "outputs": [],
   "source": [
    "exp_config = json.loads(_jsonnet.evaluate_file(exp_config_path))\n",
    "\n",
    "model_config_path = os.path.join(root_dir, exp_config[\"model_config\"])\n",
    "model_config_args = exp_config.get(\"model_config_args\")\n",
    "\n",
    "infer_config = json.loads(_jsonnet.evaluate_file(model_config_path, tla_codes={'args': json.dumps(model_config_args)}))\n"
   ]
  },
  {
   "cell_type": "code",
   "execution_count": null,
   "metadata": {
    "scrolled": true
   },
   "outputs": [],
   "source": [
    "infer_config"
   ]
  },
  {
   "cell_type": "code",
   "execution_count": null,
   "metadata": {},
   "outputs": [],
   "source": [
    "dataset = SpiderDataset(\n",
    "    db_path='data/spider/database',\n",
    "    paths=['data/spider/my/train/train_asr_amazon.json'],\n",
    "    tables_paths=['data/spider/tables.json'],\n",
    ")"
   ]
  },
  {
   "cell_type": "code",
   "execution_count": null,
   "metadata": {},
   "outputs": [],
   "source": [
    "dataset[0].schema.__dict__"
   ]
  },
  {
   "cell_type": "markdown",
   "metadata": {},
   "source": [
    "### New way (for XSP)"
   ]
  },
  {
   "cell_type": "code",
   "execution_count": 4,
   "metadata": {},
   "outputs": [],
   "source": [
    "## assume that re.split(r'[_ ]', orig_col_name) == col_name"
   ]
  },
  {
   "cell_type": "code",
   "execution_count": 5,
   "metadata": {},
   "outputs": [],
   "source": [
    "xsp_data_dir = \"/Users/mac/Desktop/syt/Deep-Learning/Repos/Google-Research-Language/language/language/xsp/data\"\n",
    "\n",
    "spider_tables_path = os.path.join(xsp_data_dir, 'spider', 'tables.json')\n",
    "\n",
    "spider_dbs_dict = spider_preprocessing.load_spider_tables(spider_tables_path)"
   ]
  },
  {
   "cell_type": "code",
   "execution_count": 6,
   "metadata": {},
   "outputs": [
    {
     "data": {
      "text/plain": [
       "dict_keys(['perpetrator', 'college_2', 'flight_company', 'icfp_1', 'body_builder', 'storm_record', 'pilot_record', 'race_track', 'academic', 'department_store', 'music_4', 'insurance_fnol', 'cinema', 'decoration_competition', 'phone_market', 'store_product', 'assets_maintenance', 'student_assessment', 'dog_kennels', 'music_1', 'company_employee', 'farm', 'solvency_ii', 'city_record', 'swimming', 'flight_2', 'election', 'manufactory_1', 'debate', 'network_2', 'local_govt_in_alabama', 'climbing', 'e_learning', 'scientist_1', 'ship_1', 'entertainment_awards', 'allergy_1', 'imdb', 'products_for_hire', 'candidate_poll', 'chinook_1', 'flight_4', 'pets_1', 'dorm_1', 'journal_committee', 'flight_1', 'medicine_enzyme_interaction', 'local_govt_and_lot', 'station_weather', 'shop_membership', 'driving_school', 'concert_singer', 'music_2', 'sports_competition', 'railway', 'inn_1', 'museum_visit', 'browser_web', 'baseball_1', 'architecture', 'csu_1', 'tracking_orders', 'insurance_policies', 'gas_company', 'e_government', 'school_bus', 'machine_repair', 'theme_gallery', 'film_rank', 'party_people', 'hospital_1', 'customers_campaigns_ecommerce', 'gymnast', 'restaurants', 'mountain_photos', 'battle_death', 'cre_Doc_Control_Systems', 'tracking_share_transactions', 'apartment_rentals', 'student_transcripts_tracking', 'cre_Docs_and_Epenses', 'ship_mission', 'company_office', 'tracking_software_problems', 'products_gen_characteristics', 'coffee_shop', 'riding_club', 'customers_card_transactions', 'county_public_safety', 'performance_attendance', 'club_1', 'singer', 'culture_company', 'cre_Doc_Template_Mgt', 'musical', 'world_1', 'device', 'tracking_grants_for_research', 'employee_hire_evaluation', 'movie_1', 'network_1', 'poker_player', 'program_share', 'aircraft', 'restaurant_1', 'customers_and_invoices', 'insurance_and_eClaims', 'college_1', 'local_govt_mdm', 'book_2', 'hr_1', 'soccer_1', 'sakila_1', 'real_estate_properties', 'college_3', 'course_teach', 'roller_coaster', 'customer_deliveries', 'game_injury', 'school_finance', 'scholar', 'voter_1', 'match_season', 'small_bank_1', 'wta_1', 'yelp', 'student_1', 'manufacturer', 'store_1', 'train_station', 'document_management', 'formula_1', 'game_1', 'loan_1', 'bike_1', 'entrepreneur', 'orchestra', 'cre_Drama_Workshop_Groups', 'car_1', 'geo', 'behavior_monitoring', 'cre_Doc_Tracking_DB', 'university_basketball', 'soccer_2', 'activity_1', 'cre_Theme_park', 'twitter_1', 'election_representative', 'voter_2', 'wedding', 'news_report', 'wine_1', 'customers_and_addresses', 'protein_institute', 'school_player', 'phone_1', 'tvshow', 'wrestler', 'customer_complaints', 'department_management', 'customers_and_products_contacts', 'company_1', 'workshop_paper', 'epinions_1', 'party_host', 'product_catalog'])"
      ]
     },
     "execution_count": 6,
     "metadata": {},
     "output_type": "execute_result"
    }
   ],
   "source": [
    "spider_dbs_dict.keys()"
   ]
  },
  {
   "cell_type": "code",
   "execution_count": 22,
   "metadata": {},
   "outputs": [
    {
     "data": {
      "text/plain": [
       "('www3 id', 'home town', 'w/l')"
      ]
     },
     "execution_count": 22,
     "metadata": {},
     "output_type": "execute_result"
    }
   ],
   "source": [
    "# def _get_clean_name(orig_name):\n",
    "#     return ' '.join(re.split(r'[_ ]', orig_name.lower()))\n",
    "\n",
    "# _get_clean_name('WWW3_ID'), _get_clean_name('Home Town'), _get_clean_name('W/L')"
   ]
  },
  {
   "cell_type": "code",
   "execution_count": 23,
   "metadata": {
    "scrolled": true
   },
   "outputs": [
    {
     "data": {
      "text/plain": [
       "{'actor': [{'field name': 'aid',\n",
       "   'is primary key': True,\n",
       "   'is foreign key': True,\n",
       "   'type': 'number'},\n",
       "  {'field name': 'gender',\n",
       "   'is primary key': False,\n",
       "   'is foreign key': False,\n",
       "   'type': 'text'},\n",
       "  {'field name': 'name',\n",
       "   'is primary key': False,\n",
       "   'is foreign key': False,\n",
       "   'type': 'text'},\n",
       "  {'field name': 'nationality',\n",
       "   'is primary key': False,\n",
       "   'is foreign key': False,\n",
       "   'type': 'text'},\n",
       "  {'field name': 'birth_city',\n",
       "   'is primary key': False,\n",
       "   'is foreign key': False,\n",
       "   'type': 'text'},\n",
       "  {'field name': 'birth_year',\n",
       "   'is primary key': False,\n",
       "   'is foreign key': False,\n",
       "   'type': 'number'}],\n",
       " 'copyright': [{'field name': 'id',\n",
       "   'is primary key': True,\n",
       "   'is foreign key': False,\n",
       "   'type': 'number'},\n",
       "  {'field name': 'msid',\n",
       "   'is primary key': False,\n",
       "   'is foreign key': True,\n",
       "   'type': 'number'},\n",
       "  {'field name': 'cid',\n",
       "   'is primary key': False,\n",
       "   'is foreign key': False,\n",
       "   'type': 'number'}],\n",
       " 'cast': [{'field name': 'id',\n",
       "   'is primary key': True,\n",
       "   'is foreign key': False,\n",
       "   'type': 'number'},\n",
       "  {'field name': 'msid',\n",
       "   'is primary key': False,\n",
       "   'is foreign key': True,\n",
       "   'type': 'number'},\n",
       "  {'field name': 'aid',\n",
       "   'is primary key': False,\n",
       "   'is foreign key': True,\n",
       "   'type': 'number'},\n",
       "  {'field name': 'role',\n",
       "   'is primary key': False,\n",
       "   'is foreign key': False,\n",
       "   'type': 'number'}],\n",
       " 'genre': [{'field name': 'gid',\n",
       "   'is primary key': True,\n",
       "   'is foreign key': True,\n",
       "   'type': 'number'},\n",
       "  {'field name': 'genre',\n",
       "   'is primary key': False,\n",
       "   'is foreign key': False,\n",
       "   'type': 'text'}],\n",
       " 'classification': [{'field name': 'id',\n",
       "   'is primary key': True,\n",
       "   'is foreign key': False,\n",
       "   'type': 'number'},\n",
       "  {'field name': 'msid',\n",
       "   'is primary key': False,\n",
       "   'is foreign key': True,\n",
       "   'type': 'number'},\n",
       "  {'field name': 'gid',\n",
       "   'is primary key': False,\n",
       "   'is foreign key': True,\n",
       "   'type': 'number'}],\n",
       " 'company': [{'field name': 'id',\n",
       "   'is primary key': True,\n",
       "   'is foreign key': False,\n",
       "   'type': 'number'},\n",
       "  {'field name': 'name',\n",
       "   'is primary key': False,\n",
       "   'is foreign key': False,\n",
       "   'type': 'text'},\n",
       "  {'field name': 'country_code',\n",
       "   'is primary key': False,\n",
       "   'is foreign key': False,\n",
       "   'type': 'text'}],\n",
       " 'director': [{'field name': 'did',\n",
       "   'is primary key': True,\n",
       "   'is foreign key': True,\n",
       "   'type': 'number'},\n",
       "  {'field name': 'gender',\n",
       "   'is primary key': False,\n",
       "   'is foreign key': False,\n",
       "   'type': 'text'},\n",
       "  {'field name': 'name',\n",
       "   'is primary key': False,\n",
       "   'is foreign key': False,\n",
       "   'type': 'text'},\n",
       "  {'field name': 'nationality',\n",
       "   'is primary key': False,\n",
       "   'is foreign key': False,\n",
       "   'type': 'text'},\n",
       "  {'field name': 'birth_city',\n",
       "   'is primary key': False,\n",
       "   'is foreign key': False,\n",
       "   'type': 'text'},\n",
       "  {'field name': 'birth_year',\n",
       "   'is primary key': False,\n",
       "   'is foreign key': False,\n",
       "   'type': 'number'}],\n",
       " 'producer': [{'field name': 'pid',\n",
       "   'is primary key': True,\n",
       "   'is foreign key': True,\n",
       "   'type': 'number'},\n",
       "  {'field name': 'gender',\n",
       "   'is primary key': False,\n",
       "   'is foreign key': False,\n",
       "   'type': 'text'},\n",
       "  {'field name': 'name',\n",
       "   'is primary key': False,\n",
       "   'is foreign key': False,\n",
       "   'type': 'text'},\n",
       "  {'field name': 'nationality',\n",
       "   'is primary key': False,\n",
       "   'is foreign key': False,\n",
       "   'type': 'text'},\n",
       "  {'field name': 'birth_city',\n",
       "   'is primary key': False,\n",
       "   'is foreign key': False,\n",
       "   'type': 'text'},\n",
       "  {'field name': 'birth_year',\n",
       "   'is primary key': False,\n",
       "   'is foreign key': False,\n",
       "   'type': 'number'}],\n",
       " 'directed_by': [{'field name': 'id',\n",
       "   'is primary key': True,\n",
       "   'is foreign key': False,\n",
       "   'type': 'number'},\n",
       "  {'field name': 'msid',\n",
       "   'is primary key': False,\n",
       "   'is foreign key': True,\n",
       "   'type': 'number'},\n",
       "  {'field name': 'did',\n",
       "   'is primary key': False,\n",
       "   'is foreign key': True,\n",
       "   'type': 'number'}],\n",
       " 'keyword': [{'field name': 'id',\n",
       "   'is primary key': True,\n",
       "   'is foreign key': False,\n",
       "   'type': 'number'},\n",
       "  {'field name': 'keyword',\n",
       "   'is primary key': False,\n",
       "   'is foreign key': False,\n",
       "   'type': 'text'}],\n",
       " 'made_by': [{'field name': 'id',\n",
       "   'is primary key': True,\n",
       "   'is foreign key': False,\n",
       "   'type': 'number'},\n",
       "  {'field name': 'msid',\n",
       "   'is primary key': False,\n",
       "   'is foreign key': True,\n",
       "   'type': 'number'},\n",
       "  {'field name': 'pid',\n",
       "   'is primary key': False,\n",
       "   'is foreign key': True,\n",
       "   'type': 'number'}],\n",
       " 'movie': [{'field name': 'mid',\n",
       "   'is primary key': True,\n",
       "   'is foreign key': False,\n",
       "   'type': 'number'},\n",
       "  {'field name': 'title',\n",
       "   'is primary key': False,\n",
       "   'is foreign key': False,\n",
       "   'type': 'text'},\n",
       "  {'field name': 'release_year',\n",
       "   'is primary key': False,\n",
       "   'is foreign key': False,\n",
       "   'type': 'number'},\n",
       "  {'field name': 'title_aka',\n",
       "   'is primary key': False,\n",
       "   'is foreign key': False,\n",
       "   'type': 'text'},\n",
       "  {'field name': 'budget',\n",
       "   'is primary key': False,\n",
       "   'is foreign key': False,\n",
       "   'type': 'text'}],\n",
       " 'tags': [{'field name': 'id',\n",
       "   'is primary key': True,\n",
       "   'is foreign key': False,\n",
       "   'type': 'number'},\n",
       "  {'field name': 'msid',\n",
       "   'is primary key': False,\n",
       "   'is foreign key': True,\n",
       "   'type': 'number'},\n",
       "  {'field name': 'kid',\n",
       "   'is primary key': False,\n",
       "   'is foreign key': False,\n",
       "   'type': 'number'}],\n",
       " 'tv_series': [{'field name': 'sid',\n",
       "   'is primary key': True,\n",
       "   'is foreign key': False,\n",
       "   'type': 'number'},\n",
       "  {'field name': 'title',\n",
       "   'is primary key': False,\n",
       "   'is foreign key': False,\n",
       "   'type': 'text'},\n",
       "  {'field name': 'release_year',\n",
       "   'is primary key': False,\n",
       "   'is foreign key': False,\n",
       "   'type': 'number'},\n",
       "  {'field name': 'num_of_seasons',\n",
       "   'is primary key': False,\n",
       "   'is foreign key': False,\n",
       "   'type': 'number'},\n",
       "  {'field name': 'num_of_episodes',\n",
       "   'is primary key': False,\n",
       "   'is foreign key': False,\n",
       "   'type': 'number'},\n",
       "  {'field name': 'title_aka',\n",
       "   'is primary key': False,\n",
       "   'is foreign key': False,\n",
       "   'type': 'text'},\n",
       "  {'field name': 'budget',\n",
       "   'is primary key': False,\n",
       "   'is foreign key': False,\n",
       "   'type': 'text'}],\n",
       " 'writer': [{'field name': 'wid',\n",
       "   'is primary key': True,\n",
       "   'is foreign key': True,\n",
       "   'type': 'number'},\n",
       "  {'field name': 'gender',\n",
       "   'is primary key': False,\n",
       "   'is foreign key': False,\n",
       "   'type': 'text'},\n",
       "  {'field name': 'name',\n",
       "   'is primary key': False,\n",
       "   'is foreign key': False,\n",
       "   'type': 'number'},\n",
       "  {'field name': 'nationality',\n",
       "   'is primary key': False,\n",
       "   'is foreign key': False,\n",
       "   'type': 'number'},\n",
       "  {'field name': 'num_of_episodes',\n",
       "   'is primary key': False,\n",
       "   'is foreign key': False,\n",
       "   'type': 'number'},\n",
       "  {'field name': 'birth_city',\n",
       "   'is primary key': False,\n",
       "   'is foreign key': False,\n",
       "   'type': 'text'},\n",
       "  {'field name': 'birth_year',\n",
       "   'is primary key': False,\n",
       "   'is foreign key': False,\n",
       "   'type': 'number'}],\n",
       " 'written_by': [{'field name': 'id',\n",
       "   'is primary key': False,\n",
       "   'is foreign key': False,\n",
       "   'type': 'number'},\n",
       "  {'field name': 'msid',\n",
       "   'is primary key': False,\n",
       "   'is foreign key': True,\n",
       "   'type': 'number'},\n",
       "  {'field name': 'wid',\n",
       "   'is primary key': False,\n",
       "   'is foreign key': True,\n",
       "   'type': 'number'}]}"
      ]
     },
     "execution_count": 23,
     "metadata": {},
     "output_type": "execute_result"
    }
   ],
   "source": [
    "db_id = 'imdb'\n",
    "db_dict = spider_dbs_dict[db_id]\n",
    "db_dict"
   ]
  },
  {
   "cell_type": "code",
   "execution_count": 24,
   "metadata": {
    "scrolled": true
   },
   "outputs": [],
   "source": [
    "# test_db_dict = dict()\n",
    "# for table_name, table_cols in db_dict.items():\n",
    "#     test_db_dict[table_name] = table_cols[:2]\n",
    "# test_db_dict"
   ]
  },
  {
   "cell_type": "code",
   "execution_count": null,
   "metadata": {
    "scrolled": true
   },
   "outputs": [],
   "source": [
    "test_schema = db_dict_to_ratsql_schema(db_dict, db_id,\n",
    "                                       sqlite_path=f\"/Users/mac/Desktop/syt/Deep-Learning/Repos/Google-Research-Language/language/language/xsp/data/spider/database/{db_id}/{db_id}.sqlite\",\n",
    "                                       rigorous_foreign_key=True,\n",
    "                                       debug=True)\n",
    "test_schema"
   ]
  },
  {
   "cell_type": "code",
   "execution_count": null,
   "metadata": {
    "scrolled": true
   },
   "outputs": [],
   "source": [
    "test_general_fmt_dict = db_dict_to_general_fmt(db_dict, db_id,\n",
    "                                               sqlite_path=f\"/Users/mac/Desktop/syt/Deep-Learning/Repos/Google-Research-Language/language/language/xsp/data/spider/database/{db_id}/{db_id}.sqlite\",\n",
    "                                               rigorous_foreign_key=True,\n",
    "                                               debug=True)\n",
    "test_general_fmt_dict"
   ]
  },
  {
   "cell_type": "code",
   "execution_count": null,
   "metadata": {},
   "outputs": [],
   "source": [
    "test_schema_2 = general_fmt_dict_to_ratsql_schema(test_general_fmt_dict,\n",
    "                                                  debug=True)\n",
    "test_schema_2"
   ]
  },
  {
   "cell_type": "code",
   "execution_count": 27,
   "metadata": {},
   "outputs": [
    {
     "data": {
      "text/plain": [
       "(True, True)"
      ]
     },
     "execution_count": 27,
     "metadata": {},
     "output_type": "execute_result"
    }
   ],
   "source": [
    "str(test_schema.tables) == str(test_schema_2.tables), \\\n",
    "str(test_schema.columns) == str(test_schema_2.columns)"
   ]
  },
  {
   "cell_type": "code",
   "execution_count": null,
   "metadata": {},
   "outputs": [],
   "source": []
  },
  {
   "cell_type": "markdown",
   "metadata": {},
   "source": [
    "## Load model\n",
    "- TODO: use unified way to load schema"
   ]
  },
  {
   "cell_type": "code",
   "execution_count": 33,
   "metadata": {},
   "outputs": [],
   "source": [
    "def Load_Rat_sql(root_dir,\n",
    "                 exp_config_path,\n",
    "                 model_dir,\n",
    "                 checkpoint_step=40000):\n",
    "\n",
    "    exp_config = json.loads(_jsonnet.evaluate_file(exp_config_path))\n",
    "    \n",
    "    model_config_path = os.path.join(root_dir, exp_config[\"model_config\"])\n",
    "    model_config_args = exp_config.get(\"model_config_args\")\n",
    "    \n",
    "    infer_config = json.loads(_jsonnet.evaluate_file(model_config_path, tla_codes={'args': json.dumps(model_config_args)}))\n",
    "\n",
    "    inferer = Inferer(infer_config)\n",
    "    inferer.device = torch.device(\"cpu\")\n",
    "    model = inferer.load_model(model_dir, checkpoint_step)\n",
    "    \n",
    "#     dataset = registry.construct('dataset', inferer.config['data']['val'])\n",
    "#     for _, schema in dataset.schemas.items():\n",
    "#         model.preproc.enc_preproc._preprocess_schema(schema)\n",
    "    \n",
    "    _ret_dict = {\n",
    "        'model': model,\n",
    "        'inferer': inferer,\n",
    "    }\n",
    "    \n",
    "    return _ret_dict\n",
    "    "
   ]
  },
  {
   "cell_type": "code",
   "execution_count": 34,
   "metadata": {},
   "outputs": [
    {
     "name": "stderr",
     "output_type": "stream",
     "text": [
      "WARNING <class 'ratsql.models.enc_dec.EncDecModel.Preproc'>: superfluous {'name': 'EncDec'}\n",
      "WARNING <class 'ratsql.models.enc_dec.EncDecModel'>: superfluous {'decoder_preproc': {'grammar': {'clause_order': None, 'end_with_from': True, 'factorize_sketch': 2, 'include_literals': False, 'infer_from_conditions': True, 'name': 'spider', 'output_from': True, 'use_table_pointer': True}, 'max_count': 5000, 'min_freq': 4, 'save_path': 'data/spider/nl2code-glove,cv_link=true', 'use_seq_elem_rules': True}, 'encoder_preproc': {'compute_cv_link': True, 'compute_sc_link': True, 'count_tokens_in_word_emb_for_vocab': True, 'db_path': 'data/spider/database', 'fix_issue_16_primary_keys': True, 'include_table_name_in_column': False, 'max_count': 5000, 'min_freq': 4, 'save_path': 'data/spider/nl2code-glove,cv_link=true', 'word_emb': {'kind': '42B', 'lemmatize': True, 'name': 'glove'}}}\n"
     ]
    },
    {
     "name": "stdout",
     "output_type": "stream",
     "text": [
      "Loading model from /Users/mac/Desktop/syt/Deep-Learning/Repos/rat-sql/logdir/glove_run/bs=20,lr=7.4e-04,end_lr=0e0,att=0/model_checkpoint-00040000\n"
     ]
    }
   ],
   "source": [
    "rat_sql_model_dict = Load_Rat_sql(root_dir='/Users/mac/Desktop/syt/Deep-Learning/Repos/rat-sql',\n",
    "                                  exp_config_path='/Users/mac/Desktop/syt/Deep-Learning/Repos/rat-sql/experiments/spider-glove-run.jsonnet',\n",
    "                                  model_dir='/Users/mac/Desktop/syt/Deep-Learning/Repos/rat-sql/logdir/glove_run/bs=20,lr=7.4e-04,end_lr=0e0,att=0',\n",
    "                                  checkpoint_step=40000)"
   ]
  },
  {
   "cell_type": "code",
   "execution_count": null,
   "metadata": {},
   "outputs": [],
   "source": [
    "rat_sql_model_dict['model']"
   ]
  },
  {
   "cell_type": "code",
   "execution_count": 36,
   "metadata": {},
   "outputs": [],
   "source": [
    "def Question(q, db_schema, model_dict):\n",
    "    model = model_dict['model']\n",
    "    inferer = model_dict['inferer']\n",
    "    \n",
    "    data_item = SpiderItem(\n",
    "        text=None,  # intentionally None -- should be ignored when the tokenizer is set correctly\n",
    "        code=None,\n",
    "        schema=db_schema,\n",
    "        orig_schema=db_schema.orig,\n",
    "        orig={\"question\": q}\n",
    "    )\n",
    "    \n",
    "    model.preproc.clear_items()\n",
    "    enc_input = model.preproc.enc_preproc.preprocess_item(data_item, None)\n",
    "    preproc_data = enc_input, None\n",
    "    \n",
    "    with torch.no_grad():\n",
    "        return inferer._infer_one(model, data_item, preproc_data, beam_size=1, use_heuristic=True)\n",
    "    "
   ]
  },
  {
   "cell_type": "code",
   "execution_count": null,
   "metadata": {},
   "outputs": [],
   "source": [
    "Question('name of people', test_schema, rat_sql_model_dict)"
   ]
  },
  {
   "cell_type": "markdown",
   "metadata": {},
   "source": [
    "## Infer on WikiSQL"
   ]
  },
  {
   "cell_type": "code",
   "execution_count": 17,
   "metadata": {},
   "outputs": [],
   "source": [
    "wikisql_tables_path = os.path.join(xsp_data_dir, 'wikisql', 'dev.tables.jsonl')\n",
    "wikisql_dataset_path = os.path.join(xsp_data_dir, 'wikisql', 'dev.jsonl')\n",
    "wikisql_sqlite_path = os.path.join(xsp_data_dir, 'wikisql', 'dev.db')"
   ]
  },
  {
   "cell_type": "code",
   "execution_count": 18,
   "metadata": {},
   "outputs": [
    {
     "data": {
      "text/plain": [
       "(2716, 8421)"
      ]
     },
     "execution_count": 18,
     "metadata": {},
     "output_type": "execute_result"
    }
   ],
   "source": [
    "wikisql_dbs_dict = wikisql_preprocessing.load_wikisql_tables(wikisql_tables_path)\n",
    "\n",
    "with open(wikisql_dataset_path, 'r') as f:\n",
    "    wikisql_dataset = [json.loads(l) for l in f]\n",
    "\n",
    "len(wikisql_dbs_dict), len(wikisql_dataset)"
   ]
  },
  {
   "cell_type": "code",
   "execution_count": null,
   "metadata": {},
   "outputs": [],
   "source": [
    "## too many duplicated sqlite connections, not ok\n",
    "# wikisql_schemas_dict = dict()\n",
    "# for db_id, db_dict in wikisql_dbs_dict.items():\n",
    "#     wikisql_schemas_dict[db_id] = db_dict_to_ratsql_schema(db_dict, db_id, wikisql_sqlite_path)"
   ]
  },
  {
   "cell_type": "code",
   "execution_count": 19,
   "metadata": {},
   "outputs": [
    {
     "data": {
      "text/plain": [
       "{'phase': 1,\n",
       " 'table_id': '1-10015132-11',\n",
       " 'question': 'What position does the player who played for butler cc (ks) play?',\n",
       " 'sql': {'sel': 3, 'conds': [[5, 0, 'Butler CC (KS)']], 'agg': 0}}"
      ]
     },
     "execution_count": 19,
     "metadata": {},
     "output_type": "execute_result"
    }
   ],
   "source": [
    "wikisql_dataset[0]"
   ]
  },
  {
   "cell_type": "code",
   "execution_count": 20,
   "metadata": {},
   "outputs": [],
   "source": [
    "sample = wikisql_dataset[0]\n",
    "db_id = sample['table_id']\n",
    "db_dict = wikisql_dbs_dict[db_id]\n",
    "db_schema = db_dict_to_ratsql_schema(db_dict, db_id, wikisql_sqlite_path)"
   ]
  },
  {
   "cell_type": "code",
   "execution_count": 22,
   "metadata": {},
   "outputs": [
    {
     "data": {
      "text/plain": [
       "[{'orig_question': 'What position does the player who played for butler cc (ks) play?',\n",
       "  'model_output': {'_type': 'sql',\n",
       "   'select': {'_type': 'select',\n",
       "    'is_distinct': False,\n",
       "    'aggs': [{'_type': 'agg',\n",
       "      'agg_id': {'_type': 'NoneAggOp'},\n",
       "      'val_unit': {'_type': 'Column',\n",
       "       'col_unit1': {'_type': 'col_unit',\n",
       "        'agg_id': {'_type': 'NoneAggOp'},\n",
       "        'col_id': 4,\n",
       "        'is_distinct': False}}},\n",
       "     {'_type': 'agg',\n",
       "      'agg_id': {'_type': 'NoneAggOp'},\n",
       "      'val_unit': {'_type': 'Column',\n",
       "       'col_unit1': {'_type': 'col_unit',\n",
       "        'agg_id': {'_type': 'NoneAggOp'},\n",
       "        'col_id': 1,\n",
       "        'is_distinct': False}}}]},\n",
       "   'sql_where': {'_type': 'sql_where',\n",
       "    'where': {'_type': 'Eq',\n",
       "     'val_unit': {'_type': 'Column',\n",
       "      'col_unit1': {'_type': 'col_unit',\n",
       "       'agg_id': {'_type': 'NoneAggOp'},\n",
       "       'col_id': 1,\n",
       "       'is_distinct': False}},\n",
       "     'val1': {'_type': 'Terminal'}}},\n",
       "   'sql_groupby': {'_type': 'sql_groupby'},\n",
       "   'sql_orderby': {'_type': 'sql_orderby', 'limit': False},\n",
       "   'sql_ieu': {'_type': 'sql_ieu'},\n",
       "   'from': {'_type': 'from',\n",
       "    'table_units': [{'_type': 'Table', 'table_id': 0}]}},\n",
       "  'inferred_code': \"SELECT L.POSITION, L.PLAYER FROM L WHERE L.PLAYER = 'terminal'\",\n",
       "  'score': -0.19889186806208414}]"
      ]
     },
     "execution_count": 22,
     "metadata": {},
     "output_type": "execute_result"
    }
   ],
   "source": [
    "Question(q=sample['question'], db_schema=db_schema, model_dict=rat_sql_model_dict)"
   ]
  },
  {
   "cell_type": "markdown",
   "metadata": {},
   "source": [
    "## Infer on Michigan"
   ]
  },
  {
   "cell_type": "code",
   "execution_count": 24,
   "metadata": {},
   "outputs": [],
   "source": [
    "atis_table_path = os.path.join(xsp_data_dir, 'atis', 'atis_schema.csv')\n",
    "atis_dataset_path = os.path.join(xsp_data_dir, 'atis', 'atis.json')\n",
    "atis_sqlite_path = os.path.join(xsp_data_dir, 'databases', 'atis.db')"
   ]
  },
  {
   "cell_type": "code",
   "execution_count": 25,
   "metadata": {},
   "outputs": [
    {
     "data": {
      "text/plain": [
       "(25, 947)"
      ]
     },
     "execution_count": 25,
     "metadata": {},
     "output_type": "execute_result"
    }
   ],
   "source": [
    "atis_db_dict = michigan_preprocessing.read_schema(atis_table_path)\n",
    "\n",
    "with open(atis_dataset_path, 'r') as f:\n",
    "    atis_dataset = json.load(f)\n",
    "\n",
    "len(atis_db_dict), len(atis_dataset)"
   ]
  },
  {
   "cell_type": "code",
   "execution_count": 27,
   "metadata": {},
   "outputs": [
    {
     "name": "stdout",
     "output_type": "stream",
     "text": [
      "Warning: AIRCRAFT_CODE, no primary key found\n",
      "Warning: AIRLINE_CODE, no primary key found\n",
      "Warning: AIRPORT_CODE, no primary key found\n",
      "Warning: CITY_CODE, no primary key found\n",
      "Warning: STATE_CODE, no primary key found\n",
      "Warning: DAY_NAME, no primary key found\n",
      "Warning: DAYS_CODE, no primary key found\n",
      "Warning: AIRCRAFT_CODE_SEQUENCE, no primary key found\n",
      "Warning: FROM_AIRPORT, no primary key found\n",
      "Warning: TO_AIRPORT, no primary key found\n",
      "Warning: FARE_BASIS_CODE, no primary key found\n",
      "Warning: RESTRICTION_CODE, no primary key found\n",
      "Warning: BASIS_DAYS, no primary key found\n",
      "Warning: FLIGHT_DAYS, no primary key found\n",
      "Warning: MEAL_CODE, no primary key found\n",
      "Warning: LEG_FLIGHT, no primary key found\n",
      "Warning: STOP_AIRPORT, no primary key found\n"
     ]
    }
   ],
   "source": [
    "atis_schema = db_dict_to_ratsql_schema(atis_db_dict, 'atis', atis_sqlite_path)"
   ]
  },
  {
   "cell_type": "code",
   "execution_count": 26,
   "metadata": {
    "scrolled": true
   },
   "outputs": [
    {
     "data": {
      "text/plain": [
       "{'comments': [],\n",
       " 'old-name': '',\n",
       " 'query-split': 'train',\n",
       " 'sentences': [{'text': 'list all the flights that arrive at airport_code0 from various cities',\n",
       "   'question-split': 'train',\n",
       "   'variables': {'airport_code0': 'MKE'}},\n",
       "  {'text': 'what flights from any city land at airport_code0',\n",
       "   'question-split': 'train',\n",
       "   'variables': {'airport_code0': 'MKE'}},\n",
       "  {'text': 'show me the flights into airport_code0',\n",
       "   'question-split': 'train',\n",
       "   'variables': {'airport_code0': 'DAL'}},\n",
       "  {'text': 'show me the flights arriving at airport_code0',\n",
       "   'question-split': 'train',\n",
       "   'variables': {'airport_code0': 'DAL'}},\n",
       "  {'text': 'list all the flights that arrive at airport_code0',\n",
       "   'question-split': 'train',\n",
       "   'variables': {'airport_code0': 'MKE'}},\n",
       "  {'text': 'list all the arriving flights at airport_code0',\n",
       "   'question-split': 'train',\n",
       "   'variables': {'airport_code0': 'MKE'}},\n",
       "  {'text': 'what flights land at airport_code0',\n",
       "   'question-split': 'train',\n",
       "   'variables': {'airport_code0': 'MKE'}},\n",
       "  {'text': 'show me the flights to airport_code0',\n",
       "   'question-split': 'train',\n",
       "   'variables': {'airport_code0': 'DAL'}},\n",
       "  {'text': 'list all the landings at airport_code0',\n",
       "   'question-split': 'train',\n",
       "   'variables': {'airport_code0': 'MKE'}},\n",
       "  {'text': 'show me the flights into airport_code0',\n",
       "   'question-split': 'train',\n",
       "   'variables': {'airport_code0': 'DAL'}},\n",
       "  {'text': 'list all the landings at airport_code0',\n",
       "   'question-split': 'train',\n",
       "   'variables': {'airport_code0': 'MKE'}},\n",
       "  {'text': 'list all flights arriving at airport_code0',\n",
       "   'question-split': 'train',\n",
       "   'variables': {'airport_code0': 'MKE'}},\n",
       "  {'text': 'show me the flights arriving at airport_code0',\n",
       "   'question-split': 'train',\n",
       "   'variables': {'airport_code0': 'DAL'}},\n",
       "  {'text': 'list all the flights that fly into airport_code0',\n",
       "   'question-split': 'dev',\n",
       "   'variables': {'airport_code0': 'MKE'}},\n",
       "  {'text': 'list all the flights that arrive at airport_code0 airport',\n",
       "   'question-split': 'dev',\n",
       "   'variables': {'airport_code0': 'MKE'}},\n",
       "  {'text': 'show me all flights arriving at airport_code0 from other airports',\n",
       "   'question-split': 'train',\n",
       "   'variables': {'airport_code0': 'DAL'}},\n",
       "  {'text': 'show me the flights from all airports to airport_code0',\n",
       "   'question-split': 'train',\n",
       "   'variables': {'airport_code0': 'DAL'}},\n",
       "  {'text': 'show me the flights arriving at airport_code0 from all other airports',\n",
       "   'question-split': 'train',\n",
       "   'variables': {'airport_code0': 'DAL'}},\n",
       "  {'text': 'show me flights from all airports to airport_code0',\n",
       "   'question-split': 'train',\n",
       "   'variables': {'airport_code0': 'DAL'}},\n",
       "  {'text': 'show me the flights arriving at airport_code0 from other airports',\n",
       "   'question-split': 'train',\n",
       "   'variables': {'airport_code0': 'DAL'}},\n",
       "  {'text': 'show me the flights to airport_code0 from all other airports',\n",
       "   'question-split': 'dev',\n",
       "   'variables': {'airport_code0': 'DAL'}}],\n",
       " 'sql': ['SELECT DISTINCT FLIGHTalias0.FLIGHT_ID FROM AIRPORT AS AIRPORTalias0 , AIRPORT_SERVICE AS AIRPORT_SERVICEalias0 , CITY AS CITYalias0 , FLIGHT AS FLIGHTalias0 WHERE AIRPORTalias0.AIRPORT_CODE = \"airport_code0\" AND CITYalias0.CITY_CODE = AIRPORT_SERVICEalias0.CITY_CODE AND FLIGHTalias0.FROM_AIRPORT = AIRPORT_SERVICEalias0.AIRPORT_CODE AND FLIGHTalias0.TO_AIRPORT = AIRPORTalias0.AIRPORT_CODE ;',\n",
       "  'SELECT DISTINCT FLIGHTalias0.FLIGHT_ID FROM AIRPORT AS AIRPORTalias0 , FLIGHT AS FLIGHTalias0 WHERE AIRPORTalias0.AIRPORT_CODE = \"airport_code0\" AND FLIGHTalias0.TO_AIRPORT = AIRPORTalias0.AIRPORT_CODE ;',\n",
       "  'SELECT DISTINCT FLIGHTalias0.FLIGHT_ID FROM AIRPORT AS AIRPORTalias0 , AIRPORT AS AIRPORTalias1 , FLIGHT AS FLIGHTalias0 WHERE AIRPORTalias1.AIRPORT_CODE = \"airport_code0\" AND FLIGHTalias0.FROM_AIRPORT = AIRPORTalias0.AIRPORT_CODE AND FLIGHTalias0.TO_AIRPORT = AIRPORTalias1.AIRPORT_CODE ;'],\n",
       " 'variables': [{'example': 'MKE',\n",
       "   'location': 'unk',\n",
       "   'name': 'airport_code0',\n",
       "   'type': 'airport_code'}]}"
      ]
     },
     "execution_count": 26,
     "metadata": {},
     "output_type": "execute_result"
    }
   ],
   "source": [
    "atis_dataset[0]"
   ]
  },
  {
   "cell_type": "code",
   "execution_count": 31,
   "metadata": {},
   "outputs": [],
   "source": [
    "sample = atis_dataset[0]\n",
    "preds = []\n",
    "for question_dict in sample['sentences'][:3]:\n",
    "    q = question_dict['text']\n",
    "    for k, v in question_dict['variables'].items():\n",
    "        q = q.replace(k, v)\n",
    "    \n",
    "    pred = Question(q=q, db_schema=atis_schema, model_dict=rat_sql_model_dict)\n",
    "    preds.append(pred)"
   ]
  },
  {
   "cell_type": "code",
   "execution_count": 32,
   "metadata": {
    "scrolled": true
   },
   "outputs": [
    {
     "data": {
      "text/plain": [
       "[[{'orig_question': 'list all the flights that arrive at MKE from various cities',\n",
       "   'model_output': {'_type': 'sql',\n",
       "    'select': {'_type': 'select',\n",
       "     'is_distinct': False,\n",
       "     'aggs': [{'_type': 'agg',\n",
       "       'agg_id': {'_type': 'NoneAggOp'},\n",
       "       'val_unit': {'_type': 'Column',\n",
       "        'col_unit1': {'_type': 'col_unit',\n",
       "         'agg_id': {'_type': 'NoneAggOp'},\n",
       "         'col_id': 81,\n",
       "         'is_distinct': False}}}]},\n",
       "    'sql_where': {'_type': 'sql_where',\n",
       "     'where': {'_type': 'Eq',\n",
       "      'val_unit': {'_type': 'Column',\n",
       "       'col_unit1': {'_type': 'col_unit',\n",
       "        'agg_id': {'_type': 'NoneAggOp'},\n",
       "        'col_id': 88,\n",
       "        'is_distinct': False}},\n",
       "      'val1': {'_type': 'Terminal'}}},\n",
       "    'sql_groupby': {'_type': 'sql_groupby'},\n",
       "    'sql_orderby': {'_type': 'sql_orderby', 'limit': False},\n",
       "    'sql_ieu': {'_type': 'sql_ieu'},\n",
       "    'from': {'_type': 'from',\n",
       "     'table_units': [{'_type': 'Table', 'table_id': 14}]}},\n",
       "   'inferred_code': \"SELECT FLIGHT.FLIGHT_DAYS FROM FLIGHT WHERE FLIGHT.TO_AIRPORT = 'terminal'\",\n",
       "   'score': -0.4893227910668969}],\n",
       " [{'orig_question': 'what flights from any city land at MKE',\n",
       "   'model_output': {'_type': 'sql',\n",
       "    'select': {'_type': 'select',\n",
       "     'is_distinct': False,\n",
       "     'aggs': [{'_type': 'agg',\n",
       "       'agg_id': {'_type': 'NoneAggOp'},\n",
       "       'val_unit': {'_type': 'Column',\n",
       "        'col_unit1': {'_type': 'col_unit',\n",
       "         'agg_id': {'_type': 'NoneAggOp'},\n",
       "         'col_id': 81,\n",
       "         'is_distinct': False}}}]},\n",
       "    'sql_where': {'_type': 'sql_where',\n",
       "     'where': {'_type': 'Eq',\n",
       "      'val_unit': {'_type': 'Column',\n",
       "       'col_unit1': {'_type': 'col_unit',\n",
       "        'agg_id': {'_type': 'NoneAggOp'},\n",
       "        'col_id': 84,\n",
       "        'is_distinct': False}},\n",
       "      'val1': {'_type': 'Terminal'}}},\n",
       "    'sql_groupby': {'_type': 'sql_groupby'},\n",
       "    'sql_orderby': {'_type': 'sql_orderby', 'limit': False},\n",
       "    'sql_ieu': {'_type': 'sql_ieu'},\n",
       "    'from': {'_type': 'from',\n",
       "     'table_units': [{'_type': 'Table', 'table_id': 14}]}},\n",
       "   'inferred_code': \"SELECT FLIGHT.FLIGHT_DAYS FROM FLIGHT WHERE FLIGHT.FROM_AIRPORT = 'terminal'\",\n",
       "   'score': -0.958336772376768}],\n",
       " [{'orig_question': 'show me the flights into DAL',\n",
       "   'model_output': {'_type': 'sql',\n",
       "    'select': {'_type': 'select',\n",
       "     'is_distinct': False,\n",
       "     'aggs': [{'_type': 'agg',\n",
       "       'agg_id': {'_type': 'NoneAggOp'},\n",
       "       'val_unit': {'_type': 'Column',\n",
       "        'col_unit1': {'_type': 'col_unit',\n",
       "         'agg_id': {'_type': 'NoneAggOp'},\n",
       "         'col_id': 81,\n",
       "         'is_distinct': False}}}]},\n",
       "    'sql_where': {'_type': 'sql_where',\n",
       "     'where': {'_type': 'Eq',\n",
       "      'val_unit': {'_type': 'Column',\n",
       "       'col_unit1': {'_type': 'col_unit',\n",
       "        'agg_id': {'_type': 'NoneAggOp'},\n",
       "        'col_id': 88,\n",
       "        'is_distinct': False}},\n",
       "      'val1': {'_type': 'Terminal'}}},\n",
       "    'sql_groupby': {'_type': 'sql_groupby'},\n",
       "    'sql_orderby': {'_type': 'sql_orderby', 'limit': False},\n",
       "    'sql_ieu': {'_type': 'sql_ieu'},\n",
       "    'from': {'_type': 'from',\n",
       "     'table_units': [{'_type': 'Table', 'table_id': 14}]}},\n",
       "   'inferred_code': \"SELECT FLIGHT.FLIGHT_DAYS FROM FLIGHT WHERE FLIGHT.TO_AIRPORT = 'terminal'\",\n",
       "   'score': -0.2918827197717633}]]"
      ]
     },
     "execution_count": 32,
     "metadata": {},
     "output_type": "execute_result"
    }
   ],
   "source": [
    "preds"
   ]
  },
  {
   "cell_type": "code",
   "execution_count": null,
   "metadata": {},
   "outputs": [],
   "source": []
  },
  {
   "cell_type": "markdown",
   "metadata": {},
   "source": [
    "## Get rat-sql graph"
   ]
  },
  {
   "cell_type": "code",
   "execution_count": 60,
   "metadata": {},
   "outputs": [],
   "source": [
    "def get_rat_sql_graph(question, db_schema, model):\n",
    "    \"\"\"\n",
    "    Args:\n",
    "        question (str)\n",
    "        db_schema (ratsql.datasets.spider.Schema): output from db_dict_to_ratsql_schema()\n",
    "        model (ratsql.models.EncDec)\n",
    "    \n",
    "    Return:\n",
    "        rat_sql_graph_dict: Dict[\n",
    "            \"nodes\" (List[str]): the name of nodes (question toks, columns, tables)\n",
    "            \"relations\" (np.array): the integer relation matrix, shape = (N, N) where N = #nodes\n",
    "            \"relation_id2name\" (Dict[int, ?]): translates the integer relation to readable name (str or tuple)\n",
    "        ]\n",
    "    \"\"\"\n",
    "    \n",
    "    data_item = SpiderItem(\n",
    "        text=None,  # intentionally None -- should be ignored when the tokenizer is set correctly\n",
    "        code=None,\n",
    "        schema=db_schema,\n",
    "        orig_schema=db_schema.orig,\n",
    "        orig={\"question\": question}\n",
    "    )\n",
    "\n",
    "    model.preproc.clear_items()\n",
    "    enc_input = model.preproc.enc_preproc.preprocess_item(data_item, None)\n",
    "\n",
    "    desc = enc_input\n",
    "    \n",
    "    ## Adapted from SpiderEncoderV2.forward\n",
    "    q_enc, _ = model.encoder.question_encoder([[desc['question']]])\n",
    "    c_enc, c_boundaries = model.encoder.column_encoder([desc['columns']])\n",
    "    t_enc, t_boundaries = model.encoder.table_encoder([desc['tables']])\n",
    "    \n",
    "    ## Adapted from RelationalTransformerUpdate.forward\n",
    "    enc = batched_sequence.PackedSequencePlus.cat_seqs((q_enc, c_enc, t_enc))\n",
    "\n",
    "    q_enc_lengths = list(q_enc.orig_lengths())\n",
    "    c_enc_lengths = list(c_enc.orig_lengths())\n",
    "    t_enc_lengths = list(t_enc.orig_lengths())\n",
    "    enc_lengths = list(enc.orig_lengths())\n",
    "    max_enc_length = max(enc_lengths)\n",
    "\n",
    "    enc_length = enc_lengths[0]\n",
    "    relations = model.encoder.encs_update.compute_relations(\n",
    "        desc,\n",
    "        enc_length,\n",
    "        q_enc_lengths[0],\n",
    "        c_enc_lengths[0],\n",
    "        c_boundaries[0],\n",
    "        t_boundaries[0])\n",
    "    \n",
    "    ## Collect nodes \n",
    "    nodes = []\n",
    "\n",
    "    nodes.extend(enc_input['question'])\n",
    "\n",
    "    for c_id, c_toks in enumerate(enc_input['columns']):\n",
    "        c_name = '_'.join(c_toks[1:])\n",
    "        t_id = enc_input['column_to_table'][str(c_id)]\n",
    "        if t_id is None:\n",
    "            t_name = 'NONE'\n",
    "        else:\n",
    "            t_toks = enc_input['tables'][t_id]\n",
    "            t_name = '_'.join(t_toks)\n",
    "        c_save_name = f'<C>{t_name}::{c_name}'\n",
    "        nodes.append(c_save_name)\n",
    "\n",
    "    for t_toks in enc_input['tables']:\n",
    "        nodes.append('<T>' + '_'.join(t_toks))\n",
    "    \n",
    "    ## Get relation_id2name (a constant, just passing for convenience)\n",
    "    relation_id2name = {v : k for k, v in model.encoder.encs_update.relation_ids.items()}\n",
    "    \n",
    "    return {\n",
    "        'nodes': nodes,\n",
    "        'relations': relations,\n",
    "        'relation_id2name': relation_id2name,\n",
    "        'q_nodes_orig': enc_input['question_for_copying'],\n",
    "    }\n",
    "    "
   ]
  },
  {
   "cell_type": "code",
   "execution_count": 62,
   "metadata": {},
   "outputs": [],
   "source": [
    "db_id = 'store_product'\n",
    "db_dict = spider_dbs_dict[db_id]\n",
    "\n",
    "general_fmt_dict = db_dict_to_general_fmt(db_dict,\n",
    "                                          db_id,\n",
    "                                          sqlite_path=f\"/Users/mac/Desktop/syt/Deep-Learning/Repos/Google-Research-Language/language/language/xsp/data/spider/database/{db_id}/{db_id}.sqlite\")\n",
    "\n",
    "db_schema = general_fmt_dict_to_ratsql_schema(general_fmt_dict)\n",
    "\n",
    "# db_schema = db_dict_to_ratsql_schema(db_dict,\n",
    "#                                      db_id,\n",
    "#                                      sqlite_path=f\"/Users/mac/Desktop/syt/Deep-Learning/Repos/Google-Research-Language/language/language/xsp/data/spider/database/{db_id}/{db_id}.sqlite\")\n",
    "\n",
    "question = \"How many singers are from France?\"\n",
    "\n",
    "model = rat_sql_model_dict['model']\n",
    "\n",
    "rat_sql_graph_dict = get_rat_sql_graph(question=question, db_schema=db_schema, model=model)"
   ]
  },
  {
   "cell_type": "code",
   "execution_count": 63,
   "metadata": {
    "scrolled": true
   },
   "outputs": [
    {
     "data": {
      "text/plain": [
       "{'nodes': ['how',\n",
       "  'many',\n",
       "  'singer',\n",
       "  'be',\n",
       "  'from',\n",
       "  'france',\n",
       "  '?',\n",
       "  '<C>NONE::*',\n",
       "  '<C>product::product_id',\n",
       "  '<C>product::product',\n",
       "  '<C>product::dimension',\n",
       "  '<C>product::dpi',\n",
       "  '<C>product::page_per_minute_color',\n",
       "  '<C>product::max_page_size',\n",
       "  '<C>product::interface',\n",
       "  '<C>store::store_id',\n",
       "  '<C>store::store_name',\n",
       "  '<C>store::type',\n",
       "  '<C>store::area_size',\n",
       "  '<C>store::number_of_product_category',\n",
       "  '<C>store::rank',\n",
       "  '<C>district::district_id',\n",
       "  '<C>district::district_name',\n",
       "  '<C>district::headquarter_city',\n",
       "  '<C>district::city_population',\n",
       "  '<C>district::city_area',\n",
       "  '<C>store_product::store_id',\n",
       "  '<C>store_product::product_id',\n",
       "  '<C>store_district::store_id',\n",
       "  '<C>store_district::district_id',\n",
       "  '<T>product',\n",
       "  '<T>store',\n",
       "  '<T>district',\n",
       "  '<T>store_product',\n",
       "  '<T>store_district'],\n",
       " 'relations': array([[ 2,  3,  4, ...,  6,  6,  6],\n",
       "        [ 1,  2,  3, ...,  6,  6,  6],\n",
       "        [ 0,  1,  2, ...,  6,  6,  6],\n",
       "        ...,\n",
       "        [22, 22, 22, ..., 34, 28, 30],\n",
       "        [22, 22, 22, ..., 28, 34, 28],\n",
       "        [22, 22, 22, ..., 29, 28, 34]]),\n",
       " 'relation_id2name': {0: ('qq_dist', -2),\n",
       "  1: ('qq_dist', -1),\n",
       "  2: ('qq_dist', 0),\n",
       "  3: ('qq_dist', 1),\n",
       "  4: ('qq_dist', 2),\n",
       "  5: 'qc_default',\n",
       "  6: 'qt_default',\n",
       "  7: 'cq_default',\n",
       "  8: 'cc_default',\n",
       "  9: 'cc_foreign_key_forward',\n",
       "  10: 'cc_foreign_key_backward',\n",
       "  11: 'cc_table_match',\n",
       "  12: ('cc_dist', -2),\n",
       "  13: ('cc_dist', -1),\n",
       "  14: ('cc_dist', 0),\n",
       "  15: ('cc_dist', 1),\n",
       "  16: ('cc_dist', 2),\n",
       "  17: 'ct_default',\n",
       "  18: 'ct_foreign_key',\n",
       "  19: 'ct_primary_key',\n",
       "  20: 'ct_table_match',\n",
       "  21: 'ct_any_table',\n",
       "  22: 'tq_default',\n",
       "  23: 'tc_default',\n",
       "  24: 'tc_primary_key',\n",
       "  25: 'tc_table_match',\n",
       "  26: 'tc_any_table',\n",
       "  27: 'tc_foreign_key',\n",
       "  28: 'tt_default',\n",
       "  29: 'tt_foreign_key_forward',\n",
       "  30: 'tt_foreign_key_backward',\n",
       "  31: 'tt_foreign_key_both',\n",
       "  32: ('tt_dist', -2),\n",
       "  33: ('tt_dist', -1),\n",
       "  34: ('tt_dist', 0),\n",
       "  35: ('tt_dist', 1),\n",
       "  36: ('tt_dist', 2),\n",
       "  37: 'qcCEM',\n",
       "  38: 'cqCEM',\n",
       "  39: 'qtTEM',\n",
       "  40: 'tqTEM',\n",
       "  41: 'qcCPM',\n",
       "  42: 'cqCPM',\n",
       "  43: 'qtTPM',\n",
       "  44: 'tqTPM',\n",
       "  45: 'qcNUMBER',\n",
       "  46: 'cqNUMBER',\n",
       "  47: 'qcTIME',\n",
       "  48: 'cqTIME',\n",
       "  49: 'qcCELLMATCH',\n",
       "  50: 'cqCELLMATCH'},\n",
       " 'q_nodes_orig': ['how', 'many', 'singers', 'are', 'from', 'france', '?']}"
      ]
     },
     "execution_count": 63,
     "metadata": {},
     "output_type": "execute_result"
    }
   ],
   "source": [
    "rat_sql_graph_dict"
   ]
  },
  {
   "cell_type": "code",
   "execution_count": null,
   "metadata": {},
   "outputs": [],
   "source": [
    "rat_sql_graph_dict['relation_id2name']"
   ]
  },
  {
   "cell_type": "markdown",
   "metadata": {},
   "source": [
    "### Save graph to dataset file"
   ]
  },
  {
   "cell_type": "code",
   "execution_count": 71,
   "metadata": {},
   "outputs": [],
   "source": [
    "orig_ds = 'train'\n",
    "orig_dataset_file = f\"/Users/mac/Desktop/syt/Deep-Learning/Repos/Google-Research-Language/language/language/xsp/data/spider/{orig_ds}.json\"\n",
    "orig_tables_file = \"/Users/mac/Desktop/syt/Deep-Learning/Repos/Google-Research-Language/language/language/xsp/data/spider/tables.json\"\n",
    "\n",
    "output_dir = \"/Users/mac/Desktop/syt/Deep-Learning/Projects-M/SDR-analysis/data/spider\"\n",
    "output_dataset_file = os.path.join(output_dir, f\"{orig_ds}+ratsql_graph.json\")\n",
    "\n",
    "os.makedirs(output_dir, exist_ok=True)"
   ]
  },
  {
   "cell_type": "code",
   "execution_count": 72,
   "metadata": {},
   "outputs": [
    {
     "data": {
      "text/plain": [
       "166"
      ]
     },
     "execution_count": 72,
     "metadata": {},
     "output_type": "execute_result"
    }
   ],
   "source": [
    "spider_dbs_dict = spider_preprocessing.load_spider_tables(orig_tables_file)\n",
    "len(spider_dbs_dict)"
   ]
  },
  {
   "cell_type": "code",
   "execution_count": 73,
   "metadata": {},
   "outputs": [
    {
     "name": "stdout",
     "output_type": "stream",
     "text": [
      "Warning: (db_id: imdb) keyword::kid -- tags::kid pair invalid, skipped\n",
      "Warning: (db_id: baseball_1) player::team_id -- fielding_postseason::team_id pair invalid, skipped\n",
      "Warning: (db_id: restaurants) restaurant::restaurant_id -- location::restaurant_id pair invalid, skipped\n"
     ]
    },
    {
     "data": {
      "text/plain": [
       "166"
      ]
     },
     "execution_count": 73,
     "metadata": {},
     "output_type": "execute_result"
    }
   ],
   "source": [
    "spider_db_schemas_dict = dict()\n",
    "for db_id, db_dict in spider_dbs_dict.items():\n",
    "#     db_schema = db_dict_to_ratsql_schema(db_dict, db_id,\n",
    "#                                          sqlite_path=os.path.join(xsp_data_dir, f\"spider/database/{db_id}/{db_id}.sqlite\"),\n",
    "#                                          rigorous_foreign_key=True)\n",
    "    general_fmt_dict = db_dict_to_general_fmt(db_dict, db_id,\n",
    "                                              sqlite_path=os.path.join(xsp_data_dir, f\"spider/database/{db_id}/{db_id}.sqlite\"),\n",
    "                                              rigorous_foreign_key=True)\n",
    "    db_schema = general_fmt_dict_to_ratsql_schema(general_fmt_dict)\n",
    "\n",
    "    spider_db_schemas_dict[db_id] = db_schema\n",
    "len(spider_db_schemas_dict)"
   ]
  },
  {
   "cell_type": "code",
   "execution_count": 74,
   "metadata": {},
   "outputs": [
    {
     "data": {
      "text/plain": [
       "7000"
      ]
     },
     "execution_count": 74,
     "metadata": {},
     "output_type": "execute_result"
    }
   ],
   "source": [
    "with open(orig_dataset_file, 'r') as f:\n",
    "    orig_dataset = json.load(f)\n",
    "\n",
    "len(orig_dataset)"
   ]
  },
  {
   "cell_type": "code",
   "execution_count": 75,
   "metadata": {},
   "outputs": [
    {
     "data": {
      "application/vnd.jupyter.widget-view+json": {
       "model_id": "c494eafe73c9452fa8e986fad0267a2b",
       "version_major": 2,
       "version_minor": 0
      },
      "text/plain": [
       "HBox(children=(FloatProgress(value=0.0, max=7000.0), HTML(value='')))"
      ]
     },
     "metadata": {},
     "output_type": "display_data"
    },
    {
     "name": "stdout",
     "output_type": "stream",
     "text": [
      "\n"
     ]
    }
   ],
   "source": [
    "model = rat_sql_model_dict['model']\n",
    "\n",
    "for d in tqdm(orig_dataset):\n",
    "    db_id = d['db_id']\n",
    "    db_schema = spider_db_schemas_dict[db_id]\n",
    "    question = d['question']\n",
    "\n",
    "    # get relation matrix\n",
    "    graph_dict = get_rat_sql_graph(question=question, db_schema=db_schema, model=model)\n",
    "    nodes = graph_dict['nodes']\n",
    "    q_nodes_orig = graph_dict['q_nodes_orig']\n",
    "    relations = json.dumps(graph_dict['relations'].tolist(), indent=None)  # dump to a line to save space in json\n",
    "    \n",
    "    d['rat_sql_graph'] = {\n",
    "        'nodes': nodes,\n",
    "        'q_nodes_orig': q_nodes_orig,\n",
    "        'relations': relations\n",
    "    }\n",
    "    \n",
    "    time.sleep(0.2)"
   ]
  },
  {
   "cell_type": "code",
   "execution_count": 76,
   "metadata": {},
   "outputs": [],
   "source": [
    "with open(output_dataset_file, 'w') as f:\n",
    "    json.dump(orig_dataset, f, indent=2)"
   ]
  },
  {
   "cell_type": "code",
   "execution_count": null,
   "metadata": {},
   "outputs": [],
   "source": []
  },
  {
   "cell_type": "markdown",
   "metadata": {},
   "source": [
    "## Get rat-sql encoding"
   ]
  },
  {
   "cell_type": "code",
   "execution_count": 7,
   "metadata": {},
   "outputs": [],
   "source": [
    "def get_rat_sql_encoder_state(question, db_schema, model):\n",
    "    \"\"\"\n",
    "    Args:\n",
    "        question (str)\n",
    "        db_schema (ratsql.datasets.spider.Schema): output from db_dict_to_ratsql_schema()\n",
    "        model (ratsql.models.EncDec)\n",
    "    \n",
    "    Return:\n",
    "        rat_sql_encoder_state (EncoderState): check SpiderEncoderV2.forward return object\n",
    "    \"\"\"\n",
    "    \n",
    "    data_item = SpiderItem(\n",
    "        text=None,  # intentionally None -- should be ignored when the tokenizer is set correctly\n",
    "        code=None,\n",
    "        schema=db_schema,\n",
    "        orig_schema=db_schema.orig,\n",
    "        orig={\"question\": question}\n",
    "    )\n",
    "\n",
    "    model.preproc.clear_items()\n",
    "    enc_input = model.preproc.enc_preproc.preprocess_item(data_item, None)\n",
    "    \n",
    "    ## Adapted from EncDec.begin_inference\n",
    "    with torch.no_grad():\n",
    "        if getattr(model.encoder, 'batched'):\n",
    "            enc_state, = model.encoder([enc_input])\n",
    "        else:\n",
    "            enc_state = model.encoder(enc_input)\n",
    "            \n",
    "    return enc_state\n",
    "    "
   ]
  },
  {
   "cell_type": "code",
   "execution_count": null,
   "metadata": {},
   "outputs": [],
   "source": [
    "db_id = 'concert_singer'\n",
    "db_dict = spider_dbs_dict[db_id]\n",
    "db_schema = db_dict_to_ratsql_schema(db_dict,\n",
    "                                     db_id,\n",
    "                                     sqlite_path=f\"/Users/mac/Desktop/syt/Deep-Learning/Repos/Google-Research-Language/language/language/xsp/data/spider/database/{db_id}/{db_id}.sqlite\")\n",
    "\n",
    "question = \"How many singers are from France?\"\n",
    "\n",
    "model = rat_sql_model_dict['model']\n",
    "\n",
    "rat_sql_encoder_state = get_rat_sql_encoder_state(question=question, db_schema=db_schema, model=model)"
   ]
  },
  {
   "cell_type": "code",
   "execution_count": 51,
   "metadata": {},
   "outputs": [
    {
     "data": {
      "text/plain": [
       "SpiderEncoderState(state=None, memory=tensor([[[ 0.0853, -0.5688, -0.0971,  ..., -0.1367, -0.1160,  0.3701],\n",
       "         [ 0.1361, -0.4921, -0.1026,  ..., -0.1142, -0.1253,  0.4126],\n",
       "         [ 0.4294, -0.2658, -0.3613,  ..., -0.1438,  0.0771, -0.4309],\n",
       "         ...,\n",
       "         [ 0.3001, -0.3542, -0.3583,  ..., -0.4167, -0.2776, -0.5714],\n",
       "         [ 0.7069,  0.0588, -0.6766,  ..., -0.2973,  0.4049,  0.3688],\n",
       "         [ 0.6961,  0.1930, -0.7123,  ..., -0.1825,  0.3640, -0.0304]]]), question_memory=tensor([[[ 0.0853, -0.5688, -0.0971,  ..., -0.1367, -0.1160,  0.3701],\n",
       "         [ 0.1361, -0.4921, -0.1026,  ..., -0.1142, -0.1253,  0.4126],\n",
       "         [ 0.4294, -0.2658, -0.3613,  ..., -0.1438,  0.0771, -0.4309],\n",
       "         ...,\n",
       "         [-0.1439, -0.3311,  0.0520,  ...,  0.0463,  0.2806,  0.0438],\n",
       "         [ 0.1652, -1.5329,  0.6279,  ..., -0.1972, -0.0643, -0.1945],\n",
       "         [-0.1282, -0.3162, -0.1159,  ..., -0.0256,  0.2365,  0.0471]]]), schema_memory=tensor([[[ 0.1525, -0.2725,  0.4607,  ..., -0.5900,  0.5365,  0.0351],\n",
       "         [ 0.0149, -0.4118,  0.0444,  ..., -0.1237,  0.2802, -0.1808],\n",
       "         [ 0.0431, -0.4411, -0.1231,  ..., -0.1277,  0.2573,  0.0263],\n",
       "         ...,\n",
       "         [ 0.3001, -0.3542, -0.3583,  ..., -0.4167, -0.2776, -0.5714],\n",
       "         [ 0.7069,  0.0588, -0.6766,  ..., -0.2973,  0.4049,  0.3688],\n",
       "         [ 0.6961,  0.1930, -0.7123,  ..., -0.1825,  0.3640, -0.0304]]]), words=['how', 'many', 'singers', 'are', 'from', 'france', '?', '', '', '', '', '', '', '', '', '', '', '', '', '', '', '', '', '', '', '', '', '', '', '', '', '', ''], pointer_memories={'column': tensor([[[ 0.1525, -0.2725,  0.4607,  ..., -0.5900,  0.5365,  0.0351],\n",
       "         [ 0.0149, -0.4118,  0.0444,  ..., -0.1237,  0.2802, -0.1808],\n",
       "         [ 0.0431, -0.4411, -0.1231,  ..., -0.1277,  0.2573,  0.0263],\n",
       "         ...,\n",
       "         [ 0.0281, -0.4347, -0.2042,  ..., -0.2549,  0.4856, -0.0838],\n",
       "         [ 0.0586, -0.2093,  0.1392,  ..., -0.0171,  0.4252, -0.1881],\n",
       "         [ 0.0942, -0.0262, -0.1424,  ..., -0.1670,  0.4969, -0.1007]]]), 'table': tensor([[[ 0.1525, -0.2725,  0.4607,  ..., -0.5900,  0.5365,  0.0351],\n",
       "         [ 0.0149, -0.4118,  0.0444,  ..., -0.1237,  0.2802, -0.1808],\n",
       "         [ 0.0431, -0.4411, -0.1231,  ..., -0.1277,  0.2573,  0.0263],\n",
       "         ...,\n",
       "         [ 0.3001, -0.3542, -0.3583,  ..., -0.4167, -0.2776, -0.5714],\n",
       "         [ 0.7069,  0.0588, -0.6766,  ..., -0.2973,  0.4049,  0.3688],\n",
       "         [ 0.6961,  0.1930, -0.7123,  ..., -0.1825,  0.3640, -0.0304]]])}, pointer_maps={'column': {0: [0], 1: [1], 2: [2], 3: [3], 4: [4], 5: [5], 6: [6], 7: [7], 8: [8], 9: [9], 10: [10], 11: [11], 12: [12], 13: [13], 14: [14], 15: [15], 16: [16], 17: [17], 18: [18], 19: [19], 20: [20], 21: [21]}, 'table': {0: [0], 1: [1], 2: [2], 3: [3]}}, m2c_align_mat=tensor([[1.6851e-03, 1.1100e-09, 1.9921e-10, 5.3515e-11, 1.4201e-08, 6.5039e-09,\n",
       "         2.3267e-09, 4.7879e-09, 9.4477e-01, 2.9359e-05, 6.1885e-03, 2.4704e-06,\n",
       "         1.9800e-04, 1.7790e-03, 4.5352e-02, 1.7986e-09, 2.7851e-10, 8.3376e-10,\n",
       "         4.7217e-10, 1.9667e-09, 1.0788e-07, 1.5049e-08],\n",
       "        [1.9762e-03, 5.1286e-10, 4.7942e-11, 1.4111e-11, 7.1765e-09, 4.1743e-09,\n",
       "         1.9590e-09, 3.8969e-09, 9.8858e-01, 1.4937e-05, 2.1396e-04, 1.5966e-06,\n",
       "         2.2508e-04, 1.6737e-03, 7.3117e-03, 6.5485e-10, 7.9673e-11, 3.3123e-10,\n",
       "         1.2674e-10, 5.4957e-10, 3.7009e-08, 8.7740e-09],\n",
       "        [3.0118e-01, 3.1796e-05, 1.5231e-07, 7.7932e-06, 7.1751e-08, 7.6491e-09,\n",
       "         4.7756e-09, 1.0589e-08, 6.8006e-01, 2.1228e-04, 1.4158e-02, 1.1619e-07,\n",
       "         6.1139e-09, 1.3193e-08, 6.1971e-05, 1.1786e-05, 3.1138e-07, 2.4533e-08,\n",
       "         4.2869e-06, 1.1119e-08, 6.9243e-06, 4.2691e-03],\n",
       "        [1.8976e-01, 3.2273e-08, 1.1359e-08, 7.8350e-06, 3.2464e-10, 3.4124e-10,\n",
       "         2.8907e-10, 3.1085e-10, 1.2128e-04, 8.0998e-01, 6.7767e-05, 6.5611e-05,\n",
       "         2.5504e-08, 7.2656e-09, 4.7221e-07, 8.6262e-09, 1.5002e-07, 1.8063e-08,\n",
       "         1.6030e-08, 3.4530e-10, 3.6601e-09, 2.1967e-07],\n",
       "        [5.2972e-02, 1.3458e-06, 3.2445e-07, 5.1076e-05, 4.8350e-09, 6.8290e-09,\n",
       "         3.5294e-09, 3.5028e-09, 5.4689e-05, 2.4098e-01, 7.0586e-01, 3.9789e-05,\n",
       "         8.3478e-08, 1.2735e-07, 3.6952e-05, 4.1698e-07, 1.0517e-06, 1.3766e-07,\n",
       "         1.0518e-06, 1.2421e-08, 5.5378e-07, 4.3873e-07],\n",
       "        [2.3080e-23, 1.5220e-24, 1.1839e-24, 9.9516e-24, 8.1501e-27, 3.2159e-26,\n",
       "         4.2348e-27, 3.6894e-27, 5.8569e-24, 3.2295e-20, 1.0000e+00, 4.1675e-23,\n",
       "         7.1517e-25, 3.6864e-23, 6.3390e-20, 2.9846e-24, 1.5262e-24, 1.3192e-25,\n",
       "         8.7768e-23, 7.2161e-25, 1.9079e-22, 5.5270e-26],\n",
       "        [9.7575e-02, 5.7818e-07, 1.3242e-07, 1.8102e-04, 1.6628e-09, 2.4115e-09,\n",
       "         1.7571e-09, 1.8737e-09, 4.5805e-05, 9.0060e-01, 1.5275e-03, 6.8800e-05,\n",
       "         2.6693e-08, 8.9721e-09, 1.1775e-06, 1.3899e-07, 2.6391e-06, 1.5563e-07,\n",
       "         3.6775e-07, 5.5490e-09, 5.4275e-08, 2.0337e-07],\n",
       "        [1.0000e+00, 1.2898e-16, 6.0719e-18, 1.3290e-14, 3.2935e-18, 1.2681e-17,\n",
       "         6.6633e-18, 8.9432e-18, 4.0430e-12, 6.8591e-11, 2.2238e-09, 5.0758e-14,\n",
       "         1.5709e-15, 6.1992e-16, 8.1158e-14, 1.0615e-16, 3.2828e-15, 3.3343e-16,\n",
       "         2.8686e-16, 7.1426e-17, 2.2947e-16, 2.9304e-17],\n",
       "        [2.5979e-01, 4.6259e-03, 1.1821e-04, 1.4584e-03, 3.6600e-05, 4.2983e-05,\n",
       "         2.4257e-05, 2.1811e-05, 1.3603e-03, 3.7958e-04, 6.8686e-01, 5.6265e-06,\n",
       "         7.8564e-07, 1.2343e-06, 1.5592e-04, 3.0872e-07, 2.7515e-07, 9.7228e-08,\n",
       "         4.5114e-02, 4.1936e-08, 1.8498e-06, 9.9892e-08],\n",
       "        [3.6915e-01, 1.6432e-03, 1.2193e-03, 1.1261e-01, 3.7651e-04, 6.4400e-04,\n",
       "         6.2338e-04, 4.7386e-04, 1.2975e-03, 7.0349e-02, 4.4063e-01, 9.0113e-04,\n",
       "         1.7678e-05, 7.7322e-06, 4.2857e-05, 2.2285e-07, 6.6413e-06, 9.2772e-07,\n",
       "         9.1278e-07, 2.8540e-07, 7.9283e-07, 3.6998e-07],\n",
       "        [3.0814e-01, 2.6778e-02, 4.0088e-03, 5.9543e-01, 7.5909e-04, 8.7558e-04,\n",
       "         9.1939e-04, 8.5564e-04, 5.4903e-04, 1.0789e-02, 5.0856e-02, 2.7410e-05,\n",
       "         2.4910e-07, 8.7453e-08, 1.5735e-06, 1.7141e-07, 2.0231e-06, 1.3085e-07,\n",
       "         5.8246e-07, 3.4035e-08, 2.1669e-07, 2.8269e-07],\n",
       "        [4.2567e-01, 7.9505e-05, 3.6520e-05, 1.1742e-04, 3.6294e-03, 2.1271e-04,\n",
       "         1.3660e-04, 1.2776e-04, 8.4075e-03, 5.6326e-04, 5.5810e-01, 1.0492e-04,\n",
       "         2.0267e-04, 3.6135e-04, 2.2415e-03, 2.9653e-07, 5.3193e-07, 5.2050e-07,\n",
       "         3.2915e-07, 4.9550e-07, 3.3333e-06, 3.2319e-07],\n",
       "        [2.1542e-01, 2.0154e-04, 8.4718e-05, 7.5597e-05, 5.1093e-04, 9.5260e-03,\n",
       "         2.7263e-04, 2.9673e-04, 1.3481e-02, 2.0581e-04, 7.4589e-01, 7.1842e-05,\n",
       "         3.4864e-04, 9.6784e-04, 1.2638e-02, 7.5243e-07, 3.9940e-07, 7.1343e-07,\n",
       "         4.7472e-07, 7.8775e-07, 6.8062e-06, 1.2857e-06],\n",
       "        [3.1673e-01, 1.4081e-04, 4.9159e-05, 1.5675e-04, 1.7865e-04, 2.0961e-04,\n",
       "         1.2556e-03, 1.3473e-04, 1.2237e-02, 5.0659e-04, 6.6513e-01, 8.5225e-05,\n",
       "         1.3159e-04, 2.1856e-04, 2.8359e-03, 2.7805e-07, 3.8133e-07, 3.8801e-07,\n",
       "         2.2893e-07, 2.9816e-07, 2.5319e-06, 3.3780e-07],\n",
       "        [3.7509e-01, 1.1831e-04, 3.8731e-05, 4.0160e-05, 2.1372e-04, 2.3379e-04,\n",
       "         1.3205e-04, 4.8908e-03, 1.1324e-02, 1.1032e-04, 5.9873e-01, 4.1844e-05,\n",
       "         2.2538e-04, 6.0359e-04, 8.1976e-03, 9.4754e-07, 4.4590e-07, 7.8464e-07,\n",
       "         5.6883e-07, 9.2118e-07, 8.2269e-06, 8.6167e-07],\n",
       "        [9.9575e-09, 7.4704e-15, 9.6302e-15, 2.7518e-12, 4.5529e-16, 1.1063e-15,\n",
       "         2.9604e-16, 4.3560e-16, 4.0057e-09, 3.3993e-01, 6.5996e-01, 9.4050e-05,\n",
       "         1.7446e-07, 1.6654e-07, 1.9426e-05, 1.0918e-14, 4.7013e-13, 4.0513e-14,\n",
       "         1.5020e-13, 1.6366e-14, 6.2560e-14, 2.3052e-11],\n",
       "        [5.9563e-12, 7.8058e-15, 6.0782e-14, 2.0776e-11, 3.6610e-16, 4.7655e-16,\n",
       "         1.4563e-16, 2.5562e-16, 1.3535e-05, 4.6238e-06, 9.9137e-01, 8.5956e-03,\n",
       "         6.2435e-07, 3.9405e-07, 1.5870e-05, 6.8966e-15, 5.3639e-13, 2.8958e-14,\n",
       "         2.2733e-13, 4.0153e-15, 4.2025e-15, 1.9570e-12],\n",
       "        [8.2686e-12, 1.7691e-14, 4.8020e-14, 2.6100e-11, 3.1648e-15, 6.6607e-15,\n",
       "         2.8044e-15, 4.2259e-15, 1.9562e-09, 9.9936e-01, 4.5762e-08, 6.3438e-04,\n",
       "         2.1499e-07, 1.4649e-07, 1.9890e-06, 7.3574e-15, 1.8788e-12, 9.1120e-14,\n",
       "         3.1622e-13, 1.6211e-14, 1.2389e-14, 3.5369e-13],\n",
       "        [1.2630e-09, 5.6719e-14, 4.4017e-13, 4.1575e-11, 3.3361e-14, 6.6762e-14,\n",
       "         2.2999e-14, 3.6233e-14, 1.2757e-05, 9.1127e-01, 8.8681e-02, 1.0714e-08,\n",
       "         5.8552e-06, 4.3893e-06, 2.7919e-05, 8.6636e-14, 7.1172e-12, 1.0085e-12,\n",
       "         1.4865e-12, 2.9885e-13, 1.8392e-13, 5.3612e-12],\n",
       "        [1.9349e-08, 2.3714e-12, 2.0245e-11, 2.6347e-11, 1.8653e-11, 2.5627e-11,\n",
       "         7.3769e-12, 1.0639e-11, 3.6475e-05, 6.7355e-03, 9.8475e-01, 8.5360e-04,\n",
       "         4.4534e-08, 8.4953e-04, 6.7758e-03, 5.5756e-12, 2.9655e-11, 3.1558e-11,\n",
       "         2.5293e-11, 3.9845e-11, 7.2198e-11, 1.0227e-10],\n",
       "        [2.0369e-07, 2.3523e-11, 2.6888e-10, 1.2314e-10, 6.7225e-10, 1.3266e-09,\n",
       "         3.0157e-10, 4.1423e-10, 9.2240e-06, 1.6708e-03, 9.6911e-01, 5.7081e-04,\n",
       "         9.7700e-04, 7.6296e-06, 2.7656e-02, 6.7192e-11, 2.5775e-10, 5.0846e-10,\n",
       "         4.1271e-10, 1.1532e-09, 1.9630e-09, 7.2297e-10],\n",
       "        [1.8271e-08, 1.7567e-12, 3.4093e-11, 5.8072e-11, 1.6174e-11, 2.6471e-11,\n",
       "         4.8473e-12, 7.5420e-12, 2.4365e-05, 9.0839e-02, 9.0570e-01, 2.2001e-03,\n",
       "         2.2205e-04, 1.0188e-03, 8.5549e-07, 4.0510e-12, 3.5163e-11, 3.8734e-11,\n",
       "         4.4424e-11, 3.2260e-11, 5.1859e-11, 2.7342e-10],\n",
       "        [2.1066e-01, 9.3546e-08, 2.2424e-08, 7.1219e-07, 4.9968e-09, 8.6486e-09,\n",
       "         4.5429e-09, 4.0097e-09, 7.2478e-05, 1.9714e-04, 5.3942e-01, 1.8515e-06,\n",
       "         1.3096e-07, 1.8869e-07, 1.1808e-05, 3.2425e-03, 3.1331e-03, 7.0552e-04,\n",
       "         3.8602e-03, 3.3574e-04, 2.3836e-01, 4.2015e-08],\n",
       "        [6.7343e-01, 2.2033e-07, 5.2977e-08, 4.8677e-06, 2.1349e-08, 3.0252e-08,\n",
       "         2.1171e-08, 2.2521e-08, 8.6009e-04, 7.3321e-03, 1.7776e-01, 4.1294e-05,\n",
       "         1.4776e-06, 8.8377e-07, 2.3000e-05, 1.6516e-02, 4.5013e-02, 2.2869e-02,\n",
       "         4.8339e-02, 7.8034e-03, 3.9945e-07, 4.0689e-07],\n",
       "        [7.4588e-01, 3.9200e-07, 1.3933e-07, 2.8177e-06, 1.1573e-07, 1.4944e-07,\n",
       "         1.0018e-07, 1.0920e-07, 3.0516e-03, 4.4156e-03, 1.8202e-01, 9.8012e-05,\n",
       "         1.4352e-05, 1.1967e-05, 2.5790e-04, 6.5049e-03, 2.8180e-02, 1.4219e-02,\n",
       "         1.0690e-02, 4.6489e-03, 9.6017e-07, 9.6210e-07],\n",
       "        [9.6989e-02, 1.0702e-01, 3.8180e-08, 1.0878e-06, 7.4267e-09, 1.4241e-08,\n",
       "         7.0284e-09, 6.8555e-09, 7.7796e-05, 7.2179e-04, 7.6662e-01, 4.7346e-06,\n",
       "         2.6904e-07, 3.9260e-07, 2.5690e-05, 3.7646e-03, 9.2609e-03, 2.5102e-03,\n",
       "         1.2002e-02, 9.9495e-04, 5.6111e-07, 1.1589e-07],\n",
       "        [9.0481e-02, 6.5028e-08, 3.8959e-08, 3.3516e-07, 2.5845e-08, 4.7215e-08,\n",
       "         2.3662e-08, 2.4129e-08, 4.0186e-04, 9.6880e-04, 8.9718e-01, 3.6120e-05,\n",
       "         7.3181e-06, 1.0736e-05, 2.8627e-04, 1.1008e-03, 3.6498e-03, 2.3937e-03,\n",
       "         2.3413e-03, 1.1462e-03, 4.2111e-07, 1.5509e-07],\n",
       "        [3.8508e-04, 5.6606e-09, 2.4813e-09, 5.1097e-08, 2.2493e-10, 4.3024e-10,\n",
       "         1.2761e-10, 1.2972e-10, 9.7269e-08, 4.3945e-06, 9.7014e-01, 2.9736e-08,\n",
       "         8.6898e-10, 2.8114e-09, 2.7936e-07, 5.6967e-03, 7.8014e-09, 1.7829e-09,\n",
       "         4.1633e-08, 1.0812e-09, 8.1804e-04, 2.2957e-02],\n",
       "        [6.1338e-05, 7.5952e-09, 2.7587e-09, 3.8558e-08, 2.4217e-10, 3.3112e-10,\n",
       "         9.6800e-11, 1.4285e-10, 9.5437e-01, 1.3513e-05, 3.5200e-02, 6.4717e-08,\n",
       "         1.2567e-09, 2.7825e-09, 4.8375e-07, 5.5667e-09, 5.6226e-09, 2.0291e-09,\n",
       "         1.9126e-08, 9.8226e-10, 1.0020e-02, 3.3144e-04],\n",
       "        [1.0000e+00, 9.4882e-16, 1.3887e-18, 4.9772e-15, 9.5320e-19, 2.2015e-18,\n",
       "         2.3648e-18, 1.6311e-18, 2.6416e-15, 5.1182e-13, 3.4979e-11, 8.9697e-16,\n",
       "         1.3109e-17, 3.6904e-18, 5.0840e-16, 2.3630e-18, 4.3238e-17, 1.2733e-18,\n",
       "         1.2501e-17, 3.6202e-19, 1.3334e-17, 4.4646e-20],\n",
       "        [4.4131e-05, 5.1514e-12, 1.2884e-13, 5.6130e-12, 7.6602e-14, 2.9303e-14,\n",
       "         1.5333e-14, 3.2646e-14, 9.9984e-01, 2.8567e-06, 1.0939e-04, 9.4622e-09,\n",
       "         5.4142e-10, 9.7518e-10, 1.1208e-06, 2.7254e-12, 1.2382e-12, 1.9845e-13,\n",
       "         1.5176e-12, 1.4328e-13, 1.0761e-12, 8.4175e-13],\n",
       "        [1.0000e+00, 8.8885e-20, 7.0024e-22, 1.8504e-18, 1.4737e-21, 3.8686e-21,\n",
       "         4.2209e-21, 3.2930e-21, 9.5825e-17, 6.6676e-15, 1.2696e-13, 3.4636e-17,\n",
       "         1.5794e-18, 3.8610e-19, 2.3335e-17, 2.9407e-17, 3.9260e-17, 1.8799e-18,\n",
       "         6.2326e-18, 5.5395e-19, 1.8494e-19, 8.8190e-22],\n",
       "        [1.0000e+00, 2.2350e-24, 4.6349e-26, 1.0881e-21, 2.0916e-25, 1.4076e-24,\n",
       "         2.5886e-24, 2.2006e-24, 1.6476e-21, 5.8284e-18, 7.4776e-22, 3.5624e-20,\n",
       "         1.7970e-21, 1.1485e-22, 2.8196e-22, 1.1725e-24, 9.1498e-22, 1.8706e-23,\n",
       "         7.6408e-24, 3.5178e-24, 1.6795e-21, 1.1646e-26]]), m2t_align_mat=tensor([[3.6097e-07, 9.9879e-01, 5.3281e-07, 1.2118e-03],\n",
       "        [5.4600e-07, 9.9966e-01, 9.5835e-07, 3.3441e-04],\n",
       "        [1.2584e-08, 3.9763e-01, 1.9262e-09, 6.0237e-01],\n",
       "        [2.5016e-04, 9.7562e-01, 2.1075e-05, 2.4107e-02],\n",
       "        [2.7674e-04, 5.3428e-01, 2.9285e-05, 4.6541e-01],\n",
       "        [2.8627e-08, 4.5656e-03, 7.1848e-09, 9.9543e-01],\n",
       "        [1.4632e-04, 9.0678e-01, 1.2918e-05, 9.3062e-02],\n",
       "        [3.7400e-07, 9.9461e-01, 1.0295e-07, 5.3874e-03],\n",
       "        [7.5729e-03, 4.4629e-01, 7.0621e-04, 5.4543e-01],\n",
       "        [9.8898e-01, 7.5682e-03, 1.4212e-05, 3.4328e-03],\n",
       "        [6.8288e-01, 2.9514e-01, 1.9458e-05, 2.1956e-02],\n",
       "        [9.5178e-01, 3.3387e-02, 1.5815e-04, 1.4672e-02],\n",
       "        [8.9398e-01, 7.3052e-02, 5.0063e-04, 3.2465e-02],\n",
       "        [9.2678e-01, 5.5445e-02, 1.9605e-04, 1.7580e-02],\n",
       "        [8.2550e-01, 1.0811e-01, 8.8017e-04, 6.5505e-02],\n",
       "        [3.7114e-10, 1.0000e+00, 6.8246e-11, 1.5824e-06],\n",
       "        [1.0292e-13, 1.0000e+00, 2.0250e-14, 5.4103e-11],\n",
       "        [4.6680e-12, 1.0000e+00, 9.1431e-13, 1.8636e-09],\n",
       "        [1.7479e-12, 1.0000e+00, 7.2124e-13, 3.7493e-10],\n",
       "        [2.2876e-09, 1.0000e+00, 1.6139e-09, 8.7518e-08],\n",
       "        [1.2735e-08, 1.0000e+00, 1.1552e-08, 8.2406e-07],\n",
       "        [9.4004e-11, 1.0000e+00, 4.3668e-11, 1.4030e-08],\n",
       "        [3.6951e-03, 3.3879e-01, 2.3047e-03, 6.5521e-01],\n",
       "        [2.1159e-04, 3.8300e-01, 5.6596e-01, 5.0828e-02],\n",
       "        [5.1998e-04, 2.4003e-01, 7.0771e-01, 5.1740e-02],\n",
       "        [5.6580e-04, 9.5056e-02, 7.5755e-01, 1.4683e-01],\n",
       "        [2.6801e-04, 1.4744e-02, 9.6395e-01, 2.1039e-02],\n",
       "        [2.2992e-05, 7.2526e-04, 3.3233e-06, 9.9925e-01],\n",
       "        [1.1516e-08, 1.7876e-06, 3.0545e-09, 1.0000e+00],\n",
       "        [3.1150e-05, 3.0940e-02, 1.7838e-04, 9.6885e-01],\n",
       "        [1.8289e-10, 2.9636e-07, 1.1786e-10, 1.0000e+00],\n",
       "        [1.8116e-03, 1.0686e-02, 1.9128e-06, 9.8750e-01],\n",
       "        [3.1769e-04, 9.9947e-01, 2.1366e-04, 3.1195e-06]]))"
      ]
     },
     "execution_count": 51,
     "metadata": {},
     "output_type": "execute_result"
    }
   ],
   "source": [
    "rat_sql_encoder_state"
   ]
  },
  {
   "cell_type": "code",
   "execution_count": 52,
   "metadata": {},
   "outputs": [
    {
     "data": {
      "text/plain": [
       "(torch.Size([1, 33, 256]), torch.Size([1, 26, 256]))"
      ]
     },
     "execution_count": 52,
     "metadata": {},
     "output_type": "execute_result"
    }
   ],
   "source": [
    "rat_sql_encoder_state.memory.size(), rat_sql_encoder_state.schema_memory.size()"
   ]
  },
  {
   "cell_type": "code",
   "execution_count": null,
   "metadata": {},
   "outputs": [],
   "source": []
  },
  {
   "cell_type": "markdown",
   "metadata": {},
   "source": [
    "## Probing: link prediction"
   ]
  },
  {
   "cell_type": "code",
   "execution_count": 3,
   "metadata": {},
   "outputs": [],
   "source": [
    "xsp_data_dir = \"/Users/mac/Desktop/syt/Deep-Learning/Repos/Google-Research-Language/language/language/xsp/data\"\n",
    "probing_data_dir = \"/Users/mac/Desktop/syt/Deep-Learning/Projects-M/SDR-analysis/data/probing/text2sql/link_prediction/spider/ratsql\"\n",
    "probing_exp_dir = \"/Users/mac/Desktop/syt/Deep-Learning/Projects-M/SDR-analysis/experiments/probing/text2sql/link_prediction/spider/ratsql\"\n",
    "\n",
    "os.makedirs(probing_data_dir, exist_ok=True)\n",
    "os.makedirs(probing_exp_dir, exist_ok=True)"
   ]
  },
  {
   "cell_type": "markdown",
   "metadata": {},
   "source": [
    "### Data collection"
   ]
  },
  {
   "cell_type": "code",
   "execution_count": 18,
   "metadata": {},
   "outputs": [],
   "source": [
    "orig_ds = 'dev'\n",
    "spider_data_path = os.path.join(xsp_data_dir, 'spider', f'{orig_ds}.json')\n",
    "spider_tables_path = os.path.join(xsp_data_dir, 'spider', 'tables.json')"
   ]
  },
  {
   "cell_type": "code",
   "execution_count": 19,
   "metadata": {},
   "outputs": [
    {
     "data": {
      "text/plain": [
       "(1034, 166)"
      ]
     },
     "execution_count": 19,
     "metadata": {},
     "output_type": "execute_result"
    }
   ],
   "source": [
    "spider_dbs_dict = spider_preprocessing.load_spider_tables(spider_tables_path)\n",
    "\n",
    "with open(spider_data_path, 'r') as f:\n",
    "    orig_dataset = json.load(f)\n",
    "\n",
    "len(orig_dataset), len(spider_dbs_dict)"
   ]
  },
  {
   "cell_type": "code",
   "execution_count": 39,
   "metadata": {},
   "outputs": [
    {
     "name": "stdout",
     "output_type": "stream",
     "text": [
      "** db_dict_to_ratsql_schema: Deprecated, should use db_dict_to_general_fmt() and general_fmt_dict_to_ratsql_schema()\n",
      "** db_dict_to_ratsql_schema: Deprecated, should use db_dict_to_general_fmt() and general_fmt_dict_to_ratsql_schema()\n",
      "** db_dict_to_ratsql_schema: Deprecated, should use db_dict_to_general_fmt() and general_fmt_dict_to_ratsql_schema()\n",
      "** db_dict_to_ratsql_schema: Deprecated, should use db_dict_to_general_fmt() and general_fmt_dict_to_ratsql_schema()\n",
      "** db_dict_to_ratsql_schema: Deprecated, should use db_dict_to_general_fmt() and general_fmt_dict_to_ratsql_schema()\n",
      "** db_dict_to_ratsql_schema: Deprecated, should use db_dict_to_general_fmt() and general_fmt_dict_to_ratsql_schema()\n",
      "** db_dict_to_ratsql_schema: Deprecated, should use db_dict_to_general_fmt() and general_fmt_dict_to_ratsql_schema()\n",
      "** db_dict_to_ratsql_schema: Deprecated, should use db_dict_to_general_fmt() and general_fmt_dict_to_ratsql_schema()\n",
      "** db_dict_to_ratsql_schema: Deprecated, should use db_dict_to_general_fmt() and general_fmt_dict_to_ratsql_schema()\n",
      "** db_dict_to_ratsql_schema: Deprecated, should use db_dict_to_general_fmt() and general_fmt_dict_to_ratsql_schema()\n",
      "** db_dict_to_ratsql_schema: Deprecated, should use db_dict_to_general_fmt() and general_fmt_dict_to_ratsql_schema()\n",
      "** db_dict_to_ratsql_schema: Deprecated, should use db_dict_to_general_fmt() and general_fmt_dict_to_ratsql_schema()\n",
      "** db_dict_to_ratsql_schema: Deprecated, should use db_dict_to_general_fmt() and general_fmt_dict_to_ratsql_schema()\n",
      "** db_dict_to_ratsql_schema: Deprecated, should use db_dict_to_general_fmt() and general_fmt_dict_to_ratsql_schema()\n",
      "** db_dict_to_ratsql_schema: Deprecated, should use db_dict_to_general_fmt() and general_fmt_dict_to_ratsql_schema()\n",
      "** db_dict_to_ratsql_schema: Deprecated, should use db_dict_to_general_fmt() and general_fmt_dict_to_ratsql_schema()\n",
      "** db_dict_to_ratsql_schema: Deprecated, should use db_dict_to_general_fmt() and general_fmt_dict_to_ratsql_schema()\n",
      "** db_dict_to_ratsql_schema: Deprecated, should use db_dict_to_general_fmt() and general_fmt_dict_to_ratsql_schema()\n",
      "** db_dict_to_ratsql_schema: Deprecated, should use db_dict_to_general_fmt() and general_fmt_dict_to_ratsql_schema()\n",
      "** db_dict_to_ratsql_schema: Deprecated, should use db_dict_to_general_fmt() and general_fmt_dict_to_ratsql_schema()\n",
      "** db_dict_to_ratsql_schema: Deprecated, should use db_dict_to_general_fmt() and general_fmt_dict_to_ratsql_schema()\n",
      "** db_dict_to_ratsql_schema: Deprecated, should use db_dict_to_general_fmt() and general_fmt_dict_to_ratsql_schema()\n",
      "** db_dict_to_ratsql_schema: Deprecated, should use db_dict_to_general_fmt() and general_fmt_dict_to_ratsql_schema()\n",
      "** db_dict_to_ratsql_schema: Deprecated, should use db_dict_to_general_fmt() and general_fmt_dict_to_ratsql_schema()\n",
      "** db_dict_to_ratsql_schema: Deprecated, should use db_dict_to_general_fmt() and general_fmt_dict_to_ratsql_schema()\n",
      "** db_dict_to_ratsql_schema: Deprecated, should use db_dict_to_general_fmt() and general_fmt_dict_to_ratsql_schema()\n",
      "** db_dict_to_ratsql_schema: Deprecated, should use db_dict_to_general_fmt() and general_fmt_dict_to_ratsql_schema()\n",
      "** db_dict_to_ratsql_schema: Deprecated, should use db_dict_to_general_fmt() and general_fmt_dict_to_ratsql_schema()\n",
      "** db_dict_to_ratsql_schema: Deprecated, should use db_dict_to_general_fmt() and general_fmt_dict_to_ratsql_schema()\n",
      "** db_dict_to_ratsql_schema: Deprecated, should use db_dict_to_general_fmt() and general_fmt_dict_to_ratsql_schema()\n",
      "** db_dict_to_ratsql_schema: Deprecated, should use db_dict_to_general_fmt() and general_fmt_dict_to_ratsql_schema()\n",
      "** db_dict_to_ratsql_schema: Deprecated, should use db_dict_to_general_fmt() and general_fmt_dict_to_ratsql_schema()\n",
      "** db_dict_to_ratsql_schema: Deprecated, should use db_dict_to_general_fmt() and general_fmt_dict_to_ratsql_schema()\n",
      "** db_dict_to_ratsql_schema: Deprecated, should use db_dict_to_general_fmt() and general_fmt_dict_to_ratsql_schema()\n",
      "** db_dict_to_ratsql_schema: Deprecated, should use db_dict_to_general_fmt() and general_fmt_dict_to_ratsql_schema()\n",
      "** db_dict_to_ratsql_schema: Deprecated, should use db_dict_to_general_fmt() and general_fmt_dict_to_ratsql_schema()\n",
      "** db_dict_to_ratsql_schema: Deprecated, should use db_dict_to_general_fmt() and general_fmt_dict_to_ratsql_schema()\n",
      "** db_dict_to_ratsql_schema: Deprecated, should use db_dict_to_general_fmt() and general_fmt_dict_to_ratsql_schema()\n",
      "Warning: (db_id: imdb) keyword::kid -- tags::kid pair invalid, skipped\n",
      "** db_dict_to_ratsql_schema: Deprecated, should use db_dict_to_general_fmt() and general_fmt_dict_to_ratsql_schema()\n",
      "** db_dict_to_ratsql_schema: Deprecated, should use db_dict_to_general_fmt() and general_fmt_dict_to_ratsql_schema()\n",
      "** db_dict_to_ratsql_schema: Deprecated, should use db_dict_to_general_fmt() and general_fmt_dict_to_ratsql_schema()\n",
      "** db_dict_to_ratsql_schema: Deprecated, should use db_dict_to_general_fmt() and general_fmt_dict_to_ratsql_schema()\n",
      "** db_dict_to_ratsql_schema: Deprecated, should use db_dict_to_general_fmt() and general_fmt_dict_to_ratsql_schema()\n",
      "** db_dict_to_ratsql_schema: Deprecated, should use db_dict_to_general_fmt() and general_fmt_dict_to_ratsql_schema()\n",
      "** db_dict_to_ratsql_schema: Deprecated, should use db_dict_to_general_fmt() and general_fmt_dict_to_ratsql_schema()\n",
      "** db_dict_to_ratsql_schema: Deprecated, should use db_dict_to_general_fmt() and general_fmt_dict_to_ratsql_schema()\n",
      "** db_dict_to_ratsql_schema: Deprecated, should use db_dict_to_general_fmt() and general_fmt_dict_to_ratsql_schema()\n",
      "** db_dict_to_ratsql_schema: Deprecated, should use db_dict_to_general_fmt() and general_fmt_dict_to_ratsql_schema()\n",
      "** db_dict_to_ratsql_schema: Deprecated, should use db_dict_to_general_fmt() and general_fmt_dict_to_ratsql_schema()\n",
      "** db_dict_to_ratsql_schema: Deprecated, should use db_dict_to_general_fmt() and general_fmt_dict_to_ratsql_schema()\n",
      "** db_dict_to_ratsql_schema: Deprecated, should use db_dict_to_general_fmt() and general_fmt_dict_to_ratsql_schema()\n",
      "** db_dict_to_ratsql_schema: Deprecated, should use db_dict_to_general_fmt() and general_fmt_dict_to_ratsql_schema()\n",
      "** db_dict_to_ratsql_schema: Deprecated, should use db_dict_to_general_fmt() and general_fmt_dict_to_ratsql_schema()\n",
      "** db_dict_to_ratsql_schema: Deprecated, should use db_dict_to_general_fmt() and general_fmt_dict_to_ratsql_schema()\n",
      "** db_dict_to_ratsql_schema: Deprecated, should use db_dict_to_general_fmt() and general_fmt_dict_to_ratsql_schema()\n",
      "** db_dict_to_ratsql_schema: Deprecated, should use db_dict_to_general_fmt() and general_fmt_dict_to_ratsql_schema()\n",
      "** db_dict_to_ratsql_schema: Deprecated, should use db_dict_to_general_fmt() and general_fmt_dict_to_ratsql_schema()\n",
      "** db_dict_to_ratsql_schema: Deprecated, should use db_dict_to_general_fmt() and general_fmt_dict_to_ratsql_schema()\n",
      "** db_dict_to_ratsql_schema: Deprecated, should use db_dict_to_general_fmt() and general_fmt_dict_to_ratsql_schema()\n",
      "Warning: (db_id: baseball_1) player::team_id -- fielding_postseason::team_id pair invalid, skipped\n",
      "** db_dict_to_ratsql_schema: Deprecated, should use db_dict_to_general_fmt() and general_fmt_dict_to_ratsql_schema()\n",
      "** db_dict_to_ratsql_schema: Deprecated, should use db_dict_to_general_fmt() and general_fmt_dict_to_ratsql_schema()\n",
      "** db_dict_to_ratsql_schema: Deprecated, should use db_dict_to_general_fmt() and general_fmt_dict_to_ratsql_schema()\n",
      "** db_dict_to_ratsql_schema: Deprecated, should use db_dict_to_general_fmt() and general_fmt_dict_to_ratsql_schema()\n",
      "** db_dict_to_ratsql_schema: Deprecated, should use db_dict_to_general_fmt() and general_fmt_dict_to_ratsql_schema()\n",
      "** db_dict_to_ratsql_schema: Deprecated, should use db_dict_to_general_fmt() and general_fmt_dict_to_ratsql_schema()\n",
      "** db_dict_to_ratsql_schema: Deprecated, should use db_dict_to_general_fmt() and general_fmt_dict_to_ratsql_schema()\n",
      "** db_dict_to_ratsql_schema: Deprecated, should use db_dict_to_general_fmt() and general_fmt_dict_to_ratsql_schema()\n",
      "** db_dict_to_ratsql_schema: Deprecated, should use db_dict_to_general_fmt() and general_fmt_dict_to_ratsql_schema()\n",
      "** db_dict_to_ratsql_schema: Deprecated, should use db_dict_to_general_fmt() and general_fmt_dict_to_ratsql_schema()\n",
      "** db_dict_to_ratsql_schema: Deprecated, should use db_dict_to_general_fmt() and general_fmt_dict_to_ratsql_schema()\n",
      "** db_dict_to_ratsql_schema: Deprecated, should use db_dict_to_general_fmt() and general_fmt_dict_to_ratsql_schema()\n",
      "** db_dict_to_ratsql_schema: Deprecated, should use db_dict_to_general_fmt() and general_fmt_dict_to_ratsql_schema()\n",
      "** db_dict_to_ratsql_schema: Deprecated, should use db_dict_to_general_fmt() and general_fmt_dict_to_ratsql_schema()\n",
      "** db_dict_to_ratsql_schema: Deprecated, should use db_dict_to_general_fmt() and general_fmt_dict_to_ratsql_schema()\n",
      "Warning: (db_id: restaurants) restaurant::restaurant_id -- location::restaurant_id pair invalid, skipped\n",
      "** db_dict_to_ratsql_schema: Deprecated, should use db_dict_to_general_fmt() and general_fmt_dict_to_ratsql_schema()\n",
      "** db_dict_to_ratsql_schema: Deprecated, should use db_dict_to_general_fmt() and general_fmt_dict_to_ratsql_schema()\n",
      "** db_dict_to_ratsql_schema: Deprecated, should use db_dict_to_general_fmt() and general_fmt_dict_to_ratsql_schema()\n",
      "** db_dict_to_ratsql_schema: Deprecated, should use db_dict_to_general_fmt() and general_fmt_dict_to_ratsql_schema()\n",
      "** db_dict_to_ratsql_schema: Deprecated, should use db_dict_to_general_fmt() and general_fmt_dict_to_ratsql_schema()\n",
      "** db_dict_to_ratsql_schema: Deprecated, should use db_dict_to_general_fmt() and general_fmt_dict_to_ratsql_schema()\n",
      "** db_dict_to_ratsql_schema: Deprecated, should use db_dict_to_general_fmt() and general_fmt_dict_to_ratsql_schema()\n",
      "** db_dict_to_ratsql_schema: Deprecated, should use db_dict_to_general_fmt() and general_fmt_dict_to_ratsql_schema()\n",
      "** db_dict_to_ratsql_schema: Deprecated, should use db_dict_to_general_fmt() and general_fmt_dict_to_ratsql_schema()\n",
      "** db_dict_to_ratsql_schema: Deprecated, should use db_dict_to_general_fmt() and general_fmt_dict_to_ratsql_schema()\n",
      "** db_dict_to_ratsql_schema: Deprecated, should use db_dict_to_general_fmt() and general_fmt_dict_to_ratsql_schema()\n",
      "** db_dict_to_ratsql_schema: Deprecated, should use db_dict_to_general_fmt() and general_fmt_dict_to_ratsql_schema()\n",
      "** db_dict_to_ratsql_schema: Deprecated, should use db_dict_to_general_fmt() and general_fmt_dict_to_ratsql_schema()\n",
      "** db_dict_to_ratsql_schema: Deprecated, should use db_dict_to_general_fmt() and general_fmt_dict_to_ratsql_schema()\n",
      "** db_dict_to_ratsql_schema: Deprecated, should use db_dict_to_general_fmt() and general_fmt_dict_to_ratsql_schema()\n",
      "** db_dict_to_ratsql_schema: Deprecated, should use db_dict_to_general_fmt() and general_fmt_dict_to_ratsql_schema()\n",
      "** db_dict_to_ratsql_schema: Deprecated, should use db_dict_to_general_fmt() and general_fmt_dict_to_ratsql_schema()\n",
      "** db_dict_to_ratsql_schema: Deprecated, should use db_dict_to_general_fmt() and general_fmt_dict_to_ratsql_schema()\n",
      "** db_dict_to_ratsql_schema: Deprecated, should use db_dict_to_general_fmt() and general_fmt_dict_to_ratsql_schema()\n",
      "** db_dict_to_ratsql_schema: Deprecated, should use db_dict_to_general_fmt() and general_fmt_dict_to_ratsql_schema()\n",
      "** db_dict_to_ratsql_schema: Deprecated, should use db_dict_to_general_fmt() and general_fmt_dict_to_ratsql_schema()\n",
      "** db_dict_to_ratsql_schema: Deprecated, should use db_dict_to_general_fmt() and general_fmt_dict_to_ratsql_schema()\n",
      "** db_dict_to_ratsql_schema: Deprecated, should use db_dict_to_general_fmt() and general_fmt_dict_to_ratsql_schema()\n",
      "** db_dict_to_ratsql_schema: Deprecated, should use db_dict_to_general_fmt() and general_fmt_dict_to_ratsql_schema()\n",
      "** db_dict_to_ratsql_schema: Deprecated, should use db_dict_to_general_fmt() and general_fmt_dict_to_ratsql_schema()\n",
      "** db_dict_to_ratsql_schema: Deprecated, should use db_dict_to_general_fmt() and general_fmt_dict_to_ratsql_schema()\n",
      "** db_dict_to_ratsql_schema: Deprecated, should use db_dict_to_general_fmt() and general_fmt_dict_to_ratsql_schema()\n",
      "** db_dict_to_ratsql_schema: Deprecated, should use db_dict_to_general_fmt() and general_fmt_dict_to_ratsql_schema()\n",
      "** db_dict_to_ratsql_schema: Deprecated, should use db_dict_to_general_fmt() and general_fmt_dict_to_ratsql_schema()\n",
      "** db_dict_to_ratsql_schema: Deprecated, should use db_dict_to_general_fmt() and general_fmt_dict_to_ratsql_schema()\n",
      "** db_dict_to_ratsql_schema: Deprecated, should use db_dict_to_general_fmt() and general_fmt_dict_to_ratsql_schema()\n",
      "** db_dict_to_ratsql_schema: Deprecated, should use db_dict_to_general_fmt() and general_fmt_dict_to_ratsql_schema()\n",
      "** db_dict_to_ratsql_schema: Deprecated, should use db_dict_to_general_fmt() and general_fmt_dict_to_ratsql_schema()\n",
      "** db_dict_to_ratsql_schema: Deprecated, should use db_dict_to_general_fmt() and general_fmt_dict_to_ratsql_schema()\n",
      "** db_dict_to_ratsql_schema: Deprecated, should use db_dict_to_general_fmt() and general_fmt_dict_to_ratsql_schema()\n",
      "** db_dict_to_ratsql_schema: Deprecated, should use db_dict_to_general_fmt() and general_fmt_dict_to_ratsql_schema()\n",
      "** db_dict_to_ratsql_schema: Deprecated, should use db_dict_to_general_fmt() and general_fmt_dict_to_ratsql_schema()\n",
      "** db_dict_to_ratsql_schema: Deprecated, should use db_dict_to_general_fmt() and general_fmt_dict_to_ratsql_schema()\n"
     ]
    },
    {
     "name": "stdout",
     "output_type": "stream",
     "text": [
      "** db_dict_to_ratsql_schema: Deprecated, should use db_dict_to_general_fmt() and general_fmt_dict_to_ratsql_schema()\n",
      "** db_dict_to_ratsql_schema: Deprecated, should use db_dict_to_general_fmt() and general_fmt_dict_to_ratsql_schema()\n",
      "** db_dict_to_ratsql_schema: Deprecated, should use db_dict_to_general_fmt() and general_fmt_dict_to_ratsql_schema()\n",
      "** db_dict_to_ratsql_schema: Deprecated, should use db_dict_to_general_fmt() and general_fmt_dict_to_ratsql_schema()\n",
      "** db_dict_to_ratsql_schema: Deprecated, should use db_dict_to_general_fmt() and general_fmt_dict_to_ratsql_schema()\n",
      "** db_dict_to_ratsql_schema: Deprecated, should use db_dict_to_general_fmt() and general_fmt_dict_to_ratsql_schema()\n",
      "** db_dict_to_ratsql_schema: Deprecated, should use db_dict_to_general_fmt() and general_fmt_dict_to_ratsql_schema()\n",
      "** db_dict_to_ratsql_schema: Deprecated, should use db_dict_to_general_fmt() and general_fmt_dict_to_ratsql_schema()\n",
      "** db_dict_to_ratsql_schema: Deprecated, should use db_dict_to_general_fmt() and general_fmt_dict_to_ratsql_schema()\n",
      "** db_dict_to_ratsql_schema: Deprecated, should use db_dict_to_general_fmt() and general_fmt_dict_to_ratsql_schema()\n",
      "** db_dict_to_ratsql_schema: Deprecated, should use db_dict_to_general_fmt() and general_fmt_dict_to_ratsql_schema()\n",
      "** db_dict_to_ratsql_schema: Deprecated, should use db_dict_to_general_fmt() and general_fmt_dict_to_ratsql_schema()\n",
      "** db_dict_to_ratsql_schema: Deprecated, should use db_dict_to_general_fmt() and general_fmt_dict_to_ratsql_schema()\n",
      "** db_dict_to_ratsql_schema: Deprecated, should use db_dict_to_general_fmt() and general_fmt_dict_to_ratsql_schema()\n",
      "** db_dict_to_ratsql_schema: Deprecated, should use db_dict_to_general_fmt() and general_fmt_dict_to_ratsql_schema()\n",
      "** db_dict_to_ratsql_schema: Deprecated, should use db_dict_to_general_fmt() and general_fmt_dict_to_ratsql_schema()\n",
      "** db_dict_to_ratsql_schema: Deprecated, should use db_dict_to_general_fmt() and general_fmt_dict_to_ratsql_schema()\n",
      "** db_dict_to_ratsql_schema: Deprecated, should use db_dict_to_general_fmt() and general_fmt_dict_to_ratsql_schema()\n",
      "** db_dict_to_ratsql_schema: Deprecated, should use db_dict_to_general_fmt() and general_fmt_dict_to_ratsql_schema()\n",
      "** db_dict_to_ratsql_schema: Deprecated, should use db_dict_to_general_fmt() and general_fmt_dict_to_ratsql_schema()\n",
      "** db_dict_to_ratsql_schema: Deprecated, should use db_dict_to_general_fmt() and general_fmt_dict_to_ratsql_schema()\n",
      "** db_dict_to_ratsql_schema: Deprecated, should use db_dict_to_general_fmt() and general_fmt_dict_to_ratsql_schema()\n",
      "** db_dict_to_ratsql_schema: Deprecated, should use db_dict_to_general_fmt() and general_fmt_dict_to_ratsql_schema()\n",
      "** db_dict_to_ratsql_schema: Deprecated, should use db_dict_to_general_fmt() and general_fmt_dict_to_ratsql_schema()\n",
      "** db_dict_to_ratsql_schema: Deprecated, should use db_dict_to_general_fmt() and general_fmt_dict_to_ratsql_schema()\n",
      "** db_dict_to_ratsql_schema: Deprecated, should use db_dict_to_general_fmt() and general_fmt_dict_to_ratsql_schema()\n",
      "** db_dict_to_ratsql_schema: Deprecated, should use db_dict_to_general_fmt() and general_fmt_dict_to_ratsql_schema()\n",
      "** db_dict_to_ratsql_schema: Deprecated, should use db_dict_to_general_fmt() and general_fmt_dict_to_ratsql_schema()\n",
      "** db_dict_to_ratsql_schema: Deprecated, should use db_dict_to_general_fmt() and general_fmt_dict_to_ratsql_schema()\n",
      "** db_dict_to_ratsql_schema: Deprecated, should use db_dict_to_general_fmt() and general_fmt_dict_to_ratsql_schema()\n",
      "** db_dict_to_ratsql_schema: Deprecated, should use db_dict_to_general_fmt() and general_fmt_dict_to_ratsql_schema()\n",
      "** db_dict_to_ratsql_schema: Deprecated, should use db_dict_to_general_fmt() and general_fmt_dict_to_ratsql_schema()\n",
      "** db_dict_to_ratsql_schema: Deprecated, should use db_dict_to_general_fmt() and general_fmt_dict_to_ratsql_schema()\n",
      "** db_dict_to_ratsql_schema: Deprecated, should use db_dict_to_general_fmt() and general_fmt_dict_to_ratsql_schema()\n",
      "** db_dict_to_ratsql_schema: Deprecated, should use db_dict_to_general_fmt() and general_fmt_dict_to_ratsql_schema()\n",
      "** db_dict_to_ratsql_schema: Deprecated, should use db_dict_to_general_fmt() and general_fmt_dict_to_ratsql_schema()\n",
      "** db_dict_to_ratsql_schema: Deprecated, should use db_dict_to_general_fmt() and general_fmt_dict_to_ratsql_schema()\n",
      "** db_dict_to_ratsql_schema: Deprecated, should use db_dict_to_general_fmt() and general_fmt_dict_to_ratsql_schema()\n",
      "** db_dict_to_ratsql_schema: Deprecated, should use db_dict_to_general_fmt() and general_fmt_dict_to_ratsql_schema()\n",
      "** db_dict_to_ratsql_schema: Deprecated, should use db_dict_to_general_fmt() and general_fmt_dict_to_ratsql_schema()\n",
      "** db_dict_to_ratsql_schema: Deprecated, should use db_dict_to_general_fmt() and general_fmt_dict_to_ratsql_schema()\n",
      "** db_dict_to_ratsql_schema: Deprecated, should use db_dict_to_general_fmt() and general_fmt_dict_to_ratsql_schema()\n",
      "** db_dict_to_ratsql_schema: Deprecated, should use db_dict_to_general_fmt() and general_fmt_dict_to_ratsql_schema()\n",
      "** db_dict_to_ratsql_schema: Deprecated, should use db_dict_to_general_fmt() and general_fmt_dict_to_ratsql_schema()\n",
      "** db_dict_to_ratsql_schema: Deprecated, should use db_dict_to_general_fmt() and general_fmt_dict_to_ratsql_schema()\n",
      "** db_dict_to_ratsql_schema: Deprecated, should use db_dict_to_general_fmt() and general_fmt_dict_to_ratsql_schema()\n",
      "** db_dict_to_ratsql_schema: Deprecated, should use db_dict_to_general_fmt() and general_fmt_dict_to_ratsql_schema()\n",
      "** db_dict_to_ratsql_schema: Deprecated, should use db_dict_to_general_fmt() and general_fmt_dict_to_ratsql_schema()\n",
      "** db_dict_to_ratsql_schema: Deprecated, should use db_dict_to_general_fmt() and general_fmt_dict_to_ratsql_schema()\n",
      "** db_dict_to_ratsql_schema: Deprecated, should use db_dict_to_general_fmt() and general_fmt_dict_to_ratsql_schema()\n",
      "** db_dict_to_ratsql_schema: Deprecated, should use db_dict_to_general_fmt() and general_fmt_dict_to_ratsql_schema()\n",
      "** db_dict_to_ratsql_schema: Deprecated, should use db_dict_to_general_fmt() and general_fmt_dict_to_ratsql_schema()\n",
      "** db_dict_to_ratsql_schema: Deprecated, should use db_dict_to_general_fmt() and general_fmt_dict_to_ratsql_schema()\n",
      "** db_dict_to_ratsql_schema: Deprecated, should use db_dict_to_general_fmt() and general_fmt_dict_to_ratsql_schema()\n"
     ]
    },
    {
     "data": {
      "text/plain": [
       "166"
      ]
     },
     "execution_count": 39,
     "metadata": {},
     "output_type": "execute_result"
    }
   ],
   "source": [
    "spider_db_schemas_dict = dict()\n",
    "for db_id, db_dict in spider_dbs_dict.items():\n",
    "    db_schema = db_dict_to_ratsql_schema(db_dict, db_id,\n",
    "                                         sqlite_path=os.path.join(xsp_data_dir, f\"spider/database/{db_id}/{db_id}.sqlite\"),\n",
    "                                         rigorous_foreign_key=True)\n",
    "    spider_db_schemas_dict[db_id] = db_schema\n",
    "len(spider_db_schemas_dict)"
   ]
  },
  {
   "cell_type": "code",
   "execution_count": null,
   "metadata": {},
   "outputs": [],
   "source": [
    "orig_dataset[0]"
   ]
  },
  {
   "cell_type": "code",
   "execution_count": 409,
   "metadata": {},
   "outputs": [
    {
     "data": {
      "text/plain": [
       "array([-1,  0,  1,  1,  2,  3, -1,  0,  3])"
      ]
     },
     "execution_count": 409,
     "metadata": {},
     "output_type": "execute_result"
    }
   ],
   "source": [
    "# Test vector_pair_features()\n",
    "vector_pair_features(np.array([-1, 0, 1]), np.array([1, 2, 3]))"
   ]
  },
  {
   "cell_type": "code",
   "execution_count": 410,
   "metadata": {
    "scrolled": true
   },
   "outputs": [
    {
     "name": "stdout",
     "output_type": "stream",
     "text": [
      "Sampled output idx: 486\n",
      "i = 21, j = 3\n",
      "Nodes: <T>publication, who\n",
      "Relation: 22 (tq_default)\n",
      "Repr vectors:\n",
      "[ 0.66455     0.46284533 -0.73639905] ... [-0.23395467  0.34225646  0.00472841]\n",
      "[-0.03710726  0.37979963 -0.2971748 ] ... [-0.1910254   0.2258268   0.03110231]\n",
      "Combined vector:\n",
      "[ 0.66455     0.46284533 -0.73639905] ... [0.04469129 0.07729068 0.00014706]\n",
      "Label:\n",
      "22\n"
     ]
    },
    {
     "data": {
      "text/plain": [
       "(529, 529, 529)"
      ]
     },
     "execution_count": 410,
     "metadata": {},
     "output_type": "execute_result"
    }
   ],
   "source": [
    "# Test extract_probing_samples_link_prediction()\n",
    "d = orig_dataset[228]\n",
    "\n",
    "X, y, pos = extract_probing_samples_link_prediction(dataset_sample=d,\n",
    "                                                   db_schemas_dict=spider_db_schemas_dict,\n",
    "                                                   model=rat_sql_model_dict['model'],\n",
    "                                                   max_rel_occ=None,\n",
    "                                                   debug=True)\n",
    "len(X), len(y), len(pos)"
   ]
  },
  {
   "cell_type": "code",
   "execution_count": 411,
   "metadata": {},
   "outputs": [
    {
     "data": {
      "text/plain": [
       "([5238, 912, 204, 6074, 2253], [2525, 2987, 6521, 326, 2931])"
      ]
     },
     "execution_count": 411,
     "metadata": {},
     "output_type": "execute_result"
    }
   ],
   "source": [
    "# collect probing dataset (500 samples per train/test as planned)\n",
    "\n",
    "n_samples = 500\n",
    "\n",
    "random.seed(42)\n",
    "\n",
    "sel_ids = random.sample(range(len(orig_dataset)), k=n_samples*2)\n",
    "train_sel_ids = sel_ids[:n_samples]\n",
    "test_sel_ids = sel_ids[n_samples:]\n",
    "\n",
    "train_sel_ids[:5], test_sel_ids[:5]"
   ]
  },
  {
   "cell_type": "code",
   "execution_count": 412,
   "metadata": {},
   "outputs": [
    {
     "data": {
      "application/vnd.jupyter.widget-view+json": {
       "model_id": "3e34d92c934c4b12a7098fef5c0c8a4d",
       "version_major": 2,
       "version_minor": 0
      },
      "text/plain": [
       "HBox(children=(FloatProgress(value=0.0, max=500.0), HTML(value='')))"
      ]
     },
     "metadata": {},
     "output_type": "display_data"
    },
    {
     "name": "stdout",
     "output_type": "stream",
     "text": [
      "\n"
     ]
    },
    {
     "data": {
      "text/plain": [
       "(16263, 16263, 16263)"
      ]
     },
     "execution_count": 412,
     "metadata": {},
     "output_type": "execute_result"
    }
   ],
   "source": [
    "train_X = []\n",
    "train_y = []\n",
    "train_pos = []\n",
    "\n",
    "for idx in tqdm(train_sel_ids):\n",
    "    X, y, pos = extract_probing_samples_link_prediction(dataset_sample=orig_dataset[idx],\n",
    "                                                        db_schemas_dict=spider_db_schemas_dict,\n",
    "                                                        model=rat_sql_model_dict['model'],\n",
    "                                                        max_rel_occ=1)\n",
    "    train_X.extend(X)\n",
    "    train_y.extend(y)\n",
    "    \n",
    "    pos = [(idx, i, j) for i, j in pos]   # add sample idx \n",
    "    train_pos.extend(pos)\n",
    "    \n",
    "    time.sleep(0.5)\n",
    "    \n",
    "len(train_X), len(train_y), len(train_pos)"
   ]
  },
  {
   "cell_type": "code",
   "execution_count": 413,
   "metadata": {},
   "outputs": [],
   "source": [
    "output_path_train_X = os.path.join(probing_data_dir, f'{orig_ds}.train.X.pkl')\n",
    "output_path_train_y = os.path.join(probing_data_dir, f'{orig_ds}.train.y.pkl')\n",
    "output_path_train_pos = os.path.join(probing_data_dir, f'{orig_ds}.train.pos.txt')\n",
    "\n",
    "with open(output_path_train_X, 'wb') as f:\n",
    "    pickle.dump(train_X, f)\n",
    "with open(output_path_train_y, 'wb') as f:\n",
    "    pickle.dump(train_y, f)\n",
    "with open(output_path_train_pos, 'w') as f:\n",
    "    for idx, i, j in train_pos:\n",
    "        f.write(f'{idx}\\t{i}\\t{j}\\n')"
   ]
  },
  {
   "cell_type": "code",
   "execution_count": 414,
   "metadata": {},
   "outputs": [
    {
     "data": {
      "application/vnd.jupyter.widget-view+json": {
       "model_id": "7112f4c9a3c54efd9221fc45b718fa12",
       "version_major": 2,
       "version_minor": 0
      },
      "text/plain": [
       "HBox(children=(FloatProgress(value=0.0, max=500.0), HTML(value='')))"
      ]
     },
     "metadata": {},
     "output_type": "display_data"
    },
    {
     "name": "stdout",
     "output_type": "stream",
     "text": [
      "\n"
     ]
    },
    {
     "data": {
      "text/plain": [
       "(16252, 16252, 16252)"
      ]
     },
     "execution_count": 414,
     "metadata": {},
     "output_type": "execute_result"
    }
   ],
   "source": [
    "test_X = []\n",
    "test_y = []\n",
    "test_pos = []\n",
    "\n",
    "for idx in tqdm(test_sel_ids):\n",
    "    X, y, pos = extract_probing_samples_link_prediction(dataset_sample=orig_dataset[idx],\n",
    "                                                        db_schemas_dict=spider_db_schemas_dict,\n",
    "                                                        model=rat_sql_model_dict['model'],\n",
    "                                                        max_rel_occ=1)\n",
    "    test_X.extend(X)\n",
    "    test_y.extend(y)\n",
    "    \n",
    "    pos = [(idx, i, j) for i, j in pos]   # add sample idx \n",
    "    test_pos.extend(pos)\n",
    "    \n",
    "    time.sleep(0.5)\n",
    "    \n",
    "len(test_X), len(test_y), len(test_pos)"
   ]
  },
  {
   "cell_type": "code",
   "execution_count": 415,
   "metadata": {},
   "outputs": [],
   "source": [
    "output_path_test_X = os.path.join(probing_data_dir, f'{orig_ds}.test.X.pkl')\n",
    "output_path_test_y = os.path.join(probing_data_dir, f'{orig_ds}.test.y.pkl')\n",
    "output_path_test_pos = os.path.join(probing_data_dir, f'{orig_ds}.test.pos.txt')\n",
    "\n",
    "with open(output_path_test_X, 'wb') as f:\n",
    "    pickle.dump(test_X, f)\n",
    "with open(output_path_test_y, 'wb') as f:\n",
    "    pickle.dump(test_y, f)\n",
    "with open(output_path_test_pos, 'w') as f:\n",
    "    for idx, i, j in test_pos:\n",
    "        f.write(f'{idx}\\t{i}\\t{j}\\n')"
   ]
  },
  {
   "cell_type": "code",
   "execution_count": 416,
   "metadata": {
    "scrolled": true
   },
   "outputs": [
    {
     "name": "stdout",
     "output_type": "stream",
     "text": [
      "('qq_dist', 0) : 500\n",
      "('qq_dist', 1) : 500\n",
      "('qq_dist', 2) : 500\n",
      "qc_default : 500\n",
      "qt_default : 500\n",
      "('qq_dist', -1) : 500\n",
      "('qq_dist', -2) : 500\n",
      "cq_default : 500\n",
      "('cc_dist', 0) : 500\n",
      "cc_default : 500\n",
      "ct_any_table : 500\n",
      "cc_table_match : 500\n",
      "ct_default : 500\n",
      "ct_table_match : 500\n",
      "tq_default : 500\n",
      "tc_any_table : 500\n",
      "tc_table_match : 500\n",
      "tc_default : 500\n",
      "('tt_dist', 0) : 500\n",
      "ct_primary_key : 496\n",
      "tc_primary_key : 496\n",
      "cc_foreign_key_backward : 493\n",
      "cc_foreign_key_forward : 493\n",
      "tt_foreign_key_backward : 493\n",
      "tt_foreign_key_forward : 493\n",
      "qtTEM : 448\n",
      "tqTEM : 448\n",
      "tt_default : 431\n",
      "qcCEM : 358\n",
      "cqCEM : 358\n",
      "qcCPM : 347\n",
      "cqCPM : 347\n",
      "qcCELLMATCH : 229\n",
      "cqCELLMATCH : 229\n",
      "qtTPM : 156\n",
      "tqTPM : 156\n",
      "qcNUMBER : 93\n",
      "cqNUMBER : 93\n",
      "qcTIME : 27\n",
      "cqTIME : 27\n",
      "ct_foreign_key : 26\n",
      "tc_foreign_key : 26\n"
     ]
    }
   ],
   "source": [
    "y_counter = Counter(train_y)\n",
    "\n",
    "for r, c in y_counter.most_common():\n",
    "    print(relation_id2name[r], ':', c)"
   ]
  },
  {
   "cell_type": "code",
   "execution_count": 417,
   "metadata": {},
   "outputs": [
    {
     "data": {
      "text/plain": [
       "(42, 51)"
      ]
     },
     "execution_count": 417,
     "metadata": {},
     "output_type": "execute_result"
    }
   ],
   "source": [
    "len(y_counter), len(relation_id2name)"
   ]
  },
  {
   "cell_type": "code",
   "execution_count": 418,
   "metadata": {
    "scrolled": true
   },
   "outputs": [
    {
     "name": "stdout",
     "output_type": "stream",
     "text": [
      "('qq_dist', 0) : 500\n",
      "('qq_dist', 1) : 500\n",
      "('qq_dist', 2) : 500\n",
      "qc_default : 500\n",
      "qt_default : 500\n",
      "('qq_dist', -1) : 500\n",
      "('qq_dist', -2) : 500\n",
      "cq_default : 500\n",
      "('cc_dist', 0) : 500\n",
      "cc_default : 500\n",
      "ct_any_table : 500\n",
      "cc_table_match : 500\n",
      "ct_default : 500\n",
      "ct_table_match : 500\n",
      "tq_default : 500\n",
      "tc_any_table : 500\n",
      "tc_table_match : 500\n",
      "tc_default : 500\n",
      "('tt_dist', 0) : 500\n",
      "ct_primary_key : 496\n",
      "tc_primary_key : 496\n",
      "cc_foreign_key_backward : 495\n",
      "cc_foreign_key_forward : 495\n",
      "tt_foreign_key_backward : 495\n",
      "tt_foreign_key_forward : 495\n",
      "qtTEM : 454\n",
      "tqTEM : 454\n",
      "tt_default : 436\n",
      "qcCEM : 350\n",
      "cqCEM : 350\n",
      "qcCPM : 344\n",
      "cqCPM : 344\n",
      "qcCELLMATCH : 220\n",
      "cqCELLMATCH : 220\n",
      "qtTPM : 160\n",
      "tqTPM : 160\n",
      "qcNUMBER : 96\n",
      "cqNUMBER : 96\n",
      "qcTIME : 32\n",
      "cqTIME : 32\n",
      "ct_foreign_key : 16\n",
      "tc_foreign_key : 16\n"
     ]
    }
   ],
   "source": [
    "y_counter = Counter(test_y)\n",
    "\n",
    "for r, c in y_counter.most_common():\n",
    "    print(relation_id2name[r], ':', c)"
   ]
  },
  {
   "cell_type": "code",
   "execution_count": 419,
   "metadata": {},
   "outputs": [
    {
     "data": {
      "text/plain": [
       "(42, 51)"
      ]
     },
     "execution_count": 419,
     "metadata": {},
     "output_type": "execute_result"
    }
   ],
   "source": [
    "len(y_counter), len(relation_id2name)"
   ]
  },
  {
   "cell_type": "code",
   "execution_count": 420,
   "metadata": {},
   "outputs": [
    {
     "name": "stdout",
     "output_type": "stream",
     "text": [
      "('tt_dist', -2)\n",
      "('tt_dist', -1)\n",
      "('tt_dist', 1)\n",
      "('tt_dist', 2)\n",
      "('cc_dist', -2)\n",
      "('cc_dist', -1)\n",
      "('cc_dist', 1)\n",
      "('cc_dist', 2)\n",
      "tt_foreign_key_both\n"
     ]
    }
   ],
   "source": [
    "for r in set(relation_id2name.keys()) - set(y_counter.keys()):\n",
    "    print(relation_id2name[r])"
   ]
  },
  {
   "cell_type": "code",
   "execution_count": null,
   "metadata": {},
   "outputs": [],
   "source": []
  },
  {
   "cell_type": "markdown",
   "metadata": {},
   "source": [
    "### Probing experiments"
   ]
  },
  {
   "cell_type": "code",
   "execution_count": 422,
   "metadata": {},
   "outputs": [],
   "source": [
    "train_train_X_path = '/Users/mac/Desktop/syt/Deep-Learning/Projects-M/SDR-analysis/data/text2sql/link_prediction/spider/train.train.X.pkl'\n",
    "train_train_y_path = '/Users/mac/Desktop/syt/Deep-Learning/Projects-M/SDR-analysis/data/text2sql/link_prediction/spider/train.train.y.pkl'\n",
    "train_test_X_path = '/Users/mac/Desktop/syt/Deep-Learning/Projects-M/SDR-analysis/data/text2sql/link_prediction/spider/train.test.X.pkl'\n",
    "train_test_y_path = '/Users/mac/Desktop/syt/Deep-Learning/Projects-M/SDR-analysis/data/text2sql/link_prediction/spider/train.test.y.pkl'\n",
    "dev_train_X_path = '/Users/mac/Desktop/syt/Deep-Learning/Projects-M/SDR-analysis/data/text2sql/link_prediction/spider/dev.train.X.pkl'\n",
    "dev_train_y_path = '/Users/mac/Desktop/syt/Deep-Learning/Projects-M/SDR-analysis/data/text2sql/link_prediction/spider/dev.train.y.pkl'\n",
    "dev_test_X_path = '/Users/mac/Desktop/syt/Deep-Learning/Projects-M/SDR-analysis/data/text2sql/link_prediction/spider/dev.test.X.pkl'\n",
    "dev_test_y_path = '/Users/mac/Desktop/syt/Deep-Learning/Projects-M/SDR-analysis/data/text2sql/link_prediction/spider/dev.test.y.pkl'"
   ]
  },
  {
   "cell_type": "code",
   "execution_count": 423,
   "metadata": {},
   "outputs": [
    {
     "data": {
      "text/plain": [
       "(16263, 16263, 16252, 16252, 16059, 16059, 16035, 16035)"
      ]
     },
     "execution_count": 423,
     "metadata": {},
     "output_type": "execute_result"
    }
   ],
   "source": [
    "with open(train_train_X_path, 'rb') as f:\n",
    "    train_train_X = pickle.load(f)\n",
    "with open(train_train_y_path, 'rb') as f:\n",
    "    train_train_y = pickle.load(f)\n",
    "with open(train_test_X_path, 'rb') as f:\n",
    "    train_test_X = pickle.load(f)\n",
    "with open(train_test_y_path, 'rb') as f:\n",
    "    train_test_y = pickle.load(f)\n",
    "with open(dev_train_X_path, 'rb') as f:\n",
    "    dev_train_X = pickle.load(f)\n",
    "with open(dev_train_y_path, 'rb') as f:\n",
    "    dev_train_y = pickle.load(f)\n",
    "with open(dev_test_X_path, 'rb') as f:\n",
    "    dev_test_X = pickle.load(f)\n",
    "with open(dev_test_y_path, 'rb') as f:\n",
    "    dev_test_y = pickle.load(f)\n",
    "    \n",
    "len(train_train_X), len(train_train_y), len(train_test_X), len(train_test_y), \\\n",
    "len(dev_train_X), len(dev_train_y), len(dev_test_X), len(dev_test_y)"
   ]
  },
  {
   "cell_type": "code",
   "execution_count": 432,
   "metadata": {},
   "outputs": [],
   "source": [
    "## Train on train.train"
   ]
  },
  {
   "cell_type": "code",
   "execution_count": 424,
   "metadata": {},
   "outputs": [
    {
     "name": "stderr",
     "output_type": "stream",
     "text": [
      "/Users/mac/.pyenv/versions/3.7.5/envs/py3.7-ratsql/lib/python3.7/site-packages/sklearn/linear_model/_logistic.py:764: ConvergenceWarning: lbfgs failed to converge (status=1):\n",
      "STOP: TOTAL NO. of ITERATIONS REACHED LIMIT.\n",
      "\n",
      "Increase the number of iterations (max_iter) or scale the data as shown in:\n",
      "    https://scikit-learn.org/stable/modules/preprocessing.html\n",
      "Please also refer to the documentation for alternative solver options:\n",
      "    https://scikit-learn.org/stable/modules/linear_model.html#logistic-regression\n",
      "  extra_warning_msg=_LOGISTIC_SOLVER_CONVERGENCE_MSG)\n"
     ]
    },
    {
     "data": {
      "text/plain": [
       "LogisticRegression()"
      ]
     },
     "execution_count": 424,
     "metadata": {},
     "output_type": "execute_result"
    }
   ],
   "source": [
    "clf_train = LogisticRegression(C=1.0)\n",
    "clf_train.fit(train_train_X, train_train_y)"
   ]
  },
  {
   "cell_type": "code",
   "execution_count": 445,
   "metadata": {},
   "outputs": [],
   "source": [
    "clf_train_save_path = os.path.join(probing_exp_dir, 'clf_train.pkl')\n",
    "\n",
    "with open(clf_train_save_path, 'wb') as f:\n",
    "    pickle.dump(clf_train, f)"
   ]
  },
  {
   "cell_type": "code",
   "execution_count": 446,
   "metadata": {},
   "outputs": [],
   "source": [
    "with open(clf_train_save_path, 'rb') as f:\n",
    "    clf_train = pickle.load(f)"
   ]
  },
  {
   "cell_type": "code",
   "execution_count": 447,
   "metadata": {},
   "outputs": [],
   "source": [
    "# train-train\n",
    "preds_train_test_y = clf_train.predict(train_test_X)"
   ]
  },
  {
   "cell_type": "code",
   "execution_count": 448,
   "metadata": {},
   "outputs": [
    {
     "data": {
      "text/plain": [
       "0.8451267536303224"
      ]
     },
     "execution_count": 448,
     "metadata": {},
     "output_type": "execute_result"
    }
   ],
   "source": [
    "sum([py == ty for py, ty in zip(preds_train_test_y, train_test_y)]) / len(train_test_y)"
   ]
  },
  {
   "cell_type": "code",
   "execution_count": 449,
   "metadata": {},
   "outputs": [],
   "source": [
    "# train-dev\n",
    "preds_dev_test_y = clf_train.predict(dev_test_X)"
   ]
  },
  {
   "cell_type": "code",
   "execution_count": 450,
   "metadata": {},
   "outputs": [
    {
     "data": {
      "text/plain": [
       "0.863548487683193"
      ]
     },
     "execution_count": 450,
     "metadata": {},
     "output_type": "execute_result"
    }
   ],
   "source": [
    "sum([py == ty for py, ty in zip(preds_dev_test_y, dev_test_y)]) / len(dev_test_y)"
   ]
  },
  {
   "cell_type": "code",
   "execution_count": 433,
   "metadata": {},
   "outputs": [],
   "source": [
    "## Train on dev.train"
   ]
  },
  {
   "cell_type": "code",
   "execution_count": 434,
   "metadata": {
    "scrolled": true
   },
   "outputs": [
    {
     "name": "stderr",
     "output_type": "stream",
     "text": [
      "/Users/mac/.pyenv/versions/3.7.5/envs/py3.7-ratsql/lib/python3.7/site-packages/sklearn/linear_model/_logistic.py:764: ConvergenceWarning: lbfgs failed to converge (status=1):\n",
      "STOP: TOTAL NO. of ITERATIONS REACHED LIMIT.\n",
      "\n",
      "Increase the number of iterations (max_iter) or scale the data as shown in:\n",
      "    https://scikit-learn.org/stable/modules/preprocessing.html\n",
      "Please also refer to the documentation for alternative solver options:\n",
      "    https://scikit-learn.org/stable/modules/linear_model.html#logistic-regression\n",
      "  extra_warning_msg=_LOGISTIC_SOLVER_CONVERGENCE_MSG)\n"
     ]
    },
    {
     "data": {
      "text/plain": [
       "LogisticRegression()"
      ]
     },
     "execution_count": 434,
     "metadata": {},
     "output_type": "execute_result"
    }
   ],
   "source": [
    "clf_dev = LogisticRegression(C=1.0)\n",
    "clf_dev.fit(dev_train_X, dev_train_y)"
   ]
  },
  {
   "cell_type": "code",
   "execution_count": 444,
   "metadata": {},
   "outputs": [],
   "source": [
    "clf_dev_save_path = os.path.join(probing_exp_dir, 'clf_dev.pkl')\n",
    "\n",
    "with open(clf_dev_save_path, 'wb') as f:\n",
    "    pickle.dump(clf_dev, f)"
   ]
  },
  {
   "cell_type": "code",
   "execution_count": 451,
   "metadata": {},
   "outputs": [],
   "source": [
    "with open(clf_dev_save_path, 'rb') as f:\n",
    "    clf_dev = pickle.load(f)"
   ]
  },
  {
   "cell_type": "code",
   "execution_count": 452,
   "metadata": {},
   "outputs": [
    {
     "data": {
      "text/plain": [
       "(40, 768)"
      ]
     },
     "execution_count": 452,
     "metadata": {},
     "output_type": "execute_result"
    }
   ],
   "source": [
    "clf_dev.coef_.shape"
   ]
  },
  {
   "cell_type": "code",
   "execution_count": 453,
   "metadata": {},
   "outputs": [
    {
     "data": {
      "text/plain": [
       "(array([[-0.80019769, -0.310581  ,  0.22105818, -0.97968546, -0.34733584,\n",
       "          0.31893237,  0.38149306, -0.25577057, -0.60828252, -0.04704865],\n",
       "        [-0.61489598, -0.2648912 ,  0.1570404 , -0.44630992, -0.13713991,\n",
       "         -0.0336505 ,  0.35800063, -0.03629656, -0.09981454,  0.74472062],\n",
       "        [-0.11164215, -0.27722106,  0.33412083,  0.42736333, -0.16961653,\n",
       "         -0.11628333,  0.13258798, -0.17215397,  0.14638017,  0.06203258],\n",
       "        [-0.41538832, -0.01712923,  0.04621374,  0.80956922, -0.02668683,\n",
       "          0.3356642 ,  0.00276802,  0.14841327,  0.0273386 ,  0.3711157 ],\n",
       "        [-0.066393  , -0.22268648,  0.64487417,  1.11459103, -0.21232745,\n",
       "          0.21571025, -0.25149596,  0.0589617 ,  0.49173806,  0.44301353],\n",
       "        [-0.57114421, -0.25044479,  0.29635857,  0.15346643, -0.38270093,\n",
       "          0.19178963,  0.01220698, -0.18477867,  0.21283573,  0.51224108],\n",
       "        [-0.56462636, -0.13272939,  0.36375653, -0.05909965, -0.27392543,\n",
       "          0.26266305,  0.06343585, -0.12680733, -0.15447755,  0.6023677 ],\n",
       "        [-0.08192321,  0.63505682,  0.13284545, -0.0204983 ,  0.27023435,\n",
       "          0.28523021,  0.0038505 ,  0.6534297 , -0.03601636, -0.00323193],\n",
       "        [ 0.06172746,  0.05474598,  0.23342884, -0.01789637,  0.41805632,\n",
       "          0.01941647, -0.1992545 ,  0.36977032,  0.2361692 ,  0.0170163 ],\n",
       "        [-0.08172453,  0.1651648 , -0.57899041, -0.29363619, -0.09377538,\n",
       "          0.58570304, -0.51651436,  0.24095868, -0.45544437,  0.42987729]]),\n",
       " array([ 0.29374702,  0.90593196, -1.18832808,  0.57441167,  0.3341113 ,\n",
       "         0.30136318,  0.3198287 ,  0.25919127,  0.46723486, -0.20937284,\n",
       "        -0.16062632,  0.39617102, -0.85623113,  0.43527409, -0.29375216,\n",
       "        -0.22235043, -0.34122494,  0.26441922,  0.36328099, -0.21671945,\n",
       "        -0.20676785, -0.33998146,  0.19954966, -0.01070839, -0.02190141,\n",
       "        -0.6275459 , -0.00453504,  0.03872346, -0.19814736, -0.21299979,\n",
       "         0.07492089,  0.12675034, -0.0833945 , -0.01587534, -0.1001547 ,\n",
       "        -0.01445591, -0.0415885 ,  0.01119564,  0.01673074, -0.01617448]))"
      ]
     },
     "execution_count": 453,
     "metadata": {},
     "output_type": "execute_result"
    }
   ],
   "source": [
    "clf_dev.coef_[:10, :10], clf_dev.intercept_"
   ]
  },
  {
   "cell_type": "code",
   "execution_count": 454,
   "metadata": {},
   "outputs": [
    {
     "data": {
      "text/plain": [
       "16035"
      ]
     },
     "execution_count": 454,
     "metadata": {},
     "output_type": "execute_result"
    }
   ],
   "source": [
    "preds_dev_test_y = clf_dev.predict(dev_test_X)\n",
    "len(preds_dev_test_y)"
   ]
  },
  {
   "cell_type": "code",
   "execution_count": 455,
   "metadata": {},
   "outputs": [
    {
     "data": {
      "text/plain": [
       "0.8743997505456813"
      ]
     },
     "execution_count": 455,
     "metadata": {},
     "output_type": "execute_result"
    }
   ],
   "source": [
    "sum([py == ty for py, ty in zip(preds_dev_test_y, dev_test_y)]) / len(dev_test_y)"
   ]
  },
  {
   "cell_type": "code",
   "execution_count": 430,
   "metadata": {
    "scrolled": true
   },
   "outputs": [
    {
     "name": "stdout",
     "output_type": "stream",
     "text": [
      "('qq_dist', 0) : 622\n",
      "('tt_dist', 0) : 601\n",
      "ct_table_match : 556\n",
      "('cc_dist', 0) : 546\n",
      "ct_primary_key : 546\n",
      "tc_primary_key : 537\n",
      "tc_table_match : 530\n",
      "cc_foreign_key_backward : 525\n",
      "tq_default : 507\n",
      "ct_any_table : 500\n",
      "tc_any_table : 500\n",
      "qt_default : 495\n",
      "cc_default : 491\n",
      "qc_default : 489\n",
      "cq_default : 482\n",
      "('qq_dist', 2) : 481\n",
      "cc_foreign_key_forward : 481\n",
      "tt_foreign_key_forward : 481\n",
      "tt_foreign_key_backward : 479\n",
      "('qq_dist', -2) : 466\n",
      "('qq_dist', 1) : 463\n",
      "('qq_dist', -1) : 462\n",
      "cc_table_match : 456\n",
      "tc_default : 433\n",
      "qtTEM : 427\n",
      "tqTEM : 426\n",
      "tt_default : 411\n",
      "ct_default : 401\n",
      "qcCEM : 396\n",
      "cqCEM : 392\n",
      "cqCPM : 328\n",
      "qcCPM : 323\n",
      "cqCELLMATCH : 209\n",
      "qcCELLMATCH : 201\n",
      "qtTPM : 102\n",
      "tqTPM : 93\n",
      "cqNUMBER : 82\n",
      "qcNUMBER : 80\n",
      "qcTIME : 17\n",
      "cqTIME : 17\n",
      "tc_foreign_key : 1\n"
     ]
    }
   ],
   "source": [
    "y_counter = Counter(preds_dev_test_y)\n",
    "\n",
    "for r, c in y_counter.most_common():\n",
    "    print(relation_id2name[r], ':', c)"
   ]
  },
  {
   "cell_type": "code",
   "execution_count": null,
   "metadata": {},
   "outputs": [],
   "source": []
  },
  {
   "cell_type": "code",
   "execution_count": null,
   "metadata": {},
   "outputs": [],
   "source": []
  },
  {
   "cell_type": "markdown",
   "metadata": {},
   "source": [
    "## Temp"
   ]
  },
  {
   "cell_type": "markdown",
   "metadata": {},
   "source": [
    "### Test: getting F-P pairs from sqlite"
   ]
  },
  {
   "cell_type": "code",
   "execution_count": 213,
   "metadata": {},
   "outputs": [],
   "source": [
    "db_id = 'imdb'\n",
    "sqlite_path = f\"/Users/mac/Desktop/syt/Deep-Learning/Repos/Google-Research-Language/language/language/xsp/data/spider/database/{db_id}/{db_id}.sqlite\"\n",
    "\n",
    "sqlite_conn = sqlite3.connect(str(sqlite_path))"
   ]
  },
  {
   "cell_type": "code",
   "execution_count": 214,
   "metadata": {},
   "outputs": [
    {
     "data": {
      "text/plain": [
       "['actor',\n",
       " 'copyright',\n",
       " 'cast',\n",
       " 'genre',\n",
       " 'classification',\n",
       " 'company',\n",
       " 'director',\n",
       " 'producer',\n",
       " 'directed_by',\n",
       " 'keyword',\n",
       " 'made_by',\n",
       " 'movie',\n",
       " 'tags',\n",
       " 'tv_series',\n",
       " 'writer',\n",
       " 'written_by']"
      ]
     },
     "execution_count": 214,
     "metadata": {},
     "output_type": "execute_result"
    }
   ],
   "source": [
    "## Copied from stackoverflow \n",
    "rows = sqlite_conn.execute(\"SELECT name FROM sqlite_master WHERE type = 'table'\")\n",
    "tables = [r[0] for r in rows]\n",
    "tables"
   ]
  },
  {
   "cell_type": "code",
   "execution_count": 215,
   "metadata": {
    "scrolled": true
   },
   "outputs": [
    {
     "name": "stdout",
     "output_type": "stream",
     "text": [
      "table: actor\n",
      "[(0, 'aid', 'int', 0, None, 1), (1, 'gender', 'text', 0, None, 0), (2, 'name', 'text', 0, None, 0), (3, 'nationality', 'text', 0, None, 0), (4, 'birth_city', 'text', 0, None, 0), (5, 'birth_year', 'int', 0, None, 0)]\n",
      "[]\n",
      "table: copyright\n",
      "[(0, 'id', 'int', 0, None, 1), (1, 'msid', 'int', 0, None, 0), (2, 'cid', 'int', 0, None, 0)]\n",
      "[]\n",
      "table: cast\n",
      "[(0, 'id', 'int', 0, None, 1), (1, 'msid', 'int', 0, None, 0), (2, 'aid', 'int', 0, None, 0), (3, 'role', 'int', 0, None, 0)]\n",
      "[(0, 0, 'copyright', 'msid', 'msid', 'NO ACTION', 'NO ACTION', 'NONE'), (1, 0, 'actor', 'aid', 'aid', 'NO ACTION', 'NO ACTION', 'NONE')]\n",
      "table: genre\n",
      "[(0, 'gid', 'int', 0, None, 1), (1, 'genre', 'text', 0, None, 0)]\n",
      "[]\n",
      "table: classification\n",
      "[(0, 'id', 'int', 0, None, 1), (1, 'msid', 'int', 0, None, 0), (2, 'gid', 'int', 0, None, 0)]\n",
      "[(0, 0, 'copyright', 'msid', 'msid', 'NO ACTION', 'NO ACTION', 'NONE'), (1, 0, 'genre', 'gid', 'gid', 'NO ACTION', 'NO ACTION', 'NONE')]\n",
      "table: company\n",
      "[(0, 'id', 'int', 0, None, 1), (1, 'name', 'text', 0, None, 0), (2, 'country_code', 'text', 0, None, 0)]\n",
      "[]\n",
      "table: director\n",
      "[(0, 'did', 'int', 0, None, 1), (1, 'gender', 'text', 0, None, 0), (2, 'name', 'text', 0, None, 0), (3, 'nationality', 'text', 0, None, 0), (4, 'birth_city', 'text', 0, None, 0), (5, 'birth_year', 'int', 0, None, 0)]\n",
      "[]\n",
      "table: producer\n",
      "[(0, 'pid', 'int', 0, None, 1), (1, 'gender', 'text', 0, None, 0), (2, 'name', 'text', 0, None, 0), (3, 'nationality', 'text', 0, None, 0), (4, 'birth_city', 'text', 0, None, 0), (5, 'birth_year', 'int', 0, None, 0)]\n",
      "[]\n",
      "table: directed_by\n",
      "[(0, 'id', 'int', 0, None, 1), (1, 'msid', 'int', 0, None, 0), (2, 'did', 'int', 0, None, 0)]\n",
      "[(0, 0, 'director', 'did', 'did', 'NO ACTION', 'NO ACTION', 'NONE'), (1, 0, 'copyright', 'msid', 'msid', 'NO ACTION', 'NO ACTION', 'NONE')]\n",
      "table: keyword\n",
      "[(0, 'id', 'int', 0, None, 1), (1, 'keyword', 'text', 0, None, 0)]\n",
      "[]\n",
      "table: made_by\n",
      "[(0, 'id', 'int', 0, None, 1), (1, 'msid', 'int', 0, None, 0), (2, 'pid', 'int', 0, None, 0)]\n",
      "[(0, 0, 'producer', 'pid', 'pid', 'NO ACTION', 'NO ACTION', 'NONE'), (1, 0, 'copyright', 'msid', 'msid', 'NO ACTION', 'NO ACTION', 'NONE')]\n",
      "table: movie\n",
      "[(0, 'mid', 'int', 0, None, 1), (1, 'title', 'text', 0, None, 0), (2, 'release_year', 'int', 0, None, 0), (3, 'title_aka', 'text', 0, None, 0), (4, 'budget', 'text', 0, None, 0)]\n",
      "[]\n",
      "table: tags\n",
      "[(0, 'id', 'int', 0, None, 1), (1, 'msid', 'int', 0, None, 0), (2, 'kid', 'int', 0, None, 0)]\n",
      "[(0, 0, 'keyword', 'kid', 'kid', 'NO ACTION', 'NO ACTION', 'NONE'), (1, 0, 'copyright', 'msid', 'msid', 'NO ACTION', 'NO ACTION', 'NONE')]\n",
      "table: tv_series\n",
      "[(0, 'sid', 'int', 0, None, 1), (1, 'title', 'text', 0, None, 0), (2, 'release_year', 'int', 0, None, 0), (3, 'num_of_seasons', 'int', 0, None, 0), (4, 'num_of_episodes', 'int', 0, None, 0), (5, 'title_aka', 'text', 0, None, 0), (6, 'budget', 'text', 0, None, 0)]\n",
      "[]\n",
      "table: writer\n",
      "[(0, 'wid', 'int', 0, None, 1), (1, 'gender', 'text', 0, None, 0), (2, 'name', 'int', 0, None, 0), (3, 'nationality', 'int', 0, None, 0), (4, 'num_of_episodes', 'int', 0, None, 0), (5, 'birth_city', 'text', 0, None, 0), (6, 'birth_year', 'int', 0, None, 0)]\n",
      "[]\n",
      "table: written_by\n",
      "[(0, 'id', 'int', 0, None, 0), (1, 'msid', 'int', 0, None, 0), (2, 'wid', 'int', 0, None, 0)]\n",
      "[(0, 0, 'writer', 'wid', 'wid', 'NO ACTION', 'NO ACTION', 'NONE'), (1, 0, 'copyright', 'msid', 'msid', 'NO ACTION', 'NO ACTION', 'NONE')]\n"
     ]
    }
   ],
   "source": [
    "## Copied from stackoverflow \n",
    "def sql_identifier(s):\n",
    "    return '\"' + s.replace('\"', '\"\"') + '\"'\n",
    "\n",
    "for table in tables:\n",
    "    print(\"table: \" + table)\n",
    "    rows = sqlite_conn.execute(\"PRAGMA table_info({})\".format(sql_identifier(table)))\n",
    "    print(rows.fetchall())\n",
    "    rows = sqlite_conn.execute(\"PRAGMA foreign_key_list({})\".format(sql_identifier(table)))\n",
    "    print(rows.fetchall())"
   ]
  },
  {
   "cell_type": "code",
   "execution_count": null,
   "metadata": {},
   "outputs": [],
   "source": [
    "# with sqlite3.connect(str(sqlite_path)) as source:\n",
    "#     dest = sqlite3.connect(':memory:')\n",
    "#     dest.row_factory = sqlite3.Row\n",
    "#     source.backup(dest)"
   ]
  },
  {
   "cell_type": "markdown",
   "metadata": {},
   "source": [
    "### Test: get rat-sql graph"
   ]
  },
  {
   "cell_type": "code",
   "execution_count": null,
   "metadata": {},
   "outputs": [],
   "source": [
    "# def Question(q, db_schema, model_dict):\n",
    "#     model = model_dict['model']\n",
    "#     inferer = model_dict['inferer']\n",
    "    \n",
    "#     data_item = SpiderItem(\n",
    "#         text=None,  # intentionally None -- should be ignored when the tokenizer is set correctly\n",
    "#         code=None,\n",
    "#         schema=db_schema,\n",
    "#         orig_schema=db_schema.orig,\n",
    "#         orig={\"question\": q}\n",
    "#     )\n",
    "    \n",
    "#     model.preproc.clear_items()\n",
    "#     enc_input = model.preproc.enc_preproc.preprocess_item(data_item, None)\n",
    "#     preproc_data = enc_input, None\n",
    "    \n",
    "#     with torch.no_grad():\n",
    "#         return inferer._infer_one(model, data_item, preproc_data, beam_size=1, use_heuristic=True)\n",
    "    \n",
    "\n",
    "# Question('name of people', test_schema, rat_sql_model_dict)"
   ]
  },
  {
   "cell_type": "code",
   "execution_count": 325,
   "metadata": {},
   "outputs": [],
   "source": [
    "db_id = 'concert_singer'\n",
    "db_dict = spider_dbs_dict[db_id]\n",
    "db_schema = db_dict_to_ratsql_schema(db_dict,\n",
    "                                     db_id,\n",
    "                                     sqlite_path=f\"/Users/mac/Desktop/syt/Deep-Learning/Repos/Google-Research-Language/language/language/xsp/data/spider/database/{db_id}/{db_id}.sqlite\")"
   ]
  },
  {
   "cell_type": "code",
   "execution_count": null,
   "metadata": {},
   "outputs": [],
   "source": [
    "db_schema"
   ]
  },
  {
   "cell_type": "code",
   "execution_count": 326,
   "metadata": {},
   "outputs": [],
   "source": [
    "question = \"How many singers are from France?\"\n",
    "\n",
    "model = rat_sql_model_dict['model']\n",
    "inferer = rat_sql_model_dict['inferer']\n",
    "\n",
    "data_item = SpiderItem(\n",
    "    text=None,  # intentionally None -- should be ignored when the tokenizer is set correctly\n",
    "    code=None,\n",
    "    schema=db_schema,\n",
    "    orig_schema=db_schema.orig,\n",
    "    orig={\"question\": question}\n",
    ")\n",
    "\n",
    "model.preproc.clear_items()\n",
    "enc_input = model.preproc.enc_preproc.preprocess_item(data_item, None)"
   ]
  },
  {
   "cell_type": "code",
   "execution_count": 327,
   "metadata": {
    "scrolled": true
   },
   "outputs": [
    {
     "data": {
      "text/plain": [
       "{'column_names': [(-1, '*'),\n",
       "  (0, 'stadium id'),\n",
       "  (0, 'location'),\n",
       "  (0, 'name'),\n",
       "  (0, 'capacity'),\n",
       "  (0, 'highest'),\n",
       "  (0, 'lowest'),\n",
       "  (0, 'average'),\n",
       "  (1, 'singer id'),\n",
       "  (1, 'name'),\n",
       "  (1, 'country'),\n",
       "  (1, 'song name'),\n",
       "  (1, 'song release year'),\n",
       "  (1, 'age'),\n",
       "  (1, 'is male'),\n",
       "  (2, 'concert id'),\n",
       "  (2, 'concert name'),\n",
       "  (2, 'theme'),\n",
       "  (2, 'stadium id'),\n",
       "  (2, 'year'),\n",
       "  (3, 'concert id'),\n",
       "  (3, 'singer id')],\n",
       " 'column_names_original': [(-1, '*'),\n",
       "  (0, 'Stadium_ID'),\n",
       "  (0, 'Location'),\n",
       "  (0, 'Name'),\n",
       "  (0, 'Capacity'),\n",
       "  (0, 'Highest'),\n",
       "  (0, 'Lowest'),\n",
       "  (0, 'Average'),\n",
       "  (1, 'Singer_ID'),\n",
       "  (1, 'Name'),\n",
       "  (1, 'Country'),\n",
       "  (1, 'Song_Name'),\n",
       "  (1, 'Song_release_year'),\n",
       "  (1, 'Age'),\n",
       "  (1, 'Is_male'),\n",
       "  (2, 'concert_ID'),\n",
       "  (2, 'concert_Name'),\n",
       "  (2, 'Theme'),\n",
       "  (2, 'Stadium_ID'),\n",
       "  (2, 'Year'),\n",
       "  (3, 'concert_ID'),\n",
       "  (3, 'Singer_ID')],\n",
       " 'column_types': ['text',\n",
       "  'number',\n",
       "  'text',\n",
       "  'text',\n",
       "  'number',\n",
       "  'number',\n",
       "  'number',\n",
       "  'number',\n",
       "  'number',\n",
       "  'text',\n",
       "  'text',\n",
       "  'text',\n",
       "  'text',\n",
       "  'number',\n",
       "  'others',\n",
       "  'number',\n",
       "  'text',\n",
       "  'text',\n",
       "  'text',\n",
       "  'text',\n",
       "  'number',\n",
       "  'text'],\n",
       " 'db_id': 'concert_singer',\n",
       " 'foreign_keys': [[18, 1], [21, 8], [20, 15]],\n",
       " 'primary_keys': [1, 8, 15, 20],\n",
       " 'table_names': ['stadium', 'singer', 'concert', 'singer in concert'],\n",
       " 'table_names_original': ['stadium', 'singer', 'concert', 'singer_in_concert']}"
      ]
     },
     "execution_count": 327,
     "metadata": {},
     "output_type": "execute_result"
    }
   ],
   "source": [
    "db_schema.orig"
   ]
  },
  {
   "cell_type": "code",
   "execution_count": 328,
   "metadata": {
    "scrolled": true
   },
   "outputs": [
    {
     "data": {
      "text/plain": [
       "{'raw_question': 'How many singers are from France?',\n",
       " 'question': ['how', 'many', 'singer', 'be', 'from', 'france', '?'],\n",
       " 'question_for_copying': ['how',\n",
       "  'many',\n",
       "  'singers',\n",
       "  'are',\n",
       "  'from',\n",
       "  'france',\n",
       "  '?'],\n",
       " 'db_id': 'concert_singer',\n",
       " 'sc_link': {'q_col_match': {'2,8': 'CPM', '2,21': 'CPM'},\n",
       "  'q_tab_match': {'2,1': 'TEM', '2,3': 'TPM'}},\n",
       " 'cv_link': {'num_date_match': {}, 'cell_match': {'5,10': 'CELLMATCH'}},\n",
       " 'columns': [['<type: text>', '*'],\n",
       "  ['<type: number>', 'stadium', 'id'],\n",
       "  ['<type: text>', 'location'],\n",
       "  ['<type: text>', 'name'],\n",
       "  ['<type: number>', 'capacity'],\n",
       "  ['<type: number>', 'highest'],\n",
       "  ['<type: number>', 'lowest'],\n",
       "  ['<type: number>', 'average'],\n",
       "  ['<type: number>', 'singer', 'id'],\n",
       "  ['<type: text>', 'name'],\n",
       "  ['<type: text>', 'country'],\n",
       "  ['<type: text>', 'song', 'name'],\n",
       "  ['<type: text>', 'song', 'release', 'year'],\n",
       "  ['<type: number>', 'age'],\n",
       "  ['<type: others>', 'be', 'male'],\n",
       "  ['<type: number>', 'concert', 'id'],\n",
       "  ['<type: text>', 'concert', 'name'],\n",
       "  ['<type: text>', 'theme'],\n",
       "  ['<type: text>', 'stadium', 'id'],\n",
       "  ['<type: text>', 'year'],\n",
       "  ['<type: number>', 'concert', 'id'],\n",
       "  ['<type: text>', 'singer', 'id']],\n",
       " 'tables': [['stadium'], ['singer'], ['concert'], ['singer', 'in', 'concert']],\n",
       " 'table_bounds': [1, 8, 15, 20, 22],\n",
       " 'column_to_table': {'0': None,\n",
       "  '1': 0,\n",
       "  '2': 0,\n",
       "  '3': 0,\n",
       "  '4': 0,\n",
       "  '5': 0,\n",
       "  '6': 0,\n",
       "  '7': 0,\n",
       "  '8': 1,\n",
       "  '9': 1,\n",
       "  '10': 1,\n",
       "  '11': 1,\n",
       "  '12': 1,\n",
       "  '13': 1,\n",
       "  '14': 1,\n",
       "  '15': 2,\n",
       "  '16': 2,\n",
       "  '17': 2,\n",
       "  '18': 2,\n",
       "  '19': 2,\n",
       "  '20': 3,\n",
       "  '21': 3},\n",
       " 'table_to_columns': {'0': [1, 2, 3, 4, 5, 6, 7],\n",
       "  '1': [8, 9, 10, 11, 12, 13, 14],\n",
       "  '2': [15, 16, 17, 18, 19],\n",
       "  '3': [20, 21]},\n",
       " 'foreign_keys': {'18': 1, '20': 15, '21': 8},\n",
       " 'foreign_keys_tables': {'2': [0], '3': [1, 2]},\n",
       " 'primary_keys': [1, 8, 15, 20]}"
      ]
     },
     "execution_count": 328,
     "metadata": {},
     "output_type": "execute_result"
    }
   ],
   "source": [
    "enc_input"
   ]
  },
  {
   "cell_type": "code",
   "execution_count": 329,
   "metadata": {},
   "outputs": [
    {
     "data": {
      "text/plain": [
       "RelationalTransformerUpdate(\n",
       "  (encoder): Encoder(\n",
       "    (layers): ModuleList(\n",
       "      (0): EncoderLayer(\n",
       "        (self_attn): MultiHeadedAttentionWithRelations(\n",
       "          (linears): ModuleList(\n",
       "            (0): Linear(in_features=256, out_features=256, bias=True)\n",
       "            (1): Linear(in_features=256, out_features=256, bias=True)\n",
       "            (2): Linear(in_features=256, out_features=256, bias=True)\n",
       "            (3): Linear(in_features=256, out_features=256, bias=True)\n",
       "          )\n",
       "          (dropout): Dropout(p=0.1, inplace=False)\n",
       "        )\n",
       "        (feed_forward): PositionwiseFeedForward(\n",
       "          (w_1): Linear(in_features=256, out_features=1024, bias=True)\n",
       "          (w_2): Linear(in_features=1024, out_features=256, bias=True)\n",
       "          (dropout): Dropout(p=0.1, inplace=False)\n",
       "        )\n",
       "        (sublayer): ModuleList(\n",
       "          (0): SublayerConnection(\n",
       "            (norm): LayerNorm((256,), eps=1e-05, elementwise_affine=True)\n",
       "            (dropout): Dropout(p=0.1, inplace=False)\n",
       "          )\n",
       "          (1): SublayerConnection(\n",
       "            (norm): LayerNorm((256,), eps=1e-05, elementwise_affine=True)\n",
       "            (dropout): Dropout(p=0.1, inplace=False)\n",
       "          )\n",
       "        )\n",
       "        (relation_k_emb): Embedding(51, 32)\n",
       "        (relation_v_emb): Embedding(51, 32)\n",
       "      )\n",
       "      (1): EncoderLayer(\n",
       "        (self_attn): MultiHeadedAttentionWithRelations(\n",
       "          (linears): ModuleList(\n",
       "            (0): Linear(in_features=256, out_features=256, bias=True)\n",
       "            (1): Linear(in_features=256, out_features=256, bias=True)\n",
       "            (2): Linear(in_features=256, out_features=256, bias=True)\n",
       "            (3): Linear(in_features=256, out_features=256, bias=True)\n",
       "          )\n",
       "          (dropout): Dropout(p=0.1, inplace=False)\n",
       "        )\n",
       "        (feed_forward): PositionwiseFeedForward(\n",
       "          (w_1): Linear(in_features=256, out_features=1024, bias=True)\n",
       "          (w_2): Linear(in_features=1024, out_features=256, bias=True)\n",
       "          (dropout): Dropout(p=0.1, inplace=False)\n",
       "        )\n",
       "        (sublayer): ModuleList(\n",
       "          (0): SublayerConnection(\n",
       "            (norm): LayerNorm((256,), eps=1e-05, elementwise_affine=True)\n",
       "            (dropout): Dropout(p=0.1, inplace=False)\n",
       "          )\n",
       "          (1): SublayerConnection(\n",
       "            (norm): LayerNorm((256,), eps=1e-05, elementwise_affine=True)\n",
       "            (dropout): Dropout(p=0.1, inplace=False)\n",
       "          )\n",
       "        )\n",
       "        (relation_k_emb): Embedding(51, 32)\n",
       "        (relation_v_emb): Embedding(51, 32)\n",
       "      )\n",
       "      (2): EncoderLayer(\n",
       "        (self_attn): MultiHeadedAttentionWithRelations(\n",
       "          (linears): ModuleList(\n",
       "            (0): Linear(in_features=256, out_features=256, bias=True)\n",
       "            (1): Linear(in_features=256, out_features=256, bias=True)\n",
       "            (2): Linear(in_features=256, out_features=256, bias=True)\n",
       "            (3): Linear(in_features=256, out_features=256, bias=True)\n",
       "          )\n",
       "          (dropout): Dropout(p=0.1, inplace=False)\n",
       "        )\n",
       "        (feed_forward): PositionwiseFeedForward(\n",
       "          (w_1): Linear(in_features=256, out_features=1024, bias=True)\n",
       "          (w_2): Linear(in_features=1024, out_features=256, bias=True)\n",
       "          (dropout): Dropout(p=0.1, inplace=False)\n",
       "        )\n",
       "        (sublayer): ModuleList(\n",
       "          (0): SublayerConnection(\n",
       "            (norm): LayerNorm((256,), eps=1e-05, elementwise_affine=True)\n",
       "            (dropout): Dropout(p=0.1, inplace=False)\n",
       "          )\n",
       "          (1): SublayerConnection(\n",
       "            (norm): LayerNorm((256,), eps=1e-05, elementwise_affine=True)\n",
       "            (dropout): Dropout(p=0.1, inplace=False)\n",
       "          )\n",
       "        )\n",
       "        (relation_k_emb): Embedding(51, 32)\n",
       "        (relation_v_emb): Embedding(51, 32)\n",
       "      )\n",
       "      (3): EncoderLayer(\n",
       "        (self_attn): MultiHeadedAttentionWithRelations(\n",
       "          (linears): ModuleList(\n",
       "            (0): Linear(in_features=256, out_features=256, bias=True)\n",
       "            (1): Linear(in_features=256, out_features=256, bias=True)\n",
       "            (2): Linear(in_features=256, out_features=256, bias=True)\n",
       "            (3): Linear(in_features=256, out_features=256, bias=True)\n",
       "          )\n",
       "          (dropout): Dropout(p=0.1, inplace=False)\n",
       "        )\n",
       "        (feed_forward): PositionwiseFeedForward(\n",
       "          (w_1): Linear(in_features=256, out_features=1024, bias=True)\n",
       "          (w_2): Linear(in_features=1024, out_features=256, bias=True)\n",
       "          (dropout): Dropout(p=0.1, inplace=False)\n",
       "        )\n",
       "        (sublayer): ModuleList(\n",
       "          (0): SublayerConnection(\n",
       "            (norm): LayerNorm((256,), eps=1e-05, elementwise_affine=True)\n",
       "            (dropout): Dropout(p=0.1, inplace=False)\n",
       "          )\n",
       "          (1): SublayerConnection(\n",
       "            (norm): LayerNorm((256,), eps=1e-05, elementwise_affine=True)\n",
       "            (dropout): Dropout(p=0.1, inplace=False)\n",
       "          )\n",
       "        )\n",
       "        (relation_k_emb): Embedding(51, 32)\n",
       "        (relation_v_emb): Embedding(51, 32)\n",
       "      )\n",
       "      (4): EncoderLayer(\n",
       "        (self_attn): MultiHeadedAttentionWithRelations(\n",
       "          (linears): ModuleList(\n",
       "            (0): Linear(in_features=256, out_features=256, bias=True)\n",
       "            (1): Linear(in_features=256, out_features=256, bias=True)\n",
       "            (2): Linear(in_features=256, out_features=256, bias=True)\n",
       "            (3): Linear(in_features=256, out_features=256, bias=True)\n",
       "          )\n",
       "          (dropout): Dropout(p=0.1, inplace=False)\n",
       "        )\n",
       "        (feed_forward): PositionwiseFeedForward(\n",
       "          (w_1): Linear(in_features=256, out_features=1024, bias=True)\n",
       "          (w_2): Linear(in_features=1024, out_features=256, bias=True)\n",
       "          (dropout): Dropout(p=0.1, inplace=False)\n",
       "        )\n",
       "        (sublayer): ModuleList(\n",
       "          (0): SublayerConnection(\n",
       "            (norm): LayerNorm((256,), eps=1e-05, elementwise_affine=True)\n",
       "            (dropout): Dropout(p=0.1, inplace=False)\n",
       "          )\n",
       "          (1): SublayerConnection(\n",
       "            (norm): LayerNorm((256,), eps=1e-05, elementwise_affine=True)\n",
       "            (dropout): Dropout(p=0.1, inplace=False)\n",
       "          )\n",
       "        )\n",
       "        (relation_k_emb): Embedding(51, 32)\n",
       "        (relation_v_emb): Embedding(51, 32)\n",
       "      )\n",
       "      (5): EncoderLayer(\n",
       "        (self_attn): MultiHeadedAttentionWithRelations(\n",
       "          (linears): ModuleList(\n",
       "            (0): Linear(in_features=256, out_features=256, bias=True)\n",
       "            (1): Linear(in_features=256, out_features=256, bias=True)\n",
       "            (2): Linear(in_features=256, out_features=256, bias=True)\n",
       "            (3): Linear(in_features=256, out_features=256, bias=True)\n",
       "          )\n",
       "          (dropout): Dropout(p=0.1, inplace=False)\n",
       "        )\n",
       "        (feed_forward): PositionwiseFeedForward(\n",
       "          (w_1): Linear(in_features=256, out_features=1024, bias=True)\n",
       "          (w_2): Linear(in_features=1024, out_features=256, bias=True)\n",
       "          (dropout): Dropout(p=0.1, inplace=False)\n",
       "        )\n",
       "        (sublayer): ModuleList(\n",
       "          (0): SublayerConnection(\n",
       "            (norm): LayerNorm((256,), eps=1e-05, elementwise_affine=True)\n",
       "            (dropout): Dropout(p=0.1, inplace=False)\n",
       "          )\n",
       "          (1): SublayerConnection(\n",
       "            (norm): LayerNorm((256,), eps=1e-05, elementwise_affine=True)\n",
       "            (dropout): Dropout(p=0.1, inplace=False)\n",
       "          )\n",
       "        )\n",
       "        (relation_k_emb): Embedding(51, 32)\n",
       "        (relation_v_emb): Embedding(51, 32)\n",
       "      )\n",
       "      (6): EncoderLayer(\n",
       "        (self_attn): MultiHeadedAttentionWithRelations(\n",
       "          (linears): ModuleList(\n",
       "            (0): Linear(in_features=256, out_features=256, bias=True)\n",
       "            (1): Linear(in_features=256, out_features=256, bias=True)\n",
       "            (2): Linear(in_features=256, out_features=256, bias=True)\n",
       "            (3): Linear(in_features=256, out_features=256, bias=True)\n",
       "          )\n",
       "          (dropout): Dropout(p=0.1, inplace=False)\n",
       "        )\n",
       "        (feed_forward): PositionwiseFeedForward(\n",
       "          (w_1): Linear(in_features=256, out_features=1024, bias=True)\n",
       "          (w_2): Linear(in_features=1024, out_features=256, bias=True)\n",
       "          (dropout): Dropout(p=0.1, inplace=False)\n",
       "        )\n",
       "        (sublayer): ModuleList(\n",
       "          (0): SublayerConnection(\n",
       "            (norm): LayerNorm((256,), eps=1e-05, elementwise_affine=True)\n",
       "            (dropout): Dropout(p=0.1, inplace=False)\n",
       "          )\n",
       "          (1): SublayerConnection(\n",
       "            (norm): LayerNorm((256,), eps=1e-05, elementwise_affine=True)\n",
       "            (dropout): Dropout(p=0.1, inplace=False)\n",
       "          )\n",
       "        )\n",
       "        (relation_k_emb): Embedding(51, 32)\n",
       "        (relation_v_emb): Embedding(51, 32)\n",
       "      )\n",
       "      (7): EncoderLayer(\n",
       "        (self_attn): MultiHeadedAttentionWithRelations(\n",
       "          (linears): ModuleList(\n",
       "            (0): Linear(in_features=256, out_features=256, bias=True)\n",
       "            (1): Linear(in_features=256, out_features=256, bias=True)\n",
       "            (2): Linear(in_features=256, out_features=256, bias=True)\n",
       "            (3): Linear(in_features=256, out_features=256, bias=True)\n",
       "          )\n",
       "          (dropout): Dropout(p=0.1, inplace=False)\n",
       "        )\n",
       "        (feed_forward): PositionwiseFeedForward(\n",
       "          (w_1): Linear(in_features=256, out_features=1024, bias=True)\n",
       "          (w_2): Linear(in_features=1024, out_features=256, bias=True)\n",
       "          (dropout): Dropout(p=0.1, inplace=False)\n",
       "        )\n",
       "        (sublayer): ModuleList(\n",
       "          (0): SublayerConnection(\n",
       "            (norm): LayerNorm((256,), eps=1e-05, elementwise_affine=True)\n",
       "            (dropout): Dropout(p=0.1, inplace=False)\n",
       "          )\n",
       "          (1): SublayerConnection(\n",
       "            (norm): LayerNorm((256,), eps=1e-05, elementwise_affine=True)\n",
       "            (dropout): Dropout(p=0.1, inplace=False)\n",
       "          )\n",
       "        )\n",
       "        (relation_k_emb): Embedding(51, 32)\n",
       "        (relation_v_emb): Embedding(51, 32)\n",
       "      )\n",
       "    )\n",
       "    (norm): LayerNorm((256,), eps=1e-05, elementwise_affine=True)\n",
       "  )\n",
       "  (align_attn): PointerWithRelations(\n",
       "    (linears): ModuleList(\n",
       "      (0): Linear(in_features=256, out_features=256, bias=True)\n",
       "      (1): Linear(in_features=256, out_features=256, bias=True)\n",
       "      (2): Linear(in_features=256, out_features=256, bias=True)\n",
       "    )\n",
       "    (dropout): Dropout(p=0.1, inplace=False)\n",
       "    (relation_k_emb): Embedding(51, 256)\n",
       "    (relation_v_emb): Embedding(51, 256)\n",
       "  )\n",
       ")"
      ]
     },
     "execution_count": 329,
     "metadata": {},
     "output_type": "execute_result"
    }
   ],
   "source": [
    "model.encoder.encs_update"
   ]
  },
  {
   "cell_type": "code",
   "execution_count": 330,
   "metadata": {},
   "outputs": [],
   "source": [
    "desc = enc_input"
   ]
  },
  {
   "cell_type": "code",
   "execution_count": 331,
   "metadata": {},
   "outputs": [],
   "source": [
    "# ## Copied from SpiderEncoderV2.forward_unbatched (not correct)\n",
    "\n",
    "# # q_enc: question len x batch (=1) x recurrent_size\n",
    "# q_enc, _ = model.encoder.question_encoder([desc['question']])\n",
    "\n",
    "# # Encode the columns\n",
    "# # - LookupEmbeddings\n",
    "# # - Transform embeddings wrt each other?\n",
    "# # - Summarize each column into one?\n",
    "# # c_enc: sum of column lens x batch (=1) x recurrent_size\n",
    "# c_enc, c_boundaries = model.encoder.column_encoder(desc['columns'])\n",
    "# # column_pointer_maps = {\n",
    "# #     i: list(range(left, right))\n",
    "# #     for i, (left, right) in enumerate(zip(c_boundaries, c_boundaries[1:]))\n",
    "# # }\n",
    "\n",
    "# # Encode the tables\n",
    "# # - LookupEmbeddings\n",
    "# # - Transform embeddings wrt each other?\n",
    "# # - Summarize each table into one?\n",
    "# # t_enc: sum of table lens x batch (=1) x recurrent_size\n",
    "# t_enc, t_boundaries = model.encoder.table_encoder(desc['tables'])\n",
    "# # c_enc_length = c_enc.shape[0]\n",
    "# # table_pointer_maps = {\n",
    "# #     i: [\n",
    "# #            idx\n",
    "# #            for col in desc['table_to_columns'][str(i)]\n",
    "# #            for idx in column_pointer_maps[col]\n",
    "# #        ] + list(range(left + c_enc_length, right + c_enc_length))\n",
    "# #     for i, (left, right) in enumerate(zip(t_boundaries, t_boundaries[1:]))\n",
    "# # }"
   ]
  },
  {
   "cell_type": "code",
   "execution_count": 391,
   "metadata": {},
   "outputs": [
    {
     "data": {
      "text/plain": [
       "[array([ 0,  2,  5,  7,  9, 11, 13, 15, 17, 20, 22, 24, 27, 31, 33, 36, 39,\n",
       "        42, 44, 47, 49, 52, 55])]"
      ]
     },
     "execution_count": 391,
     "metadata": {},
     "output_type": "execute_result"
    }
   ],
   "source": [
    "# token_lists = [desc['columns']]\n",
    "# boundaries = [\n",
    "#             np.cumsum([0] + [len(token_list) for token_list in token_lists_for_item])\n",
    "#             for token_lists_for_item in token_lists]\n",
    "# boundaries"
   ]
  },
  {
   "cell_type": "code",
   "execution_count": 332,
   "metadata": {},
   "outputs": [],
   "source": [
    "## Adapted from SpiderEncoderV2.forward\n",
    "\n",
    "q_enc, _ = model.encoder.question_encoder([[desc['question']]])\n",
    "\n",
    "c_enc, c_boundaries = model.encoder.column_encoder([desc['columns']])\n",
    "\n",
    "t_enc, t_boundaries = model.encoder.table_encoder([desc['tables']])"
   ]
  },
  {
   "cell_type": "code",
   "execution_count": 333,
   "metadata": {},
   "outputs": [
    {
     "data": {
      "text/plain": [
       "torch.Size([7, 256])"
      ]
     },
     "execution_count": 333,
     "metadata": {},
     "output_type": "execute_result"
    }
   ],
   "source": [
    "q_enc.ps.data.size()"
   ]
  },
  {
   "cell_type": "code",
   "execution_count": 373,
   "metadata": {},
   "outputs": [
    {
     "data": {
      "text/plain": [
       "Sequential(\n",
       "  (0): LookupEmbeddings(\n",
       "    (embedding): Embedding(1580, 300)\n",
       "  )\n",
       "  (1): BiLSTM(\n",
       "    (lstm): LSTM(\n",
       "      original_name=LSTM\n",
       "      (cell): RecurrentDropoutLSTMCell(original_name=RecurrentDropoutLSTMCell)\n",
       "      (cell_reverse): RecurrentDropoutLSTMCell(original_name=RecurrentDropoutLSTMCell)\n",
       "    )\n",
       "  )\n",
       ")"
      ]
     },
     "execution_count": 373,
     "metadata": {},
     "output_type": "execute_result"
    }
   ],
   "source": [
    "model.encoder.column_encoder"
   ]
  },
  {
   "cell_type": "code",
   "execution_count": 334,
   "metadata": {},
   "outputs": [],
   "source": [
    "# ## Adapted from RelationalTransformerUpdate.forward_unbatched (not correct)\n",
    "\n",
    "# q_enc_unbatched = q_enc.select(0).unsqueeze(1)\n",
    "# c_enc_unbatched = c_enc.select(0).unsqueeze(1)\n",
    "# t_enc_unbatched = t_enc.select(0).unsqueeze(1)\n",
    "\n",
    "# # enc shape: total len x batch (=1) x recurrent size\n",
    "# enc = torch.cat((q_enc_unbatched, c_enc_unbatched, t_enc_unbatched), dim=0)\n",
    "\n",
    "# # enc shape: batch (=1) x total len x recurrent size\n",
    "# enc = enc.transpose(0, 1)\n",
    "\n",
    "# # Catalogue which things are where\n",
    "# relations = model.encoder.encs_update.compute_relations(\n",
    "#     desc,\n",
    "#     enc_length=enc.shape[1],\n",
    "#     q_enc_length=q_enc_unbatched.shape[0],\n",
    "#     c_enc_length=c_enc_unbatched.shape[0],\n",
    "#     c_boundaries=c_boundaries[0],\n",
    "#     t_boundaries=t_boundaries[0])"
   ]
  },
  {
   "cell_type": "code",
   "execution_count": 335,
   "metadata": {},
   "outputs": [],
   "source": [
    "## Adapted from RelationalTransformerUpdate.forward\n",
    "\n",
    "enc = batched_sequence.PackedSequencePlus.cat_seqs((q_enc, c_enc, t_enc))\n",
    "\n",
    "q_enc_lengths = list(q_enc.orig_lengths())\n",
    "c_enc_lengths = list(c_enc.orig_lengths())\n",
    "t_enc_lengths = list(t_enc.orig_lengths())\n",
    "enc_lengths = list(enc.orig_lengths())\n",
    "max_enc_length = max(enc_lengths)\n",
    "\n",
    "enc_length = enc_lengths[0]\n",
    "relations = model.encoder.encs_update.compute_relations(\n",
    "    desc,\n",
    "    enc_length,\n",
    "    q_enc_lengths[0],\n",
    "    c_enc_lengths[0],\n",
    "    c_boundaries[0],\n",
    "    t_boundaries[0])"
   ]
  },
  {
   "cell_type": "code",
   "execution_count": 336,
   "metadata": {},
   "outputs": [
    {
     "data": {
      "text/plain": [
       "(33, 33)"
      ]
     },
     "execution_count": 336,
     "metadata": {},
     "output_type": "execute_result"
    }
   ],
   "source": [
    "relations.shape"
   ]
  },
  {
   "cell_type": "code",
   "execution_count": 337,
   "metadata": {},
   "outputs": [
    {
     "data": {
      "text/plain": [
       "([7], [22], [4])"
      ]
     },
     "execution_count": 337,
     "metadata": {},
     "output_type": "execute_result"
    }
   ],
   "source": [
    "q_enc_lengths, c_enc_lengths, t_enc_lengths"
   ]
  },
  {
   "cell_type": "code",
   "execution_count": 338,
   "metadata": {},
   "outputs": [
    {
     "data": {
      "text/plain": [
       "array([[ 2,  3,  4, ...,  6,  6,  6],\n",
       "       [ 1,  2,  3, ...,  6,  6,  6],\n",
       "       [ 0,  1,  2, ..., 39,  6, 43],\n",
       "       ...,\n",
       "       [22, 22, 40, ..., 34, 28, 30],\n",
       "       [22, 22, 22, ..., 28, 34, 30],\n",
       "       [22, 22, 44, ..., 29, 29, 34]])"
      ]
     },
     "execution_count": 338,
     "metadata": {},
     "output_type": "execute_result"
    }
   ],
   "source": [
    "relations"
   ]
  },
  {
   "cell_type": "code",
   "execution_count": 339,
   "metadata": {
    "scrolled": true
   },
   "outputs": [],
   "source": [
    "nodes = []\n",
    "\n",
    "nodes.extend(enc_input['question'])\n",
    "\n",
    "for c_id, c_toks in enumerate(enc_input['columns']):\n",
    "    c_name = '_'.join(c_toks[1:])\n",
    "    t_id = enc_input['column_to_table'][str(c_id)]\n",
    "    if t_id is None:\n",
    "        t_name = 'NONE'\n",
    "    else:\n",
    "        t_toks = enc_input['tables'][t_id]\n",
    "        t_name = '_'.join(t_toks)\n",
    "    c_save_name = f'<C>{t_name}::{c_name}'\n",
    "    nodes.append(c_save_name)\n",
    "    \n",
    "for t_toks in enc_input['tables']:\n",
    "    nodes.append('<T>' + '_'.join(t_toks))"
   ]
  },
  {
   "cell_type": "code",
   "execution_count": 340,
   "metadata": {
    "scrolled": true
   },
   "outputs": [
    {
     "data": {
      "text/plain": [
       "[(0, 'how'),\n",
       " (1, 'many'),\n",
       " (2, 'singer'),\n",
       " (3, 'be'),\n",
       " (4, 'from'),\n",
       " (5, 'france'),\n",
       " (6, '?'),\n",
       " (7, '<C>NONE::*'),\n",
       " (8, '<C>stadium::stadium_id'),\n",
       " (9, '<C>stadium::location'),\n",
       " (10, '<C>stadium::name'),\n",
       " (11, '<C>stadium::capacity'),\n",
       " (12, '<C>stadium::highest'),\n",
       " (13, '<C>stadium::lowest'),\n",
       " (14, '<C>stadium::average'),\n",
       " (15, '<C>singer::singer_id'),\n",
       " (16, '<C>singer::name'),\n",
       " (17, '<C>singer::country'),\n",
       " (18, '<C>singer::song_name'),\n",
       " (19, '<C>singer::song_release_year'),\n",
       " (20, '<C>singer::age'),\n",
       " (21, '<C>singer::be_male'),\n",
       " (22, '<C>concert::concert_id'),\n",
       " (23, '<C>concert::concert_name'),\n",
       " (24, '<C>concert::theme'),\n",
       " (25, '<C>concert::stadium_id'),\n",
       " (26, '<C>concert::year'),\n",
       " (27, '<C>singer_in_concert::concert_id'),\n",
       " (28, '<C>singer_in_concert::singer_id'),\n",
       " (29, '<T>stadium'),\n",
       " (30, '<T>singer'),\n",
       " (31, '<T>concert'),\n",
       " (32, '<T>singer_in_concert')]"
      ]
     },
     "execution_count": 340,
     "metadata": {},
     "output_type": "execute_result"
    }
   ],
   "source": [
    "list(enumerate(nodes))"
   ]
  },
  {
   "cell_type": "code",
   "execution_count": null,
   "metadata": {
    "scrolled": true
   },
   "outputs": [],
   "source": [
    "model.encoder.encs_update.relation_ids"
   ]
  },
  {
   "cell_type": "code",
   "execution_count": 341,
   "metadata": {},
   "outputs": [],
   "source": [
    "relation_id2name = {v : k for k, v in model.encoder.encs_update.relation_ids.items()}"
   ]
  },
  {
   "cell_type": "code",
   "execution_count": 342,
   "metadata": {},
   "outputs": [
    {
     "data": {
      "text/plain": [
       "('singer', '<C>singer::singer_id', 'qcCPM')"
      ]
     },
     "execution_count": 342,
     "metadata": {},
     "output_type": "execute_result"
    }
   ],
   "source": [
    "i = 2\n",
    "j = 15\n",
    "\n",
    "nodes[i], nodes[j], relation_id2name[relations[i][j]]"
   ]
  },
  {
   "cell_type": "code",
   "execution_count": 343,
   "metadata": {},
   "outputs": [
    {
     "data": {
      "text/plain": [
       "('singer', '<T>singer', 'qtTEM')"
      ]
     },
     "execution_count": 343,
     "metadata": {},
     "output_type": "execute_result"
    }
   ],
   "source": [
    "i = 2\n",
    "j = 30\n",
    "\n",
    "nodes[i], nodes[j], relation_id2name[relations[i][j]]"
   ]
  },
  {
   "cell_type": "code",
   "execution_count": 344,
   "metadata": {},
   "outputs": [
    {
     "data": {
      "text/plain": [
       "('france', '<C>singer::country', 'qcCELLMATCH')"
      ]
     },
     "execution_count": 344,
     "metadata": {},
     "output_type": "execute_result"
    }
   ],
   "source": [
    "i = 5\n",
    "j = 17\n",
    "\n",
    "nodes[i], nodes[j], relation_id2name[relations[i][j]]"
   ]
  },
  {
   "cell_type": "code",
   "execution_count": 345,
   "metadata": {},
   "outputs": [
    {
     "data": {
      "text/plain": [
       "('france', '<T>singer', 'qt_default')"
      ]
     },
     "execution_count": 345,
     "metadata": {},
     "output_type": "execute_result"
    }
   ],
   "source": [
    "i = 5\n",
    "j = 30\n",
    "\n",
    "nodes[i], nodes[j], relation_id2name[relations[i][j]]"
   ]
  },
  {
   "cell_type": "code",
   "execution_count": 348,
   "metadata": {},
   "outputs": [
    {
     "data": {
      "text/plain": [
       "{'18': 1, '20': 15, '21': 8}"
      ]
     },
     "execution_count": 348,
     "metadata": {},
     "output_type": "execute_result"
    }
   ],
   "source": [
    "desc['foreign_keys']"
   ]
  },
  {
   "cell_type": "code",
   "execution_count": 350,
   "metadata": {},
   "outputs": [
    {
     "data": {
      "text/plain": [
       "('<C>stadium::stadium_id', '<C>concert::stadium_id', 'cc_foreign_key_backward')"
      ]
     },
     "execution_count": 350,
     "metadata": {},
     "output_type": "execute_result"
    }
   ],
   "source": [
    "i = 8\n",
    "j = 25\n",
    "\n",
    "nodes[i], nodes[j], relation_id2name[relations[i][j]]"
   ]
  },
  {
   "cell_type": "code",
   "execution_count": 352,
   "metadata": {},
   "outputs": [
    {
     "data": {
      "text/plain": [
       "['stadium', 'singer', 'concert', 'singer_in_concert']"
      ]
     },
     "execution_count": 352,
     "metadata": {},
     "output_type": "execute_result"
    }
   ],
   "source": [
    "[t.orig_name for t in db_schema.tables]"
   ]
  },
  {
   "cell_type": "code",
   "execution_count": 359,
   "metadata": {},
   "outputs": [
    {
     "data": {
      "text/plain": [
       "[(1, 'stadium', 'stadium id'),\n",
       " (2, 'stadium', 'location'),\n",
       " (3, 'stadium', 'name'),\n",
       " (4, 'stadium', 'capacity'),\n",
       " (5, 'stadium', 'highest'),\n",
       " (6, 'stadium', 'lowest'),\n",
       " (7, 'stadium', 'average'),\n",
       " (8, 'singer', 'singer id'),\n",
       " (9, 'singer', 'name'),\n",
       " (10, 'singer', 'country'),\n",
       " (11, 'singer', 'song name'),\n",
       " (12, 'singer', 'song release year'),\n",
       " (13, 'singer', 'age'),\n",
       " (14, 'singer', 'is male'),\n",
       " (15, 'concert', 'concert id'),\n",
       " (16, 'concert', 'concert name'),\n",
       " (17, 'concert', 'theme'),\n",
       " (18, 'concert', 'stadium id'),\n",
       " (19, 'concert', 'year'),\n",
       " (20, 'singer in concert', 'concert id'),\n",
       " (21, 'singer in concert', 'singer id')]"
      ]
     },
     "execution_count": 359,
     "metadata": {},
     "output_type": "execute_result"
    }
   ],
   "source": [
    "[(i, c.table.unsplit_name, c.unsplit_name) for i, c in list(enumerate(db_schema.columns))[1:]]"
   ]
  },
  {
   "cell_type": "code",
   "execution_count": 377,
   "metadata": {},
   "outputs": [
    {
     "data": {
      "text/plain": [
       "Table(id=0, name=['stadium'], unsplit_name='stadium', orig_name='stadium', columns=[Column(id=1, table=..., name=['stadium', 'id'], unsplit_name='stadium id', orig_name='Stadium_ID', type='number', foreign_key_for=None), Column(id=2, table=..., name=['location'], unsplit_name='location', orig_name='Location', type='text', foreign_key_for=None), Column(id=3, table=..., name=['name'], unsplit_name='name', orig_name='Name', type='text', foreign_key_for=None), Column(id=4, table=..., name=['capacity'], unsplit_name='capacity', orig_name='Capacity', type='number', foreign_key_for=None), Column(id=5, table=..., name=['highest'], unsplit_name='highest', orig_name='Highest', type='number', foreign_key_for=None), Column(id=6, table=..., name=['lowest'], unsplit_name='lowest', orig_name='Lowest', type='number', foreign_key_for=None), Column(id=7, table=..., name=['average'], unsplit_name='average', orig_name='Average', type='number', foreign_key_for=None)], primary_keys=[Column(id=1, table=..., name=['stadium', 'id'], unsplit_name='stadium id', orig_name='Stadium_ID', type='number', foreign_key_for=None)])"
      ]
     },
     "execution_count": 377,
     "metadata": {},
     "output_type": "execute_result"
    }
   ],
   "source": [
    "_t = db_schema.tables[0]\n",
    "_t"
   ]
  },
  {
   "cell_type": "code",
   "execution_count": 378,
   "metadata": {},
   "outputs": [
    {
     "data": {
      "text/plain": [
       "Column(id=18, table=Table(id=2, name=['concert'], unsplit_name='concert', orig_name='concert', columns=[Column(id=15, table=..., name=['concert', 'id'], unsplit_name='concert id', orig_name='concert_ID', type='number', foreign_key_for=None), Column(id=16, table=..., name=['concert', 'name'], unsplit_name='concert name', orig_name='concert_Name', type='text', foreign_key_for=None), Column(id=17, table=..., name=['theme'], unsplit_name='theme', orig_name='Theme', type='text', foreign_key_for=None), ..., Column(id=19, table=..., name=['year'], unsplit_name='year', orig_name='Year', type='text', foreign_key_for=None)], primary_keys=[Column(id=15, table=..., name=['concert', 'id'], unsplit_name='concert id', orig_name='concert_ID', type='number', foreign_key_for=None)]), name=['stadium', 'id'], unsplit_name='stadium id', orig_name='Stadium_ID', type='text', foreign_key_for=Column(id=1, table=Table(id=0, name=['stadium'], unsplit_name='stadium', orig_name='stadium', columns=[..., Column(id=2, table=..., name=['location'], unsplit_name='location', orig_name='Location', type='text', foreign_key_for=None), Column(id=3, table=..., name=['name'], unsplit_name='name', orig_name='Name', type='text', foreign_key_for=None), Column(id=4, table=..., name=['capacity'], unsplit_name='capacity', orig_name='Capacity', type='number', foreign_key_for=None), Column(id=5, table=..., name=['highest'], unsplit_name='highest', orig_name='Highest', type='number', foreign_key_for=None), Column(id=6, table=..., name=['lowest'], unsplit_name='lowest', orig_name='Lowest', type='number', foreign_key_for=None), Column(id=7, table=..., name=['average'], unsplit_name='average', orig_name='Average', type='number', foreign_key_for=None)], primary_keys=[...]), name=['stadium', 'id'], unsplit_name='stadium id', orig_name='Stadium_ID', type='number', foreign_key_for=None))"
      ]
     },
     "execution_count": 378,
     "metadata": {},
     "output_type": "execute_result"
    }
   ],
   "source": [
    "_c = db_schema.columns[18]\n",
    "_c"
   ]
  },
  {
   "cell_type": "code",
   "execution_count": 382,
   "metadata": {},
   "outputs": [
    {
     "data": {
      "text/plain": [
       "False"
      ]
     },
     "execution_count": 382,
     "metadata": {},
     "output_type": "execute_result"
    }
   ],
   "source": [
    "_c = 18\n",
    "_t = 0\n",
    "model.encoder.encs_update.match_foreign_key(desc, _c, _t)"
   ]
  },
  {
   "cell_type": "code",
   "execution_count": 375,
   "metadata": {},
   "outputs": [
    {
     "data": {
      "text/plain": [
       "{'18': 1, '20': 15, '21': 8}"
      ]
     },
     "execution_count": 375,
     "metadata": {},
     "output_type": "execute_result"
    }
   ],
   "source": [
    "desc['foreign_keys']"
   ]
  },
  {
   "cell_type": "code",
   "execution_count": 380,
   "metadata": {
    "scrolled": true
   },
   "outputs": [
    {
     "data": {
      "text/plain": [
       "{'0': None,\n",
       " '1': 0,\n",
       " '2': 0,\n",
       " '3': 0,\n",
       " '4': 0,\n",
       " '5': 0,\n",
       " '6': 0,\n",
       " '7': 0,\n",
       " '8': 1,\n",
       " '9': 1,\n",
       " '10': 1,\n",
       " '11': 1,\n",
       " '12': 1,\n",
       " '13': 1,\n",
       " '14': 1,\n",
       " '15': 2,\n",
       " '16': 2,\n",
       " '17': 2,\n",
       " '18': 2,\n",
       " '19': 2,\n",
       " '20': 3,\n",
       " '21': 3}"
      ]
     },
     "execution_count": 380,
     "metadata": {},
     "output_type": "execute_result"
    }
   ],
   "source": [
    "desc['column_to_table']"
   ]
  },
  {
   "cell_type": "code",
   "execution_count": 383,
   "metadata": {},
   "outputs": [
    {
     "data": {
      "text/plain": [
       "(2, 0)"
      ]
     },
     "execution_count": 383,
     "metadata": {},
     "output_type": "execute_result"
    }
   ],
   "source": [
    "foreign_key_for = desc['foreign_keys'].get(str(_c))\n",
    "\n",
    "foreign_table = desc['column_to_table'][str(foreign_key_for)]\n",
    "\n",
    "desc['column_to_table'][str(_c)], foreign_table"
   ]
  },
  {
   "cell_type": "code",
   "execution_count": 388,
   "metadata": {},
   "outputs": [
    {
     "data": {
      "text/plain": [
       "Sequential(\n",
       "  (0): LookupEmbeddings(\n",
       "    (embedding): Embedding(1580, 300)\n",
       "  )\n",
       "  (1): BiLSTM(\n",
       "    (lstm): LSTM(\n",
       "      original_name=LSTM\n",
       "      (cell): RecurrentDropoutLSTMCell(original_name=RecurrentDropoutLSTMCell)\n",
       "      (cell_reverse): RecurrentDropoutLSTMCell(original_name=RecurrentDropoutLSTMCell)\n",
       "    )\n",
       "  )\n",
       ")"
      ]
     },
     "execution_count": 388,
     "metadata": {},
     "output_type": "execute_result"
    }
   ],
   "source": [
    "model.encoder.column_encoder"
   ]
  },
  {
   "cell_type": "code",
   "execution_count": 387,
   "metadata": {},
   "outputs": [
    {
     "data": {
      "text/plain": [
       "True"
      ]
     },
     "execution_count": 387,
     "metadata": {},
     "output_type": "execute_result"
    }
   ],
   "source": [
    "model.encoder.column_encoder[1].summarize"
   ]
  },
  {
   "cell_type": "code",
   "execution_count": null,
   "metadata": {},
   "outputs": [],
   "source": []
  },
  {
   "cell_type": "markdown",
   "metadata": {},
   "source": [
    "### Test collect_link_prediction_samples\n",
    "- extract_probing_samples_link_prediction_new()"
   ]
  },
  {
   "cell_type": "code",
   "execution_count": 27,
   "metadata": {},
   "outputs": [],
   "source": [
    "tmp_probing_data_dir = \"/Users/mac/Desktop/syt/Deep-Learning/Projects-M/SDR-analysis/data/probing/text2sql/link_prediction/spider/ratsql\"\n",
    "tmp_pos_path = os.path.join(tmp_probing_data_dir, 'dev.train.pos.txt')\n",
    "\n",
    "tmp_dataset_path = \"/Users/mac/Desktop/syt/Deep-Learning/Projects-M/SDR-analysis/data/spider/dev+ratsql_graph.json\"\n"
   ]
  },
  {
   "cell_type": "code",
   "execution_count": 28,
   "metadata": {},
   "outputs": [
    {
     "data": {
      "text/plain": [
       "(1034,\n",
       " dict_keys(['db_id', 'query', 'query_toks', 'query_toks_no_value', 'question', 'question_toks', 'sql', 'rat_sql_graph']))"
      ]
     },
     "execution_count": 28,
     "metadata": {},
     "output_type": "execute_result"
    }
   ],
   "source": [
    "with open(tmp_dataset_path, 'r') as f:\n",
    "    tmp_dataset = json.load(f)\n",
    "    \n",
    "for d in tmp_dataset:\n",
    "    d['rat_sql_graph']['relations'] = json.loads(d['rat_sql_graph']['relations'])\n",
    "\n",
    "len(tmp_dataset), tmp_dataset[0].keys()"
   ]
  },
  {
   "cell_type": "code",
   "execution_count": 29,
   "metadata": {},
   "outputs": [
    {
     "data": {
      "text/plain": [
       "(16059, (228, 0, 0))"
      ]
     },
     "execution_count": 29,
     "metadata": {},
     "output_type": "execute_result"
    }
   ],
   "source": [
    "with open(tmp_pos_path, 'r') as f:\n",
    "    lines = f.read().strip().split('\\n')\n",
    "    tmp_pos = [tuple([int(s) for s in l.split('\\t')]) for l in lines]\n",
    "len(tmp_pos), tmp_pos[0]"
   ]
  },
  {
   "cell_type": "code",
   "execution_count": 30,
   "metadata": {},
   "outputs": [
    {
     "data": {
      "text/plain": [
       "500"
      ]
     },
     "execution_count": 30,
     "metadata": {},
     "output_type": "execute_result"
    }
   ],
   "source": [
    "# Load pos file \n",
    "pos_per_sample = defaultdict(list)   # key = ds_idx, value = pos_list: List[(i, j)]\n",
    "\n",
    "for ds_idx, i, j in tmp_pos:\n",
    "    pos_per_sample[ds_idx].append((i, j))\n",
    "\n",
    "len(pos_per_sample)"
   ]
  },
  {
   "cell_type": "code",
   "execution_count": 31,
   "metadata": {},
   "outputs": [
    {
     "data": {
      "text/plain": [
       "(dict_keys(['db_id', 'query', 'query_toks', 'query_toks_no_value', 'question', 'question_toks', 'sql', 'rat_sql_graph']),\n",
       " 30)"
      ]
     },
     "execution_count": 31,
     "metadata": {},
     "output_type": "execute_result"
    }
   ],
   "source": [
    "# the first ds_idx in dev.train is 228 \n",
    "idx = 228\n",
    "d = tmp_dataset[idx]\n",
    "d.keys(), len(pos_per_sample[idx])"
   ]
  },
  {
   "cell_type": "code",
   "execution_count": 46,
   "metadata": {},
   "outputs": [
    {
     "name": "stdout",
     "output_type": "stream",
     "text": [
      "Sampled output idx: 2\n",
      "i = 2, j = 5\n",
      "Nodes: code, airport\n",
      "Relation: 4 (('qq_dist', 2))\n",
      "Repr vectors:\n",
      "[ 0.1501283   0.21355523 -0.25271013] ... [0.13540143 0.27801117 0.00371891]\n",
      "[ 0.31505942 -0.47566113  0.06388362] ... [-0.08114626  0.08402237 -0.43422976]\n",
      "Combined vector:\n",
      "[ 0.1501283   0.21355523 -0.25271013] ... [-0.01098732  0.02335916 -0.00161486]\n",
      "Label:\n",
      "4\n"
     ]
    },
    {
     "data": {
      "text/plain": [
       "(30, 30, 30)"
      ]
     },
     "execution_count": 46,
     "metadata": {},
     "output_type": "execute_result"
    }
   ],
   "source": [
    "X, y, pos = extract_probing_samples_link_prediction_new(dataset_sample=d,\n",
    "                                                        db_schemas_dict=spider_db_schemas_dict,\n",
    "                                                        model=rat_sql_model_dict['model'],\n",
    "                                                        pos=pos_per_sample[idx],\n",
    "                                                        max_rel_occ=None,\n",
    "                                                        debug=True)\n",
    "len(X), len(y), len(pos)"
   ]
  },
  {
   "cell_type": "code",
   "execution_count": 48,
   "metadata": {},
   "outputs": [
    {
     "data": {
      "text/plain": [
       "16059"
      ]
     },
     "execution_count": 48,
     "metadata": {},
     "output_type": "execute_result"
    }
   ],
   "source": [
    "tmp_X_path = os.path.join(tmp_probing_data_dir, 'dev.train.X.pkl')\n",
    "\n",
    "with open(tmp_X_path, 'rb') as f:\n",
    "    tmp_X = pickle.load(f)\n",
    "\n",
    "len(tmp_X)"
   ]
  },
  {
   "cell_type": "code",
   "execution_count": 52,
   "metadata": {},
   "outputs": [
    {
     "data": {
      "text/plain": [
       "True"
      ]
     },
     "execution_count": 52,
     "metadata": {},
     "output_type": "execute_result"
    }
   ],
   "source": [
    "np.allclose(X, tmp_X[:30])"
   ]
  },
  {
   "cell_type": "code",
   "execution_count": 83,
   "metadata": {},
   "outputs": [
    {
     "data": {
      "text/plain": [
       "{0: ('qq_dist', -2),\n",
       " 1: ('qq_dist', -1),\n",
       " 2: ('qq_dist', 0),\n",
       " 3: ('qq_dist', 1),\n",
       " 4: ('qq_dist', 2),\n",
       " 5: 'qc_default',\n",
       " 6: 'qt_default',\n",
       " 7: 'cq_default',\n",
       " 8: 'cc_default',\n",
       " 9: 'cc_foreign_key_forward',\n",
       " 10: 'cc_foreign_key_backward',\n",
       " 11: 'cc_table_match',\n",
       " 12: ('cc_dist', -2),\n",
       " 13: ('cc_dist', -1),\n",
       " 14: ('cc_dist', 0),\n",
       " 15: ('cc_dist', 1),\n",
       " 16: ('cc_dist', 2),\n",
       " 17: 'ct_default',\n",
       " 18: 'ct_foreign_key',\n",
       " 19: 'ct_primary_key',\n",
       " 20: 'ct_table_match',\n",
       " 21: 'ct_any_table',\n",
       " 22: 'tq_default',\n",
       " 23: 'tc_default',\n",
       " 24: 'tc_primary_key',\n",
       " 25: 'tc_table_match',\n",
       " 26: 'tc_any_table',\n",
       " 27: 'tc_foreign_key',\n",
       " 28: 'tt_default',\n",
       " 29: 'tt_foreign_key_forward',\n",
       " 30: 'tt_foreign_key_backward',\n",
       " 31: 'tt_foreign_key_both',\n",
       " 32: ('tt_dist', -2),\n",
       " 33: ('tt_dist', -1),\n",
       " 34: ('tt_dist', 0),\n",
       " 35: ('tt_dist', 1),\n",
       " 36: ('tt_dist', 2),\n",
       " 37: 'qcCEM',\n",
       " 38: 'cqCEM',\n",
       " 39: 'qtTEM',\n",
       " 40: 'tqTEM',\n",
       " 41: 'qcCPM',\n",
       " 42: 'cqCPM',\n",
       " 43: 'qtTPM',\n",
       " 44: 'tqTPM',\n",
       " 45: 'qcNUMBER',\n",
       " 46: 'cqNUMBER',\n",
       " 47: 'qcTIME',\n",
       " 48: 'cqTIME',\n",
       " 49: 'qcCELLMATCH',\n",
       " 50: 'cqCELLMATCH'}"
      ]
     },
     "execution_count": 83,
     "metadata": {},
     "output_type": "execute_result"
    }
   ],
   "source": [
    "relation_id2name = {idx : rel for rel, idx in model.encoder.encs_update.relation_ids.items()}\n",
    "relation_id2name"
   ]
  },
  {
   "cell_type": "code",
   "execution_count": null,
   "metadata": {},
   "outputs": [],
   "source": []
  },
  {
   "cell_type": "markdown",
   "metadata": {},
   "source": [
    "### others"
   ]
  },
  {
   "cell_type": "code",
   "execution_count": 229,
   "metadata": {},
   "outputs": [
    {
     "data": {
      "text/plain": [
       "[1, 1, 2]"
      ]
     },
     "execution_count": 229,
     "metadata": {},
     "output_type": "execute_result"
    }
   ],
   "source": [
    "random.sample([1,2], k=3)"
   ]
  },
  {
   "cell_type": "code",
   "execution_count": 231,
   "metadata": {},
   "outputs": [
    {
     "data": {
      "text/plain": [
       "array([1, 2, 3, 4])"
      ]
     },
     "execution_count": 231,
     "metadata": {},
     "output_type": "execute_result"
    }
   ],
   "source": [
    "np.concatenate([[1,2], [3,4]])"
   ]
  },
  {
   "cell_type": "code",
   "execution_count": 54,
   "metadata": {},
   "outputs": [
    {
     "data": {
      "text/plain": [
       "ratsql.models.enc_dec.EncDecModel"
      ]
     },
     "execution_count": 54,
     "metadata": {},
     "output_type": "execute_result"
    }
   ],
   "source": [
    "model = rat_sql_model_dict['model']\n",
    "type(model)"
   ]
  },
  {
   "cell_type": "code",
   "execution_count": 57,
   "metadata": {},
   "outputs": [
    {
     "data": {
      "text/plain": [
       "{'glove': <torchtext.vocab.GloVe at 0x158e96690>,\n",
       " 'dim': 300,\n",
       " 'vectors': tensor([[ 0.1838, -0.1212, -0.1199,  ..., -0.0390,  0.1827,  0.1465],\n",
       "         [-0.2084, -0.1493, -0.0175,  ..., -0.5407,  0.2120, -0.0094],\n",
       "         [ 0.1088,  0.0022,  0.2221,  ..., -0.2970,  0.1594, -0.1490],\n",
       "         ...,\n",
       "         [ 0.2736,  0.0413, -0.1227,  ..., -0.3318,  0.0379,  0.0564],\n",
       "         [-0.0524,  0.3214,  0.2324,  ..., -0.0813,  0.0481, -0.0872],\n",
       "         [-0.1197,  0.1602, -0.2492,  ..., -0.0909,  0.2783,  0.1137]]),\n",
       " 'lemmatize': True,\n",
       " 'corenlp_annotators': ['tokenize', 'ssplit', 'lemma']}"
      ]
     },
     "execution_count": 57,
     "metadata": {},
     "output_type": "execute_result"
    }
   ],
   "source": [
    "model.encoder.preproc.word_emb.__dict__"
   ]
  },
  {
   "cell_type": "code",
   "execution_count": null,
   "metadata": {},
   "outputs": [],
   "source": []
  }
 ],
 "metadata": {
  "kernelspec": {
   "display_name": "Python 3",
   "language": "python",
   "name": "python3"
  },
  "language_info": {
   "codemirror_mode": {
    "name": "ipython",
    "version": 3
   },
   "file_extension": ".py",
   "mimetype": "text/x-python",
   "name": "python",
   "nbconvert_exporter": "python",
   "pygments_lexer": "ipython3",
   "version": "3.7.5"
  },
  "toc": {
   "base_numbering": 1,
   "nav_menu": {},
   "number_sections": true,
   "sideBar": true,
   "skip_h1_title": false,
   "title_cell": "Table of Contents",
   "title_sidebar": "Contents",
   "toc_cell": false,
   "toc_position": {
    "height": "calc(100% - 180px)",
    "left": "10px",
    "top": "150px",
    "width": "336px"
   },
   "toc_section_display": true,
   "toc_window_display": true
  }
 },
 "nbformat": 4,
 "nbformat_minor": 4
}
